{
 "cells": [
  {
   "cell_type": "markdown",
   "metadata": {
    "id": "34qVD_ntSKLF"
   },
   "source": [
    "# Learning to optimize parametric nonlinear programming problem (pNLP) using Neuromancer\n",
    "\n",
    "\n",
    "This is an interactive notebook based on the python script [Part_1_LearnToOptimize_tutorial.py](./Part_1_LearnToOptimize_tutorial.py).  \n",
    "\n",
    "We will demonstrate the capability of learning to optimize (L2O)\n",
    "for solving [parametric nonlinear programming problem (pNLP)](https://en.wikipedia.org/wiki/Parametric_programming) defined as:\n",
    "\n",
    "$$\n",
    "\\begin{align}\n",
    "&\\text{minimize } &&  f(x, \\theta) \\\\\n",
    "&\\text{subject to} && g(x, \\theta) \\le 0\n",
    "\\end{align}\n",
    "$$\n",
    "\n",
    "with  parameters $\\theta$ and decision variables $x$.\n",
    "\n",
    "In L2O train a neural network mapping problem parameters onto the primal decision variables $x = \\pi(\\theta)$ by using gradients of the optimizaiton problem to minimize the objective function and satisfy the constraints.\n",
    "\n",
    "### References\n",
    "[1] [F. Fioretto, et al., Predicting AC Optimal Power Flows: Combining Deep Learning and Lagrangian Dual Methods, 2019](https://arxiv.org/abs/1909.10461)  \n",
    "[2] [S. Gould, et al., Deep Declarative Networks: A New Hope, 2020](https://arxiv.org/abs/1909.04866)  \n",
    "[3] [P. Donti, et al., DC3: A learning method for optimization with hard constraints, 2021](https://arxiv.org/abs/2104.12225)  \n",
    "[4] [J. Kotary, et al., End-to-End Constrained Optimization Learning: A Survey, 2021](https://arxiv.org/abs/2103.16378)  \n",
    "[5] [M. Li, et al., Learning to Solve Optimization Problems with Hard Linear Constraints, 2022](https://arxiv.org/abs/2208.10611)  \n",
    "[6] [R. Sambharya, et al., End-to-End Learning to Warm-Start for Real-Time Quadratic Optimization, 2022](https://arxiv.org/abs/2212.08260)  \n",
    "\n"
   ]
  },
  {
   "cell_type": "markdown",
   "metadata": {
    "id": "OCn3zpaIqgMc"
   },
   "source": [
    "## NeuroMANCER and Dependencies"
   ]
  },
  {
   "cell_type": "markdown",
   "metadata": {
    "id": "Qzy5Wot5k2Gf"
   },
   "source": [
    "### Install (Colab only)\n",
    "Skip this step when running locally."
   ]
  },
  {
   "cell_type": "code",
   "execution_count": null,
   "metadata": {
    "colab": {
     "base_uri": "https://localhost:8080/",
     "height": 1000
    },
    "id": "X_3EvkSz0Fnz",
    "outputId": "23c06f6b-ab48-4763-c43c-40a325cacf87"
   },
   "outputs": [],
   "source": [
    "!pip install \"neuromancer[examples] @ git+https://github.com/pnnl/neuromancer.git@master\"\n",
    "!pip install lightning \n"
   ]
  },
  {
   "cell_type": "markdown",
   "metadata": {
    "id": "LWyvndXlz0Fv"
   },
   "source": [
    "### Import"
   ]
  },
  {
   "cell_type": "code",
   "execution_count": 4,
   "metadata": {
    "id": "KbP0n-4evRqt"
   },
   "outputs": [],
   "source": [
    "import torch\n",
    "import torch.nn as nn\n",
    "import numpy as np\n",
    "import neuromancer.slim as slim\n",
    "import matplotlib.pyplot as plt\n",
    "import matplotlib.patheffects as patheffects\n",
    "import casadi\n",
    "import time\n",
    "\n",
    "import lightning.pytorch as pl \n"
   ]
  },
  {
   "cell_type": "code",
   "execution_count": 5,
   "metadata": {
    "id": "POL27EJZxJmI"
   },
   "outputs": [],
   "source": [
    "from neuromancer.trainer import Trainer, LitTrainer\n",
    "from neuromancer.problem import Problem, LitProblem\n",
    "from neuromancer.constraint import variable\n",
    "from neuromancer.dataset import DictDataset, LitDataModule\n",
    "from neuromancer.loss import PenaltyLoss\n",
    "from neuromancer.modules import blocks\n",
    "from neuromancer.system import Node\n"
   ]
  },
  {
   "cell_type": "markdown",
   "metadata": {},
   "source": [
    "# Problem formulation\n",
    "\n",
    "In this example we will solve parametric constrained [Rosenbrock problem](https://en.wikipedia.org/wiki/Rosenbrock_function):\n",
    "\n",
    "$$\n",
    "\\begin{align}\n",
    "&\\text{minimize } &&  (1-x)^2 + a(y-x^2)^2\\\\\n",
    "&\\text{subject to} && \\left(\\frac{p}{2}\\right)^2 \\le x^2 + y^2 \\le p^2\\\\\n",
    "& && x \\ge y\n",
    "\\end{align}\n",
    "$$\n",
    "\n",
    "with parameters $p, a$ and decision variables $x, y$.\n"
   ]
  },
  {
   "cell_type": "markdown",
   "metadata": {},
   "source": [
    "The workflow when using Lightning consists of three parts: \n",
    "\n",
    "1. Defining a \"data_setup_function() -- this function should return 4 values (train, dev, test datasets, and batch size). The datasets should be Neuromancer DictDatasets. \n",
    "2. Defining the Problem -- consisting of Nodes, System, Loss. \n",
    "3. Instantiating the PyTorch-Lightning -based Trainer (LitTrainer class)\n",
    "\n",
    "For this notebook, we assume all operations are done on the CPU. "
   ]
  },
  {
   "cell_type": "markdown",
   "metadata": {
    "id": "_WH7o7Wu1epw"
   },
   "source": [
    "## Dataset\n",
    "\n",
    "We constructy the dataset by sampling the parametric space."
   ]
  },
  {
   "cell_type": "code",
   "execution_count": 6,
   "metadata": {
    "id": "_r6p2p6myHAh"
   },
   "outputs": [],
   "source": [
    "data_seed = 408  # random seed used for simulated data\n",
    "np.random.seed(data_seed)\n",
    "torch.manual_seed(data_seed)\n",
    "nsim = 5000  # number of datapoints: increase sample density for more robust results\n",
    "\n",
    "# create dictionaries with sampled datapoints with uniform distribution\n",
    "a_low, a_high, p_low, p_high = 0.2, 1.2, 0.5, 2.0"
   ]
  },
  {
   "cell_type": "markdown",
   "metadata": {
    "id": "JZ9qrw0tlJhs"
   },
   "source": [
    "Randomly sample parameters from a uniform distribution: $0.5\\le p\\le2.0$;  $0.2\\le a\\le1.2$"
   ]
  },
  {
   "cell_type": "code",
   "execution_count": 7,
   "metadata": {
    "id": "Nu58M-8JyHy6"
   },
   "outputs": [],
   "source": [
    "\n",
    "def data_setup_function(nsim, a_low, a_high, p_low, p_high): \n",
    "\n",
    "    \n",
    "    samples_train = {\"a\": torch.FloatTensor(nsim, 1).uniform_(a_low, a_high),\n",
    "                    \"p\": torch.FloatTensor(nsim, 1).uniform_(p_low, p_high)}\n",
    "    samples_dev = {\"a\": torch.FloatTensor(nsim, 1).uniform_(a_low, a_high),\n",
    "                \"p\": torch.FloatTensor(nsim, 1).uniform_(p_low, p_high)}\n",
    "    samples_test = {\"a\": torch.FloatTensor(nsim, 1).uniform_(a_low, a_high),\n",
    "                \"p\": torch.FloatTensor(nsim, 1).uniform_(p_low, p_high)}\n",
    "    # create named dictionary datasets\n",
    "    train_data = DictDataset(samples_train, name='train')\n",
    "    dev_data = DictDataset(samples_dev, name='dev')\n",
    "    test_data = DictDataset(samples_test, name='test')\n",
    "\n",
    "    batch_size = 64\n",
    "\n",
    "    # Return the dict datasets in train, dev, test order, followed by batch_size \n",
    "    # If dev dataset is not wanted to be used, return None \n",
    "    return train_data, None, test_data, batch_size \n",
    "\n"
   ]
  },
  {
   "cell_type": "markdown",
   "metadata": {
    "id": "Y2htUaWMDjsk"
   },
   "source": [
    "## Primal Solution Map Architecture\n",
    "\n",
    "A neural network mapping problem parameters onto primal decision variables:  \n",
    "$$x = \\pi(\\theta)$$"
   ]
  },
  {
   "cell_type": "code",
   "execution_count": 11,
   "metadata": {
    "id": "Ta_I_pjyyLzf"
   },
   "outputs": [],
   "source": [
    "# define neural architecture for the trainable solution map\n",
    "func = blocks.MLP(insize=2, outsize=2,\n",
    "                bias=True,\n",
    "                linear_map=slim.maps['linear'],\n",
    "                nonlin=nn.ReLU,\n",
    "                hsizes=[80] * 4)\n",
    "# wrap neural net into symbolic representation of the solution map via the Node class: sol_map(xi) -> x\n",
    "sol_map = Node(func, ['a', 'p'], ['x'], name='map')"
   ]
  },
  {
   "cell_type": "markdown",
   "metadata": {
    "id": "Lxj77EFj7EO-"
   },
   "source": [
    "## Objective and Constraints in NeuroMANCER"
   ]
  },
  {
   "cell_type": "code",
   "execution_count": 12,
   "metadata": {
    "id": "bcoVjphjyPp9"
   },
   "outputs": [],
   "source": [
    "\"\"\"\n",
    "variable is a basic symbolic abstraction in Neuromancer\n",
    "   x = variable(\"variable_name\")                      (instantiates new variable)  \n",
    "variable construction supports:\n",
    "   algebraic expressions:     x**2 + x**3 + 5     (instantiates new variable)  \n",
    "   slicing:                   x[:, i]             (instantiates new variable)  \n",
    "   pytorch callables:         torch.sin(x)        (instantiates new variable)  \n",
    "   constraints definition:    x <= 1.0            (instantiates Constraint object) \n",
    "   objective definition:      x.minimize()        (instantiates Objective object) \n",
    "to visualize computational graph of the variable use x.show() method          \n",
    "\"\"\"\n",
    "\n",
    "# define decision variables\n",
    "x1 = variable(\"x\")[:, [0]]\n",
    "x2 = variable(\"x\")[:, [1]]\n",
    "# problem parameters sampled in the dataset\n",
    "p = variable('p')\n",
    "a = variable('a')\n",
    "\n",
    "# objective function\n",
    "f = (1-x1)**2 + a*(x2-x1**2)**2\n",
    "obj = f.minimize(weight=1.0, name='obj')\n",
    "\n",
    "# constraints\n",
    "Q_con = 100.  # constraint penalty weights\n",
    "con_1 = Q_con*(x1 >= x2)\n",
    "con_2 = Q_con*((p/2)**2 <= x1**2+x2**2)\n",
    "con_3 = Q_con*(x1**2+x2**2 <= p**2)\n",
    "con_1.name = 'c1'\n",
    "con_2.name = 'c2'\n",
    "con_3.name = 'c3'"
   ]
  },
  {
   "cell_type": "code",
   "execution_count": 13,
   "metadata": {
    "colab": {
     "base_uri": "https://localhost:8080/",
     "height": 496
    },
    "id": "n7VPa9Wc8JRB",
    "outputId": "0da17c45-6370-4f46-f626-bd5686b94bfc"
   },
   "outputs": [],
   "source": [
    "# constrained optimization problem construction\n",
    "objectives = [obj]\n",
    "constraints = [con_1, con_2, con_3]\n",
    "components = [sol_map]\n",
    "\n",
    "# create penalty method loss function\n",
    "loss = PenaltyLoss(objectives, constraints)\n",
    "# construct constrained optimization problem\n",
    "problem = Problem(components, loss)"
   ]
  },
  {
   "cell_type": "markdown",
   "metadata": {},
   "source": [
    "# Define Lightning Modules"
   ]
  },
  {
   "cell_type": "code",
   "execution_count": 33,
   "metadata": {},
   "outputs": [],
   "source": []
  },
  {
   "cell_type": "markdown",
   "metadata": {},
   "source": [
    "# Train Using PyTorch Lightning"
   ]
  },
  {
   "cell_type": "code",
   "execution_count": 34,
   "metadata": {},
   "outputs": [
    {
     "name": "stderr",
     "output_type": "stream",
     "text": [
      "GPU available: False, used: False\n",
      "TPU available: False, using: 0 TPU cores\n",
      "IPU available: False, using: 0 IPUs\n",
      "HPU available: False, using: 0 HPUs\n",
      "/Users/birm560/opt/anaconda3/envs/neuromancer/lib/python3.10/site-packages/lightning/pytorch/trainer/configuration_validator.py:72: You passed in a `val_dataloader` but have no `validation_step`. Skipping val loop.\n",
      "\n",
      "  | Name    | Type    | Params\n",
      "------------------------------------\n",
      "0 | problem | Problem | 19.8 K\n",
      "------------------------------------\n",
      "19.8 K    Trainable params\n",
      "0         Non-trainable params\n",
      "19.8 K    Total params\n",
      "0.079     Total estimated model params size (MB)\n"
     ]
    },
    {
     "name": "stderr",
     "output_type": "stream",
     "text": [
      "/Users/birm560/opt/anaconda3/envs/neuromancer/lib/python3.10/site-packages/lightning/pytorch/trainer/connectors/data_connector.py:441: The 'train_dataloader' does not have many workers which may be a bottleneck. Consider increasing the value of the `num_workers` argument` to `num_workers=15` in the `DataLoader` to improve performance.\n"
     ]
    },
    {
     "name": "stdout",
     "output_type": "stream",
     "text": [
      "Epoch 0: 100%|██████████| 79/79 [00:01<00:00, 63.25it/s, v_num=20]EPOCH AVERAGE  tensor(0.0596, grad_fn=<MeanBackward0>)\n",
      "Epoch 1: 100%|██████████| 79/79 [00:00<00:00, 85.24it/s, v_num=20]EPOCH AVERAGE  tensor(0.0588, grad_fn=<MeanBackward0>)\n",
      "Epoch 2: 100%|██████████| 79/79 [00:00<00:00, 94.03it/s, v_num=20]EPOCH AVERAGE  tensor(0.0612, grad_fn=<MeanBackward0>)\n",
      "Epoch 3: 100%|██████████| 79/79 [00:00<00:00, 102.20it/s, v_num=20]EPOCH AVERAGE  tensor(0.0605, grad_fn=<MeanBackward0>)\n",
      "Epoch 4: 100%|██████████| 79/79 [00:00<00:00, 105.07it/s, v_num=20]EPOCH AVERAGE  tensor(0.0595, grad_fn=<MeanBackward0>)\n",
      "Epoch 5: 100%|██████████| 79/79 [00:00<00:00, 101.22it/s, v_num=20]EPOCH AVERAGE  tensor(0.0591, grad_fn=<MeanBackward0>)\n",
      "Epoch 6: 100%|██████████| 79/79 [00:00<00:00, 105.14it/s, v_num=20]EPOCH AVERAGE  tensor(0.0616, grad_fn=<MeanBackward0>)\n",
      "Epoch 7: 100%|██████████| 79/79 [00:00<00:00, 107.24it/s, v_num=20]EPOCH AVERAGE  tensor(0.0606, grad_fn=<MeanBackward0>)\n",
      "Epoch 8: 100%|██████████| 79/79 [00:00<00:00, 105.59it/s, v_num=20]EPOCH AVERAGE  tensor(0.0612, grad_fn=<MeanBackward0>)\n",
      "Epoch 9: 100%|██████████| 79/79 [00:00<00:00, 96.76it/s, v_num=20] EPOCH AVERAGE  tensor(0.0613, grad_fn=<MeanBackward0>)\n",
      "Epoch 10: 100%|██████████| 79/79 [00:00<00:00, 96.55it/s, v_num=20] EPOCH AVERAGE  tensor(0.0615, grad_fn=<MeanBackward0>)\n",
      "Epoch 11: 100%|██████████| 79/79 [00:01<00:00, 70.57it/s, v_num=20]EPOCH AVERAGE  tensor(0.0600, grad_fn=<MeanBackward0>)\n",
      "Epoch 12: 100%|██████████| 79/79 [00:01<00:00, 72.41it/s, v_num=20]EPOCH AVERAGE  tensor(0.0609, grad_fn=<MeanBackward0>)\n",
      "Epoch 13: 100%|██████████| 79/79 [00:01<00:00, 67.49it/s, v_num=20]EPOCH AVERAGE  tensor(0.0606, grad_fn=<MeanBackward0>)\n",
      "Epoch 14: 100%|██████████| 79/79 [00:01<00:00, 67.66it/s, v_num=20]EPOCH AVERAGE  tensor(0.0612, grad_fn=<MeanBackward0>)\n",
      "Epoch 15: 100%|██████████| 79/79 [00:01<00:00, 61.54it/s, v_num=20]EPOCH AVERAGE  tensor(0.0604, grad_fn=<MeanBackward0>)\n",
      "Epoch 16: 100%|██████████| 79/79 [00:01<00:00, 77.00it/s, v_num=20]EPOCH AVERAGE  tensor(0.0623, grad_fn=<MeanBackward0>)\n",
      "Epoch 17: 100%|██████████| 79/79 [00:00<00:00, 80.32it/s, v_num=20]EPOCH AVERAGE  tensor(0.0616, grad_fn=<MeanBackward0>)\n",
      "Epoch 18: 100%|██████████| 79/79 [00:00<00:00, 87.52it/s, v_num=20]EPOCH AVERAGE  tensor(0.0596, grad_fn=<MeanBackward0>)\n",
      "Epoch 19: 100%|██████████| 79/79 [00:00<00:00, 99.25it/s, v_num=20]EPOCH AVERAGE  tensor(0.0607, grad_fn=<MeanBackward0>)\n"
     ]
    },
    {
     "name": "stderr",
     "output_type": "stream",
     "text": [
      "`Trainer.fit` stopped: `max_epochs=20` reached.\n"
     ]
    },
    {
     "name": "stdout",
     "output_type": "stream",
     "text": [
      "Epoch 19: 100%|██████████| 79/79 [00:00<00:00, 96.78it/s, v_num=20]\n"
     ]
    }
   ],
   "source": [
    "model = LitProblem(problem, train_metric='train_loss', dev_metric='train_loss')\n",
    "data_module = LightningDataModule(data_setup_function=data_setup_function, batch_size=64)\n",
    "trainer = pl.Trainer(max_epochs=20, num_sanity_val_steps=0)\n",
    "trainer.fit(model, data_module)"
   ]
  },
  {
   "cell_type": "markdown",
   "metadata": {
    "id": "icWSMeG28SKc"
   },
   "source": [
    "## Parametric Problem Solution in NeuroMANCER"
   ]
  },
  {
   "cell_type": "code",
   "execution_count": 37,
   "metadata": {
    "id": "rk1bRczByUvl"
   },
   "outputs": [],
   "source": [
    "lr = 0.001      # step size for gradient descent\n",
    "epochs = 400    # number of training epochs\n",
    "warmup = 100    # number of epochs to wait before enacting early stopping policy\n",
    "patience = 100  # number of epochs with no improvement in eval metric to allow before early stopping"
   ]
  },
  {
   "cell_type": "code",
   "execution_count": 38,
   "metadata": {
    "id": "x4oS2N2ZyWtD"
   },
   "outputs": [],
   "source": [
    "optimizer = torch.optim.AdamW(problem.parameters(), lr=lr)\n",
    "\n",
    "# define trainer\n",
    "trainer = Trainer(\n",
    "    problem,\n",
    "    train_loader,\n",
    "    dev_loader,\n",
    "    test_loader,\n",
    "    optimizer,\n",
    "    epochs=epochs,\n",
    "    patience=patience,\n",
    "    warmup=warmup)"
   ]
  },
  {
   "cell_type": "code",
   "execution_count": 39,
   "metadata": {
    "colab": {
     "base_uri": "https://localhost:8080/"
    },
    "id": "27ASQD3q-M0A",
    "outputId": "04eec20c-51c3-4a71-e570-9636af9421c0"
   },
   "outputs": [
    {
     "name": "stdout",
     "output_type": "stream",
     "text": [
      "epoch: 0  train_loss: 0.06656379252672195\n",
      "epoch: 1  train_loss: 0.06053765490651131\n",
      "epoch: 2  train_loss: 0.06149037927389145\n",
      "epoch: 3  train_loss: 0.06822418421506882\n",
      "epoch: 4  train_loss: 0.07178667932748795\n",
      "epoch: 5  train_loss: 0.05971056967973709\n",
      "epoch: 6  train_loss: 0.06326249986886978\n",
      "epoch: 7  train_loss: 0.05923514813184738\n",
      "epoch: 8  train_loss: 0.06209183484315872\n",
      "epoch: 9  train_loss: 0.0609293170273304\n",
      "epoch: 10  train_loss: 0.058502864092588425\n",
      "epoch: 11  train_loss: 0.06029532477259636\n",
      "epoch: 12  train_loss: 0.0610412135720253\n",
      "epoch: 13  train_loss: 0.0586276613175869\n",
      "epoch: 14  train_loss: 0.07020330429077148\n",
      "epoch: 15  train_loss: 0.08000552654266357\n",
      "epoch: 16  train_loss: 0.0636485144495964\n",
      "Interrupted training loop.\n"
     ]
    },
    {
     "data": {
      "text/plain": [
       "<All keys matched successfully>"
      ]
     },
     "execution_count": 39,
     "metadata": {},
     "output_type": "execute_result"
    }
   ],
   "source": [
    "# Train NLP solution map\n",
    "best_model = trainer.train()\n",
    "best_outputs = trainer.test(best_model)\n",
    "# load best model dict\n",
    "problem.load_state_dict(best_model)"
   ]
  },
  {
   "cell_type": "markdown",
   "metadata": {
    "id": "0hhUw4PVBWmb"
   },
   "source": [
    "## Get pNLP solution from trained neural network"
   ]
  },
  {
   "cell_type": "code",
   "execution_count": 12,
   "metadata": {},
   "outputs": [],
   "source": [
    "# selected problem parameters\n",
    "p = 1.0\n",
    "a = 1.0"
   ]
  },
  {
   "cell_type": "code",
   "execution_count": 13,
   "metadata": {
    "colab": {
     "base_uri": "https://localhost:8080/"
    },
    "id": "os3I3I8L3HbE",
    "outputId": "50c13f99-7693-4102-b65c-4f3707f90c29"
   },
   "outputs": [
    {
     "name": "stdout",
     "output_type": "stream",
     "text": [
      "0.7767074\n",
      "0.5304637\n"
     ]
    }
   ],
   "source": [
    "# Solution to mpNLP via Neuromancer\n",
    "datapoint = {'a': torch.tensor([[a]]), 'p': torch.tensor([[p]]),\n",
    "             'name': 'test'}\n",
    "model_out = problem(datapoint)\n",
    "x_nm = model_out['test_' + \"x\"][0, 0].detach().numpy()\n",
    "y_nm = model_out['test_' + \"x\"][0, 1].detach().numpy()\n",
    "print(x_nm)\n",
    "print(y_nm)"
   ]
  },
  {
   "cell_type": "markdown",
   "metadata": {
    "id": "g-KmqqUj-Q3E"
   },
   "source": [
    "## Get pNLP solution from CasADi for comparison\n",
    "\n",
    "[CasADi](https://web.casadi.org/) is an open-source tool for constrained optimization and optimal control that has influenced the development of NeuroMANCER."
   ]
  },
  {
   "cell_type": "code",
   "execution_count": 14,
   "metadata": {
    "id": "dmJERFP2yYuC"
   },
   "outputs": [
    {
     "name": "stdout",
     "output_type": "stream",
     "text": [
      "\n",
      "******************************************************************************\n",
      "This program contains Ipopt, a library for large-scale nonlinear optimization.\n",
      " Ipopt is released as open source code under the Eclipse Public License (EPL).\n",
      "         For more information visit https://github.com/coin-or/Ipopt\n",
      "******************************************************************************\n",
      "\n",
      "This is Ipopt version 3.14.11, running with linear solver MUMPS 5.4.1.\n",
      "\n",
      "Number of nonzeros in equality constraint Jacobian...:        0\n",
      "Number of nonzeros in inequality constraint Jacobian.:        6\n",
      "Number of nonzeros in Lagrangian Hessian.............:        3\n",
      "\n",
      "Total number of variables............................:        2\n",
      "                     variables with only lower bounds:        0\n",
      "                variables with lower and upper bounds:        0\n",
      "                     variables with only upper bounds:        0\n",
      "Total number of equality constraints.................:        0\n",
      "Total number of inequality constraints...............:        3\n",
      "        inequality constraints with only lower bounds:        1\n",
      "   inequality constraints with lower and upper bounds:        0\n",
      "        inequality constraints with only upper bounds:        2\n",
      "\n",
      "iter    objective    inf_pr   inf_du lg(mu)  ||d||  lg(rg) alpha_du alpha_pr  ls\n",
      "   0  1.0000000e+00 2.50e-01 1.67e+00  -1.0 0.00e+00    -  0.00e+00 0.00e+00   0\n",
      "   1  9.5811923e-01 2.49e-01 1.71e+01  -1.0 5.59e-01    -  5.26e-01 3.81e-02h  1\n",
      "   2  5.1823940e-01 1.40e-02 1.95e+01  -1.0 2.12e+01    -  1.25e-03 3.12e-02f  6\n",
      "   3  3.2701557e-01 0.00e+00 5.64e-01  -1.0 2.47e-01    -  1.00e+00 1.00e+00f  1\n",
      "   4  1.5594126e-01 0.00e+00 9.02e-01  -1.7 4.58e-01    -  3.11e-01 1.00e+00f  1\n",
      "   5  5.3473898e-02 0.00e+00 2.99e-01  -1.7 5.51e-01    -  1.00e+00 1.00e+00h  1\n",
      "   6  5.7915701e-02 0.00e+00 6.95e-03  -1.7 2.57e-02    -  1.00e+00 1.00e+00h  1\n",
      "   7  4.4884709e-02 0.00e+00 7.47e-03  -3.8 9.13e-02    -  8.77e-01 1.00e+00h  1\n",
      "   8  4.1207939e-02 0.00e+00 2.60e-04  -3.8 3.58e-02    -  1.00e+00 1.00e+00h  1\n",
      "   9  4.0921509e-02 0.00e+00 8.22e-07  -5.7 2.98e-03    -  1.00e+00 1.00e+00h  1\n",
      "iter    objective    inf_pr   inf_du lg(mu)  ||d||  lg(rg) alpha_du alpha_pr  ls\n",
      "  10  4.0919039e-02 0.00e+00 7.11e-11  -8.6 2.53e-05    -  1.00e+00 1.00e+00h  1\n",
      "\n",
      "Number of Iterations....: 10\n",
      "\n",
      "                                   (scaled)                 (unscaled)\n",
      "Objective...............:   4.0919038633377619e-02    4.0919038633377619e-02\n",
      "Dual infeasibility......:   7.1118860800467587e-11    7.1118860800467587e-11\n",
      "Constraint violation....:   0.0000000000000000e+00    0.0000000000000000e+00\n",
      "Variable bound violation:   0.0000000000000000e+00    0.0000000000000000e+00\n",
      "Complementarity.........:   2.6584596762655841e-09    2.6584596762655841e-09\n",
      "Overall NLP error.......:   2.6584596762655841e-09    2.6584596762655841e-09\n",
      "\n",
      "\n",
      "Number of objective function evaluations             = 18\n",
      "Number of objective gradient evaluations             = 11\n",
      "Number of equality constraint evaluations            = 0\n",
      "Number of inequality constraint evaluations          = 18\n",
      "Number of equality constraint Jacobian evaluations   = 0\n",
      "Number of inequality constraint Jacobian evaluations = 11\n",
      "Number of Lagrangian Hessian evaluations             = 10\n",
      "Total seconds in IPOPT                               = 0.008\n",
      "\n",
      "EXIT: Optimal Solution Found.\n",
      "      solver  :   t_proc      (avg)   t_wall      (avg)    n_eval\n",
      "       nlp_f  |        0 (       0)  12.00us (666.67ns)        18\n",
      "       nlp_g  |        0 (       0)  15.00us (833.33ns)        18\n",
      "  nlp_grad_f  |        0 (       0)  24.00us (  2.00us)        12\n",
      "  nlp_hess_l  |        0 (       0)  22.00us (  2.20us)        10\n",
      "   nlp_jac_g  |        0 (       0)  36.00us (  3.00us)        12\n",
      "       total  |  11.00ms ( 11.00ms)   8.18ms (  8.18ms)         1\n"
     ]
    }
   ],
   "source": [
    "# instantiate casadi optimizaiton problem class\n",
    "def NLP_param(a, p, opti_silent=False):\n",
    "    opti = casadi.Opti()\n",
    "    # define variables\n",
    "    x = opti.variable()\n",
    "    y = opti.variable()\n",
    "    p_opti = opti.parameter()\n",
    "    a_opti = opti.parameter()\n",
    "    # define objective and constraints\n",
    "    opti.minimize((1 - x) ** 2 + a_opti * (y - x ** 2) ** 2)\n",
    "    opti.subject_to(x >= y)\n",
    "    opti.subject_to((p_opti / 2) ** 2 <= x ** 2 + y ** 2)\n",
    "    opti.subject_to(x ** 2 + y ** 2 <= p_opti ** 2)\n",
    "    # select IPOPT solver and solve the NLP\n",
    "    if opti_silent:\n",
    "        opts = {'ipopt.print_level': 0, 'print_time': 0, 'ipopt.sb': 'yes'}\n",
    "    else:\n",
    "        opts = {}\n",
    "    opti.solver('ipopt', opts)\n",
    "    # set parametric values\n",
    "    opti.set_value(p_opti, p)\n",
    "    opti.set_value(a_opti, a)\n",
    "    return opti, x, y\n",
    "\n",
    "# construct casadi problem\n",
    "opti, x, y = NLP_param(a, p)\n",
    "# solve NLP via casadi\n",
    "sol = opti.solve()"
   ]
  },
  {
   "cell_type": "code",
   "execution_count": 15,
   "metadata": {
    "colab": {
     "base_uri": "https://localhost:8080/"
    },
    "id": "MvXjYHNjISrC",
    "outputId": "69a77f30-0ba5-411e-9d15-3cb7f15d9154"
   },
   "outputs": [
    {
     "name": "stdout",
     "output_type": "stream",
     "text": [
      "x = 0.8081695826847699\n",
      "y = 0.588949838491767\n"
     ]
    }
   ],
   "source": [
    "print(f\"x = {sol.value(x)}\")\n",
    "print(f\"y = {sol.value(y)}\")"
   ]
  },
  {
   "cell_type": "markdown",
   "metadata": {
    "id": "pcNq5fOVE4lR"
   },
   "source": [
    "## Compare: NeuroMANCER vs. CasADi"
   ]
  },
  {
   "cell_type": "code",
   "execution_count": 16,
   "metadata": {
    "colab": {
     "base_uri": "https://localhost:8080/",
     "height": 281
    },
    "id": "kvYCfjq6zxxC",
    "outputId": "322e5b72-b93d-4d9e-a913-8703aad67d1a"
   },
   "outputs": [
    {
     "name": "stdout",
     "output_type": "stream",
     "text": [
      "0.7767074\n",
      "0.5304637\n"
     ]
    },
    {
     "data": {
      "image/png": "[encoded data removed]",
      "text/plain": [
       "<Figure size 640x480 with 2 Axes>"
      ]
     },
     "metadata": {},
     "output_type": "display_data"
    }
   ],
   "source": [
    "\"\"\"\n",
    "Plots\n",
    "\"\"\"\n",
    "x1 = np.arange(-0.5, 1.5, 0.02)\n",
    "y1 = np.arange(-0.5, 1.5, 0.02)\n",
    "xx, yy = np.meshgrid(x1, y1)\n",
    "\n",
    "# eval objective and constraints\n",
    "J = (1 - xx) ** 2 + a * (yy - xx ** 2) ** 2\n",
    "c1 = xx - yy\n",
    "c2 = xx ** 2 + yy ** 2 - (p / 2) ** 2\n",
    "c3 = -(xx ** 2 + yy ** 2) + p ** 2\n",
    "\n",
    "fig, ax = plt.subplots(1, 1)\n",
    "cp = ax.contourf(xx, yy, J,\n",
    "                 levels=[0, 0.05, 0.2, 0.5, 1.0, 2.0, 4.0, 6.0, 8.0],\n",
    "                 alpha=0.6)\n",
    "fig.colorbar(cp)\n",
    "ax.set_title('Rosenbrock problem')\n",
    "cg1 = ax.contour(xx, yy, c1, [0], colors='mediumblue', alpha=0.7)\n",
    "plt.setp(cg1.collections,\n",
    "         path_effects=[patheffects.withTickedStroke()], alpha=0.7)\n",
    "cg2 = ax.contour(xx, yy, c2, [0], colors='mediumblue', alpha=0.7)\n",
    "plt.setp(cg2.collections,\n",
    "         path_effects=[patheffects.withTickedStroke()], alpha=0.7)\n",
    "cg3 = ax.contour(xx, yy, c3, [0], colors='mediumblue', alpha=0.7)\n",
    "plt.setp(cg3.collections,\n",
    "         path_effects=[patheffects.withTickedStroke()], alpha=0.7)\n",
    "\n",
    "# Solution to mpNLP via Neuromancer\n",
    "datapoint = {'a': torch.tensor([[a]]), 'p': torch.tensor([[p]]),\n",
    "             'name': 'test'}\n",
    "model_out = problem(datapoint)\n",
    "x_nm = model_out['test_' + \"x\"][0, 0].detach().numpy()\n",
    "y_nm = model_out['test_' + \"x\"][0, 1].detach().numpy()\n",
    "print(x_nm)\n",
    "print(y_nm)\n",
    "\n",
    "# plot optimal solutions CasADi vs Neuromancer\n",
    "ax.plot(sol.value(x), sol.value(y), 'g*', markersize=10, label='CasADi')\n",
    "ax.plot(x_nm, y_nm, 'r*', fillstyle='none', markersize=10, label='NeuroMANCER')\n",
    "plt.legend(bbox_to_anchor=(1.0, 0.15))\n",
    "plt.show(block=True)"
   ]
  },
  {
   "cell_type": "code",
   "execution_count": 17,
   "metadata": {
    "id": "yD5kAnjy4CUL"
   },
   "outputs": [],
   "source": [
    "def eval_constraints(x, y, p):\n",
    "    \"\"\"\n",
    "    evaluate mean constraints violations\n",
    "    \"\"\"\n",
    "    con_1_viol = np.maximum(0, y - x)\n",
    "    con_2_viol = np.maximum(0, (p/2)**2 - (x**2+y**2))\n",
    "    con_3_viol = np.maximum(0, x**2+y**2 - p**2)\n",
    "    con_viol = con_1_viol + con_2_viol + con_3_viol\n",
    "    con_viol_mean = np.mean(con_viol)\n",
    "    return con_viol_mean\n",
    "\n",
    "def eval_objective(x, y):\n",
    "    obj_value_mean = np.mean((1 - x) ** 2 + a * (y - x ** 2) ** 2)   \n",
    "    return obj_value_mean\n",
    "\n",
    "# select n number of random samples to evaluate\n",
    "n_samples = 1000\n",
    "idx = np.random.randint(0, nsim, n_samples)\n",
    "p_samples = samples_test['p'][idx]\n",
    "a_samples = samples_test['a'][idx]"
   ]
  },
  {
   "cell_type": "code",
   "execution_count": 25,
   "metadata": {
    "id": "r85kJ1Dr_nQ2"
   },
   "outputs": [],
   "source": [
    "# create named dictionary for neuromancer\n",
    "datapoint = {'a': a_samples, 'p': p_samples, 'name': 'test'}\n",
    "\n",
    "# Solve via neuromancer\n",
    "t = time.time()\n",
    "model_out = problem(datapoint)\n",
    "nm_time = time.time() - t\n",
    "x_nm = model_out['test_' + \"x\"][:, [0]].detach().numpy()\n",
    "y_nm = model_out['test_' + \"x\"][:, [1]].detach().numpy()"
   ]
  },
  {
   "cell_type": "code",
   "execution_count": 26,
   "metadata": {
    "id": "gemVhNU2AALr"
   },
   "outputs": [],
   "source": [
    "# Solve via solver\n",
    "t = time.time()\n",
    "x_solver, y_solver = [], []\n",
    "for i in range(0, n_samples):\n",
    "    prob, x, y = NLP_param(p_samples[i].numpy(), a_samples[i].numpy(), opti_silent=True)\n",
    "    sol = prob.solve()\n",
    "    x_solver.append(sol.value(x))\n",
    "    y_solver.append(sol.value(y))\n",
    "solver_time = time.time() - t\n",
    "x_solver = np.asarray(x_solver)\n",
    "y_solver = np.asarray(y_solver)"
   ]
  },
  {
   "cell_type": "code",
   "execution_count": 27,
   "metadata": {
    "colab": {
     "base_uri": "https://localhost:8080/"
    },
    "id": "5n-SG-TuADib",
    "outputId": "6a251657-0b4d-41f9-80c0-537966f1f6f0"
   },
   "outputs": [
    {
     "name": "stdout",
     "output_type": "stream",
     "text": [
      "Solution for 1000 problems via Neuromancer obtained in 0.0038 seconds\n",
      "Neuromancer mean constraints violation 0.3537\n",
      "Neuromancer mean objective value 0.0610\n",
      "\n",
      "Solution for 1000 problems via solver obtained in 9.5317 seconds\n",
      "Solver mean constraints violation 0.0746\n",
      "Solver mean objective value 0.2036\n",
      "\n",
      "Solution speedup factor 2540.9132\n",
      "MSE primal optimizers: 0.11051816632586187\n",
      "mean objective value discrepancy: 70.02 %\n"
     ]
    }
   ],
   "source": [
    "# Evaluate neuromancer solution\n",
    "print(f'Solution for {n_samples} problems via Neuromancer obtained in {nm_time:.4f} seconds')\n",
    "nm_con_viol_mean = eval_constraints(x_nm, y_nm, p)\n",
    "print(f'Neuromancer mean constraints violation {nm_con_viol_mean:.4f}')\n",
    "nm_obj_mean = eval_objective(x_nm, y_nm)\n",
    "print(f'Neuromancer mean objective value {nm_obj_mean:.4f}\\n')\n",
    "\n",
    "# Evaluate solver solution\n",
    "print(f'Solution for {n_samples} problems via solver obtained in {solver_time:.4f} seconds')\n",
    "solver_con_viol_mean = eval_constraints(x_solver, y_solver, p)\n",
    "print(f'Solver mean constraints violation {solver_con_viol_mean:.4f}')\n",
    "solver_obj_mean = eval_objective(x_solver, y_solver)\n",
    "print(f'Solver mean objective value {solver_obj_mean:.4f}\\n')\n",
    "\n",
    "# neuromancer solver comparison\n",
    "speedup_factor = solver_time/nm_time\n",
    "print(f'Solution speedup factor {speedup_factor:.4f}')\n",
    "\n",
    "# Difference in primal optimizers\n",
    "dx = (x_solver - x_nm)[:,0]\n",
    "dy = (y_solver - y_nm)[:,0]\n",
    "err_x = np.mean(dx**2)\n",
    "err_y = np.mean(dy**2)\n",
    "err_primal = err_x + err_y\n",
    "print('MSE primal optimizers:', err_primal)\n",
    "\n",
    "# Difference in objective\n",
    "err_obj = np.abs(solver_obj_mean - nm_obj_mean) / solver_obj_mean * 100\n",
    "print(f'mean objective value discrepancy: {err_obj:.2f} %')"
   ]
  },
  {
   "cell_type": "code",
   "execution_count": null,
   "metadata": {},
   "outputs": [],
   "source": []
  },
  {
   "cell_type": "code",
   "execution_count": null,
   "metadata": {},
   "outputs": [],
   "source": []
  }
 ],
 "metadata": {
  "colab": {
   "provenance": []
  },
  "kernelspec": {
   "display_name": "neuromancer",
   "language": "python",
   "name": "python3"
  },
  "language_info": {
   "codemirror_mode": {
    "name": "ipython",
    "version": 3
   },
   "file_extension": ".py",
   "mimetype": "text/x-python",
   "name": "python",
   "nbconvert_exporter": "python",
   "pygments_lexer": "ipython3",
   "version": "3.10.13"
  }
 },
 "nbformat": 4,
 "nbformat_minor": 1
}
