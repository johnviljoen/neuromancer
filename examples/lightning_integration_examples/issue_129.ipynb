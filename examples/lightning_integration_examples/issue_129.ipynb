{
 "cells": [
  {
   "cell_type": "code",
   "execution_count": 1,
   "metadata": {},
   "outputs": [
    {
     "name": "stdout",
     "output_type": "stream",
     "text": [
      "Expected Returns:\n",
      "[0.00604818 0.00572572]\n",
      "Covariance Matrix:\n",
      "[[0.0006422  0.0005215 ]\n",
      " [0.0005215  0.00043878]]\n"
     ]
    }
   ],
   "source": [
    "import numpy as np\n",
    "import torch\n",
    "from torch import nn\n",
    "from torch.utils.data import DataLoader\n",
    "\n",
    "import neuromancer as nm\n",
    "from neuromancer.dataset import DictDataset\n",
    "\n",
    "import lightning.pytorch as pl \n",
    "from lightning.pytorch.callbacks import ModelCheckpoint\n",
    "from lightning.pytorch.callbacks.early_stopping import EarlyStopping\n",
    "from torch.utils.data import Dataset, DataLoader\n",
    "\n",
    "num_vars = 2\n",
    "# expected returns\n",
    "exp_returns = np.random.uniform(0.002, 0.01, num_vars)\n",
    "print(\"Expected Returns:\")\n",
    "print(exp_returns)\n",
    "# covariance matrix\n",
    "A = np.random.rand(num_vars, num_vars)\n",
    "# positive semi-definite matrix\n",
    "cov_matrix = A @ A.T / 1000\n",
    "print(\"Covariance Matrix:\")\n",
    "print(cov_matrix)\n",
    "\n",
    "# generate data\n",
    "p_low, p_high = max(min(exp_returns),0), max(exp_returns)\n",
    "data_train = DictDataset({\"p\": torch.FloatTensor(1000, 1).uniform_(p_low, p_high)})\n",
    "data_test = DictDataset({\"p\": torch.FloatTensor(100, 1).uniform_(p_low, p_high)})\n",
    "data_dev = DictDataset({\"p\": torch.FloatTensor(100, 1).uniform_(p_low, p_high)})\n",
    "\n",
    "def data_setup_function(exp_returns): \n",
    "    p_low, p_high = max(min(exp_returns),0), max(exp_returns)\n",
    "    data_train = DictDataset({\"p\": torch.FloatTensor(1000, 1).uniform_(p_low, p_high)})\n",
    "    data_test = DictDataset({\"p\": torch.FloatTensor(100, 1).uniform_(p_low, p_high)})\n",
    "    data_dev = DictDataset({\"p\": torch.FloatTensor(100, 1).uniform_(p_low, p_high)})\n",
    "    return data_train, data_dev, data_test\n",
    "\n"
   ]
  },
  {
   "cell_type": "code",
   "execution_count": 31,
   "metadata": {},
   "outputs": [
    {
     "data": {
      "text/plain": [
       "x"
      ]
     },
     "execution_count": 31,
     "metadata": {},
     "output_type": "execute_result"
    }
   ],
   "source": []
  },
  {
   "cell_type": "code",
   "execution_count": 2,
   "metadata": {},
   "outputs": [
    {
     "ename": "AttributeError",
     "evalue": "'NotImplementedType' object has no attribute 'add_edges'",
     "output_type": "error",
     "traceback": [
      "\u001b[0;31m---------------------------------------------------------------------------\u001b[0m",
      "\u001b[0;31mAttributeError\u001b[0m                            Traceback (most recent call last)",
      "Cell \u001b[0;32mIn[2], line 2\u001b[0m\n\u001b[1;32m      1\u001b[0m \u001b[38;5;66;03m# parameters\u001b[39;00m\n\u001b[0;32m----> 2\u001b[0m p \u001b[38;5;241m=\u001b[39m \u001b[43mnm\u001b[49m\u001b[38;5;241;43m.\u001b[39;49m\u001b[43mconstraint\u001b[49m\u001b[38;5;241;43m.\u001b[39;49m\u001b[43mvariable\u001b[49m\u001b[43m(\u001b[49m\u001b[38;5;124;43m\"\u001b[39;49m\u001b[38;5;124;43mp\u001b[39;49m\u001b[38;5;124;43m\"\u001b[39;49m\u001b[43m)\u001b[49m\n\u001b[1;32m      3\u001b[0m \u001b[38;5;66;03m# variables\u001b[39;00m\n\u001b[1;32m      4\u001b[0m x \u001b[38;5;241m=\u001b[39m nm\u001b[38;5;241m.\u001b[39mconstraint\u001b[38;5;241m.\u001b[39mvariable(\u001b[38;5;124m\"\u001b[39m\u001b[38;5;124mx\u001b[39m\u001b[38;5;124m\"\u001b[39m)\n",
      "File \u001b[0;32m~/miniconda3/envs/neuromancer3/lib/python3.10/site-packages/plum/function.py:592\u001b[0m, in \u001b[0;36mFunction.__call__\u001b[0;34m(self, *args, **kw_args)\u001b[0m\n\u001b[1;32m    590\u001b[0m \u001b[38;5;66;03m# Cache failed. Get method and return type, and perform call.\u001b[39;00m\n\u001b[1;32m    591\u001b[0m method, return_type \u001b[38;5;241m=\u001b[39m \u001b[38;5;28mself\u001b[39m\u001b[38;5;241m.\u001b[39mresolve_method(\u001b[38;5;241m*\u001b[39msig_types)\n\u001b[0;32m--> 592\u001b[0m \u001b[38;5;28;01mreturn\u001b[39;00m _convert(\u001b[43mmethod\u001b[49m\u001b[43m(\u001b[49m\u001b[38;5;241;43m*\u001b[39;49m\u001b[43margs\u001b[49m\u001b[43m,\u001b[49m\u001b[43m \u001b[49m\u001b[38;5;241;43m*\u001b[39;49m\u001b[38;5;241;43m*\u001b[39;49m\u001b[43mkw_args\u001b[49m\u001b[43m)\u001b[49m, return_type)\n",
      "File \u001b[0;32m~/neuromancer/src/neuromancer/constraint.py:676\u001b[0m, in \u001b[0;36mvariable\u001b[0;34m(key)\u001b[0m\n\u001b[1;32m    674\u001b[0m     \u001b[38;5;28;01mraise\u001b[39;00m \u001b[38;5;167;01mRuntimeError\u001b[39;00m(\u001b[38;5;124m\"\u001b[39m\u001b[38;5;124meval_node should never be called on an input_node\u001b[39m\u001b[38;5;124m\"\u001b[39m)\n\u001b[1;32m    675\u001b[0m func \u001b[38;5;241m=\u001b[39m raise_err\n\u001b[0;32m--> 676\u001b[0m \u001b[38;5;28;01mreturn\u001b[39;00m \u001b[43mVariable\u001b[49m\u001b[43m(\u001b[49m\u001b[43mkey\u001b[49m\u001b[38;5;241;43m=\u001b[39;49m\u001b[43mkey\u001b[49m\u001b[43m,\u001b[49m\u001b[43m \u001b[49m\u001b[43mfunc\u001b[49m\u001b[38;5;241;43m=\u001b[39;49m\u001b[43mfunc\u001b[49m\u001b[43m)\u001b[49m\n",
      "File \u001b[0;32m~/neuromancer/src/neuromancer/constraint.py:355\u001b[0m, in \u001b[0;36mVariable.__init__\u001b[0;34m(self, input_variables, func, key, display_name, value)\u001b[0m\n\u001b[1;32m    353\u001b[0m     value \u001b[38;5;241m=\u001b[39m nn\u001b[38;5;241m.\u001b[39mParameter(value)\n\u001b[1;32m    354\u001b[0m \u001b[38;5;28mself\u001b[39m\u001b[38;5;241m.\u001b[39m_value \u001b[38;5;241m=\u001b[39m value\n\u001b[0;32m--> 355\u001b[0m \u001b[38;5;28mself\u001b[39m\u001b[38;5;241m.\u001b[39m_g, \u001b[38;5;28mself\u001b[39m\u001b[38;5;241m.\u001b[39mordered_nodes \u001b[38;5;241m=\u001b[39m \u001b[38;5;28;43mself\u001b[39;49m\u001b[38;5;241;43m.\u001b[39;49m\u001b[43mmake_graph\u001b[49m\u001b[43m(\u001b[49m\u001b[43minput_variables\u001b[49m\u001b[43m)\u001b[49m\n\u001b[1;32m    357\u001b[0m \u001b[38;5;28mself\u001b[39m\u001b[38;5;241m.\u001b[39m_is_input \u001b[38;5;241m=\u001b[39m key \u001b[38;5;129;01mis\u001b[39;00m \u001b[38;5;129;01mnot\u001b[39;00m \u001b[38;5;28;01mNone\u001b[39;00m\n\u001b[1;32m    358\u001b[0m \u001b[38;5;28mself\u001b[39m\u001b[38;5;241m.\u001b[39mkey \u001b[38;5;241m=\u001b[39m key\n",
      "File \u001b[0;32m~/neuromancer/src/neuromancer/constraint.py:431\u001b[0m, in \u001b[0;36mVariable.make_graph\u001b[0;34m(self, input_variables)\u001b[0m\n\u001b[1;32m    429\u001b[0m         _input_variables \u001b[38;5;241m+\u001b[39m\u001b[38;5;241m=\u001b[39m [copy\u001b[38;5;241m.\u001b[39mcopy(i)]\n\u001b[1;32m    430\u001b[0m edges \u001b[38;5;241m=\u001b[39m [(i, \u001b[38;5;28mstr\u001b[39m(\u001b[38;5;28mself\u001b[39m)) \u001b[38;5;28;01mfor\u001b[39;00m i \u001b[38;5;129;01min\u001b[39;00m _input_variables]\n\u001b[0;32m--> 431\u001b[0m \u001b[43mg\u001b[49m\u001b[38;5;241;43m.\u001b[39;49m\u001b[43madd_edges\u001b[49m(edges)\n\u001b[1;32m    433\u001b[0m ordered_nodes \u001b[38;5;241m=\u001b[39m nn\u001b[38;5;241m.\u001b[39mModuleList(g\u001b[38;5;241m.\u001b[39mtopological_sorting())[:\u001b[38;5;241m-\u001b[39m\u001b[38;5;241m1\u001b[39m]\n\u001b[1;32m    434\u001b[0m \u001b[38;5;66;03m#ordered_nodes.remove(str(self))  # Remove self from ordered_nodes\u001b[39;00m\n",
      "\u001b[0;31mAttributeError\u001b[0m: 'NotImplementedType' object has no attribute 'add_edges'"
     ]
    }
   ],
   "source": [
    "\n",
    "# parameters\n",
    "p = nm.constraint.variable(\"p\")\n",
    "# variables\n",
    "x = nm.constraint.variable(\"x\")\n",
    "\n",
    "# objective function\n",
    "# Reshape x to (num_samples, num_vars, 1)\n",
    "f = sum(cov_matrix[i, j] * x[:, i] * x[:, j] for i in range(num_vars) for j in range(num_vars))\n",
    "\n",
    "\n",
    "obj = [f.minimize(weight=1.0, name=\"obj\")]\n",
    "\n",
    "# constraints\n",
    "constrs = []\n",
    "# constr: 100 units\n",
    "con = 100 * (sum(x[:, i] for i in range(num_vars)) == 1)\n",
    "con.name = \"c_units\"\n",
    "constrs.append(con)\n",
    "# constr: expected return\n",
    "con = 100 * (sum(exp_returns[i] * x[:, i] for i in range(num_vars)) >= p[:, 0])\n",
    "con.name = \"c_return\"\n",
    "constrs.append(con)\n",
    "\n",
    "# define neural architecture for the solution map\n",
    "func = nm.modules.blocks.MLP(insize=1, outsize=num_vars, bias=True,\n",
    "                             linear_map=nm.slim.maps[\"linear\"], nonlin=nn.ReLU, hsizes=[5]*4)\n",
    "# solution map from model parameters: sol_map(p) -> x\n",
    "sol_map = nm.system.Node(func, [\"p\"], [\"x\"], name=\"smap\")\n",
    "# trainable components\n",
    "components = [sol_map]\n",
    "\n",
    "# merit loss function\n",
    "loss = nm.loss.PenaltyLoss(obj, constrs)\n",
    "# problem\n",
    "problem = nm.problem.Problem(components, loss)\n",
    "\n",
    "# training\n",
    "lr = 0.001  # step size for gradient descent\n",
    "epochs = 20  # number of training epochs\n",
    "warmup = 50  # number of epochs to wait before enacting early stopping policy\n",
    "patience = 50  # number of epochs with no improvement in eval metric to allow before early stopping\n",
    "batch_size = 32\n",
    "# set adamW as optimizer\n",
    "optimizer = torch.optim.AdamW(problem.parameters(), lr=lr)\n",
    "# define trainer\n"
   ]
  },
  {
   "cell_type": "code",
   "execution_count": 24,
   "metadata": {},
   "outputs": [
    {
     "data": {
      "text/plain": [
       "32"
      ]
     },
     "execution_count": 24,
     "metadata": {},
     "output_type": "execute_result"
    }
   ],
   "source": [
    "graphz = f._g\n",
    "graphz.number_of_edges()"
   ]
  },
  {
   "cell_type": "code",
   "execution_count": 7,
   "metadata": {},
   "outputs": [
    {
     "data": {
      "text/plain": [
       "Objective: obj(x) = 1.0 * <built-in method mean of type object at 0x7fb00b40e540>(x)"
      ]
     },
     "execution_count": 7,
     "metadata": {},
     "output_type": "execute_result"
    }
   ],
   "source": [
    "woo = loss.objectives\n",
    "woo[0]"
   ]
  },
  {
   "cell_type": "code",
   "execution_count": 3,
   "metadata": {},
   "outputs": [
    {
     "data": {
      "image/png": "[encoded data removed]",
      "text/plain": [
       "<Figure size 640x480 with 1 Axes>"
      ]
     },
     "metadata": {},
     "output_type": "display_data"
    }
   ],
   "source": [
    "problem.show()"
   ]
  },
  {
   "cell_type": "code",
   "execution_count": 15,
   "metadata": {},
   "outputs": [],
   "source": [
    "class LightningDataModule(pl.LightningDataModule): \n",
    "    def __init__(self,data_setup_function, batch_size, **kwargs): \n",
    "        super().__init__()\n",
    "        self.data_setup_function = data_setup_function\n",
    "        self.batch_size = batch_size \n",
    "        self.data_setup_kwargs = kwargs\n",
    "        print(self.data_setup_kwargs)\n",
    "\n",
    "        self.train_data = None \n",
    "        self.dev_data = None \n",
    "        self.test_data = None \n",
    "\n",
    "    def setup(self, stage=None): \n",
    "        train_data, dev_data, test_data = self.data_setup_function(**self.data_setup_kwargs)\n",
    "        \n",
    "        self.train_data = train_data\n",
    "      \n",
    "        self.dev_data = dev_data\n",
    "     \n",
    "        self.test_data = test_data\n",
    " \n",
    "    def train_dataloader(self): \n",
    "        return DataLoader(self.train_data, batch_size=self.batch_size, collate_fn=self.train_data.collate_fn, device=self.device)\n",
    "    \n",
    "    def val_dataloader(self): \n",
    "        return DataLoader(self.dev_data, batch_size=self.batch_size, collate_fn=self.dev_data.collate_fn)\n",
    "    def test_dataloader(self): \n",
    "        return DataLoader(self.test_data, batch_size=self.batch_size, collate_fn=self.dev_data.collate_fn)\n",
    "    \n",
    "\n",
    "\n",
    "\n",
    "class LitProblem(pl.LightningModule): \n",
    "    def __init__(self, problem, train_metric='train_loss', dev_metric='dev_loss', test_metric='test_loss', custom_optimizer=None): \n",
    "        super().__init__()\n",
    "        self.problem = problem \n",
    "        self.train_metric = train_metric\n",
    "        self.dev_metric = dev_metric\n",
    "        self.test_metric = test_metric\n",
    "        self.custom_optimizer = custom_optimizer\n",
    "        self.training_step_outputs = []\n",
    "        self.validation_step_outputs = []\n",
    "    \n",
    "    def training_step(self, batch): \n",
    "        output = self.problem(batch)\n",
    "        loss = output[self.train_metric]\n",
    "        self.training_step_outputs.append(loss)\n",
    "        self.log('train_loss', loss, on_epoch=True, enable_graph=True, prog_bar=False)\n",
    "        return loss \n",
    "    \n",
    "    def on_train_epoch_end(self):\n",
    "        epoch_average = torch.stack(self.training_step_outputs).mean()\n",
    "        print(\"EPOCH AVERAGE \", epoch_average)\n",
    "        self.log(\"training_epoch_average\", epoch_average)\n",
    "        self.training_step_outputs.clear()  # free memory\n",
    "\n",
    "    def on_validation_epoch_end(self):\n",
    "        epoch_average = torch.stack(self.validation_step_outputs).mean()\n",
    "        print(\"VAL EPOCH AVERAGE \", epoch_average)\n",
    "        self.log(\"validation_epoch_average\", epoch_average)\n",
    "        self.validation_step_outputs.clear()  # free memory\n",
    "\n",
    "    \n",
    "    def validation_step(self, batch): \n",
    "        output = self.problem(batch)\n",
    "        #assert self.dev_metric in output, f\"Error: {self.dev_metric} not found in problem output\"\n",
    "        loss = output[self.dev_metric]\n",
    "        self.validation_step_outputs.append(loss)\n",
    "        self.log('dev_loss', loss)\n",
    "    \n",
    "    def configure_optimizers(self): \n",
    "        if self.custom_optimizer is None: \n",
    "            optimizer = torch.optim.Adam(self.problem.parameters(), 0.001, betas=(0.0, 0.9))\n",
    "        else: \n",
    "            optimizer = self.custom_optimizer\n",
    "        return optimizer \n",
    "    def get_problem(self): \n",
    "        return self.problem\n",
    "\n",
    "class LightningTrainer(pl.Trainer):\n",
    "    def __init__(self, *args,**kwargs):\n",
    "\n",
    "\n",
    "        self.lit_problem = None \n",
    "\n",
    "        self.epochs = 1000\n",
    "        self.train_metric = 'train_loss'\n",
    "        self.dev_metric = 'dev_loss'\n",
    "        self.test_metric = 'test_loss'\n",
    "        self.eval_metric = 'dev_loss'\n",
    "        self.patience = 5 \n",
    "        self.warmup = 0 \n",
    "        self.clip = 100.0\n",
    "\n",
    "        self.setup_attributes(*args, **kwargs)\n",
    "\n",
    "        self.model_checkpoint = ModelCheckpoint(\n",
    "            save_weights_only=True,\n",
    "            monitor=self.dev_metric,\n",
    "            dirpath='./',\n",
    "            mode='min',\n",
    "            save_top_k=1, \n",
    "            verbose=True\n",
    "        )\n",
    "\n",
    "        super().__init__(max_epochs=self.epochs, callbacks=[self.model_checkpoint])\n",
    "\n",
    "    def setup_attributes(self, *args, **kwargs): \n",
    "        if 'epochs' in kwargs:\n",
    "            self.epochs = kwargs['epochs']\n",
    "     \n",
    "        if 'train_metric' in kwargs:\n",
    "            self.train_metric = kwargs['train_metric']\n",
    "\n",
    "        if 'dev_metric' in kwargs:\n",
    "            self.dev_metric = kwargs['dev_metric']\n",
    "\n",
    "        if 'test_metric' in kwargs:\n",
    "            self.test_metric = kwargs['test_metric']\n",
    "\n",
    "        if 'eval_metric' in kwargs:\n",
    "            self.eval_metric = kwargs['eval_metric']\n",
    "\n",
    "        if 'patience' in kwargs:\n",
    "            self.patience = kwargs['patience']\n",
    "\n",
    "        if 'warmup' in kwargs:\n",
    "            self.warmup = kwargs['warmup']\n",
    "\n",
    "        if 'clip' in kwargs:\n",
    "            self.clip = kwargs['clip']\n",
    "\n",
    "        if 'custom_optimizer' in kwargs: \n",
    "            self.custom_optimizer = kwargs['custom_optimizer']\n",
    "\n",
    "    def get_weights(self):\n",
    "        # Implement your custom method logic here\n",
    "        best_model = self.lit_problem.state_dict()\n",
    "        dev_loss_weights = self.model_checkpoint.best_model_path\n",
    "        return dev_loss_weights\n",
    "    \n",
    "    def get_problem(self): \n",
    "        return self.lit_problem.problem\n",
    "\n",
    "    def fit(self, problem, datamodule):\n",
    "\n",
    "        if self.lit_problem is None: \n",
    "            self.lit_problem = LitProblem(problem,self.train_metric, self.dev_metric, self.test_metric, self.custom_optimizer )\n",
    "        # Override the fit method if needed\n",
    "        super().fit(self.lit_problem, datamodule)\n",
    "        return self.get_weights()"
   ]
  },
  {
   "cell_type": "code",
   "execution_count": 16,
   "metadata": {},
   "outputs": [
    {
     "name": "stderr",
     "output_type": "stream",
     "text": [
      "GPU available: False, used: False\n",
      "TPU available: False, using: 0 TPU cores\n",
      "IPU available: False, using: 0 IPUs\n",
      "HPU available: False, using: 0 HPUs\n"
     ]
    },
    {
     "name": "stdout",
     "output_type": "stream",
     "text": [
      "{'exp_returns': array([0.00364282, 0.00590949])}\n"
     ]
    }
   ],
   "source": [
    "lit_data_module = LightningDataModule(data_setup_function=data_setup_function, batch_size=batch_size,exp_returns=exp_returns)\n",
    "\n",
    "lit_trainer = LightningTrainer(epochs=2, accelerator=\"auto\", devices=\"auto\", strategy=\"auto\", custom_optimizer=optimizer, dev_metric='train_loss')\n",
    "#best_problem_weights = lit_trainer.fit(problem, lit_data_module)"
   ]
  },
  {
   "cell_type": "code",
   "execution_count": 17,
   "metadata": {},
   "outputs": [
    {
     "name": "stderr",
     "output_type": "stream",
     "text": [
      "/Users/birm560/opt/anaconda3/envs/neuromancer2/lib/python3.10/site-packages/lightning/pytorch/callbacks/model_checkpoint.py:639: Checkpoint directory ./ exists and is not empty.\n",
      "\n",
      "  | Name    | Type    | Params\n",
      "------------------------------------\n",
      "0 | problem | Problem | 112   \n",
      "------------------------------------\n",
      "112       Trainable params\n",
      "0         Non-trainable params\n",
      "112       Total params\n",
      "0.000     Total estimated model params size (MB)\n"
     ]
    },
    {
     "name": "stdout",
     "output_type": "stream",
     "text": [
      "Sanity Checking DataLoader 0: 100%|██████████| 2/2 [00:00<00:00, 242.40it/s]VAL EPOCH AVERAGE  tensor(72.9652)\n",
      "                                                                            "
     ]
    },
    {
     "name": "stderr",
     "output_type": "stream",
     "text": [
      "/Users/birm560/opt/anaconda3/envs/neuromancer2/lib/python3.10/site-packages/lightning/pytorch/trainer/connectors/data_connector.py:441: The 'val_dataloader' does not have many workers which may be a bottleneck. Consider increasing the value of the `num_workers` argument` to `num_workers=15` in the `DataLoader` to improve performance.\n",
      "/Users/birm560/opt/anaconda3/envs/neuromancer2/lib/python3.10/site-packages/neuromancer/constraint.py:160: UserWarning: Using a target size (torch.Size([])) that is different to the input size (torch.Size([32])). This will likely lead to incorrect results due to broadcasting. Please ensure they have the same size.\n",
      "  loss = F.l1_loss(left, right)\n"
     ]
    },
    {
     "name": "stdout",
     "output_type": "stream",
     "text": [
      "\r"
     ]
    },
    {
     "ename": "AttributeError",
     "evalue": "'LightningDataModule' object has no attribute 'device'",
     "output_type": "error",
     "traceback": [
      "\u001b[0;31m---------------------------------------------------------------------------\u001b[0m",
      "\u001b[0;31mAttributeError\u001b[0m                            Traceback (most recent call last)",
      "\u001b[1;32m/Users/birm560/Library/CloudStorage/OneDrive-PNNL/Documents/neuromancer/neuromancer/examples/scaling_up/issue_129.ipynb Cell 5\u001b[0m line \u001b[0;36m1\n\u001b[0;32m----> <a href='vscode-notebook-cell:/Users/birm560/Library/CloudStorage/OneDrive-PNNL/Documents/neuromancer/neuromancer/examples/scaling_up/issue_129.ipynb#W4sZmlsZQ%3D%3D?line=0'>1</a>\u001b[0m best_problem_weights \u001b[39m=\u001b[39m lit_trainer\u001b[39m.\u001b[39;49mfit(problem, lit_data_module)\n",
      "\u001b[1;32m/Users/birm560/Library/CloudStorage/OneDrive-PNNL/Documents/neuromancer/neuromancer/examples/scaling_up/issue_129.ipynb Cell 5\u001b[0m line \u001b[0;36m1\n\u001b[1;32m    <a href='vscode-notebook-cell:/Users/birm560/Library/CloudStorage/OneDrive-PNNL/Documents/neuromancer/neuromancer/examples/scaling_up/issue_129.ipynb#W4sZmlsZQ%3D%3D?line=147'>148</a>\u001b[0m     \u001b[39mself\u001b[39m\u001b[39m.\u001b[39mlit_problem \u001b[39m=\u001b[39m LitProblem(problem,\u001b[39mself\u001b[39m\u001b[39m.\u001b[39mtrain_metric, \u001b[39mself\u001b[39m\u001b[39m.\u001b[39mdev_metric, \u001b[39mself\u001b[39m\u001b[39m.\u001b[39mtest_metric, \u001b[39mself\u001b[39m\u001b[39m.\u001b[39mcustom_optimizer )\n\u001b[1;32m    <a href='vscode-notebook-cell:/Users/birm560/Library/CloudStorage/OneDrive-PNNL/Documents/neuromancer/neuromancer/examples/scaling_up/issue_129.ipynb#W4sZmlsZQ%3D%3D?line=148'>149</a>\u001b[0m \u001b[39m# Override the fit method if needed\u001b[39;00m\n\u001b[0;32m--> <a href='vscode-notebook-cell:/Users/birm560/Library/CloudStorage/OneDrive-PNNL/Documents/neuromancer/neuromancer/examples/scaling_up/issue_129.ipynb#W4sZmlsZQ%3D%3D?line=149'>150</a>\u001b[0m \u001b[39msuper\u001b[39;49m()\u001b[39m.\u001b[39;49mfit(\u001b[39mself\u001b[39;49m\u001b[39m.\u001b[39;49mlit_problem, datamodule)\n\u001b[1;32m    <a href='vscode-notebook-cell:/Users/birm560/Library/CloudStorage/OneDrive-PNNL/Documents/neuromancer/neuromancer/examples/scaling_up/issue_129.ipynb#W4sZmlsZQ%3D%3D?line=150'>151</a>\u001b[0m \u001b[39mreturn\u001b[39;00m \u001b[39mself\u001b[39m\u001b[39m.\u001b[39mget_weights()\n",
      "File \u001b[0;32m~/opt/anaconda3/envs/neuromancer2/lib/python3.10/site-packages/lightning/pytorch/trainer/trainer.py:544\u001b[0m, in \u001b[0;36mTrainer.fit\u001b[0;34m(self, model, train_dataloaders, val_dataloaders, datamodule, ckpt_path)\u001b[0m\n\u001b[1;32m    542\u001b[0m \u001b[39mself\u001b[39m\u001b[39m.\u001b[39mstate\u001b[39m.\u001b[39mstatus \u001b[39m=\u001b[39m TrainerStatus\u001b[39m.\u001b[39mRUNNING\n\u001b[1;32m    543\u001b[0m \u001b[39mself\u001b[39m\u001b[39m.\u001b[39mtraining \u001b[39m=\u001b[39m \u001b[39mTrue\u001b[39;00m\n\u001b[0;32m--> 544\u001b[0m call\u001b[39m.\u001b[39;49m_call_and_handle_interrupt(\n\u001b[1;32m    545\u001b[0m     \u001b[39mself\u001b[39;49m, \u001b[39mself\u001b[39;49m\u001b[39m.\u001b[39;49m_fit_impl, model, train_dataloaders, val_dataloaders, datamodule, ckpt_path\n\u001b[1;32m    546\u001b[0m )\n",
      "File \u001b[0;32m~/opt/anaconda3/envs/neuromancer2/lib/python3.10/site-packages/lightning/pytorch/trainer/call.py:44\u001b[0m, in \u001b[0;36m_call_and_handle_interrupt\u001b[0;34m(trainer, trainer_fn, *args, **kwargs)\u001b[0m\n\u001b[1;32m     42\u001b[0m     \u001b[39mif\u001b[39;00m trainer\u001b[39m.\u001b[39mstrategy\u001b[39m.\u001b[39mlauncher \u001b[39mis\u001b[39;00m \u001b[39mnot\u001b[39;00m \u001b[39mNone\u001b[39;00m:\n\u001b[1;32m     43\u001b[0m         \u001b[39mreturn\u001b[39;00m trainer\u001b[39m.\u001b[39mstrategy\u001b[39m.\u001b[39mlauncher\u001b[39m.\u001b[39mlaunch(trainer_fn, \u001b[39m*\u001b[39margs, trainer\u001b[39m=\u001b[39mtrainer, \u001b[39m*\u001b[39m\u001b[39m*\u001b[39mkwargs)\n\u001b[0;32m---> 44\u001b[0m     \u001b[39mreturn\u001b[39;00m trainer_fn(\u001b[39m*\u001b[39;49margs, \u001b[39m*\u001b[39;49m\u001b[39m*\u001b[39;49mkwargs)\n\u001b[1;32m     46\u001b[0m \u001b[39mexcept\u001b[39;00m _TunerExitException:\n\u001b[1;32m     47\u001b[0m     _call_teardown_hook(trainer)\n",
      "File \u001b[0;32m~/opt/anaconda3/envs/neuromancer2/lib/python3.10/site-packages/lightning/pytorch/trainer/trainer.py:580\u001b[0m, in \u001b[0;36mTrainer._fit_impl\u001b[0;34m(self, model, train_dataloaders, val_dataloaders, datamodule, ckpt_path)\u001b[0m\n\u001b[1;32m    573\u001b[0m \u001b[39massert\u001b[39;00m \u001b[39mself\u001b[39m\u001b[39m.\u001b[39mstate\u001b[39m.\u001b[39mfn \u001b[39mis\u001b[39;00m \u001b[39mnot\u001b[39;00m \u001b[39mNone\u001b[39;00m\n\u001b[1;32m    574\u001b[0m ckpt_path \u001b[39m=\u001b[39m \u001b[39mself\u001b[39m\u001b[39m.\u001b[39m_checkpoint_connector\u001b[39m.\u001b[39m_select_ckpt_path(\n\u001b[1;32m    575\u001b[0m     \u001b[39mself\u001b[39m\u001b[39m.\u001b[39mstate\u001b[39m.\u001b[39mfn,\n\u001b[1;32m    576\u001b[0m     ckpt_path,\n\u001b[1;32m    577\u001b[0m     model_provided\u001b[39m=\u001b[39m\u001b[39mTrue\u001b[39;00m,\n\u001b[1;32m    578\u001b[0m     model_connected\u001b[39m=\u001b[39m\u001b[39mself\u001b[39m\u001b[39m.\u001b[39mlightning_module \u001b[39mis\u001b[39;00m \u001b[39mnot\u001b[39;00m \u001b[39mNone\u001b[39;00m,\n\u001b[1;32m    579\u001b[0m )\n\u001b[0;32m--> 580\u001b[0m \u001b[39mself\u001b[39;49m\u001b[39m.\u001b[39;49m_run(model, ckpt_path\u001b[39m=\u001b[39;49mckpt_path)\n\u001b[1;32m    582\u001b[0m \u001b[39massert\u001b[39;00m \u001b[39mself\u001b[39m\u001b[39m.\u001b[39mstate\u001b[39m.\u001b[39mstopped\n\u001b[1;32m    583\u001b[0m \u001b[39mself\u001b[39m\u001b[39m.\u001b[39mtraining \u001b[39m=\u001b[39m \u001b[39mFalse\u001b[39;00m\n",
      "File \u001b[0;32m~/opt/anaconda3/envs/neuromancer2/lib/python3.10/site-packages/lightning/pytorch/trainer/trainer.py:989\u001b[0m, in \u001b[0;36mTrainer._run\u001b[0;34m(self, model, ckpt_path)\u001b[0m\n\u001b[1;32m    984\u001b[0m \u001b[39mself\u001b[39m\u001b[39m.\u001b[39m_signal_connector\u001b[39m.\u001b[39mregister_signal_handlers()\n\u001b[1;32m    986\u001b[0m \u001b[39m# ----------------------------\u001b[39;00m\n\u001b[1;32m    987\u001b[0m \u001b[39m# RUN THE TRAINER\u001b[39;00m\n\u001b[1;32m    988\u001b[0m \u001b[39m# ----------------------------\u001b[39;00m\n\u001b[0;32m--> 989\u001b[0m results \u001b[39m=\u001b[39m \u001b[39mself\u001b[39;49m\u001b[39m.\u001b[39;49m_run_stage()\n\u001b[1;32m    991\u001b[0m \u001b[39m# ----------------------------\u001b[39;00m\n\u001b[1;32m    992\u001b[0m \u001b[39m# POST-Training CLEAN UP\u001b[39;00m\n\u001b[1;32m    993\u001b[0m \u001b[39m# ----------------------------\u001b[39;00m\n\u001b[1;32m    994\u001b[0m log\u001b[39m.\u001b[39mdebug(\u001b[39mf\u001b[39m\u001b[39m\"\u001b[39m\u001b[39m{\u001b[39;00m\u001b[39mself\u001b[39m\u001b[39m.\u001b[39m\u001b[39m__class__\u001b[39m\u001b[39m.\u001b[39m\u001b[39m__name__\u001b[39m\u001b[39m}\u001b[39;00m\u001b[39m: trainer tearing down\u001b[39m\u001b[39m\"\u001b[39m)\n",
      "File \u001b[0;32m~/opt/anaconda3/envs/neuromancer2/lib/python3.10/site-packages/lightning/pytorch/trainer/trainer.py:1035\u001b[0m, in \u001b[0;36mTrainer._run_stage\u001b[0;34m(self)\u001b[0m\n\u001b[1;32m   1033\u001b[0m         \u001b[39mself\u001b[39m\u001b[39m.\u001b[39m_run_sanity_check()\n\u001b[1;32m   1034\u001b[0m     \u001b[39mwith\u001b[39;00m torch\u001b[39m.\u001b[39mautograd\u001b[39m.\u001b[39mset_detect_anomaly(\u001b[39mself\u001b[39m\u001b[39m.\u001b[39m_detect_anomaly):\n\u001b[0;32m-> 1035\u001b[0m         \u001b[39mself\u001b[39;49m\u001b[39m.\u001b[39;49mfit_loop\u001b[39m.\u001b[39;49mrun()\n\u001b[1;32m   1036\u001b[0m     \u001b[39mreturn\u001b[39;00m \u001b[39mNone\u001b[39;00m\n\u001b[1;32m   1037\u001b[0m \u001b[39mraise\u001b[39;00m \u001b[39mRuntimeError\u001b[39;00m(\u001b[39mf\u001b[39m\u001b[39m\"\u001b[39m\u001b[39mUnexpected state \u001b[39m\u001b[39m{\u001b[39;00m\u001b[39mself\u001b[39m\u001b[39m.\u001b[39mstate\u001b[39m}\u001b[39;00m\u001b[39m\"\u001b[39m)\n",
      "File \u001b[0;32m~/opt/anaconda3/envs/neuromancer2/lib/python3.10/site-packages/lightning/pytorch/loops/fit_loop.py:194\u001b[0m, in \u001b[0;36m_FitLoop.run\u001b[0;34m(self)\u001b[0m\n\u001b[1;32m    193\u001b[0m \u001b[39mdef\u001b[39;00m \u001b[39mrun\u001b[39m(\u001b[39mself\u001b[39m) \u001b[39m-\u001b[39m\u001b[39m>\u001b[39m \u001b[39mNone\u001b[39;00m:\n\u001b[0;32m--> 194\u001b[0m     \u001b[39mself\u001b[39;49m\u001b[39m.\u001b[39;49msetup_data()\n\u001b[1;32m    195\u001b[0m     \u001b[39mif\u001b[39;00m \u001b[39mself\u001b[39m\u001b[39m.\u001b[39mskip:\n\u001b[1;32m    196\u001b[0m         \u001b[39mreturn\u001b[39;00m\n",
      "File \u001b[0;32m~/opt/anaconda3/envs/neuromancer2/lib/python3.10/site-packages/lightning/pytorch/loops/fit_loop.py:222\u001b[0m, in \u001b[0;36m_FitLoop.setup_data\u001b[0;34m(self)\u001b[0m\n\u001b[1;32m    219\u001b[0m log\u001b[39m.\u001b[39mdebug(\u001b[39mf\u001b[39m\u001b[39m\"\u001b[39m\u001b[39m{\u001b[39;00m\u001b[39mself\u001b[39m\u001b[39m.\u001b[39m\u001b[39m__class__\u001b[39m\u001b[39m.\u001b[39m\u001b[39m__name__\u001b[39m\u001b[39m}\u001b[39;00m\u001b[39m: resetting train dataloader\u001b[39m\u001b[39m\"\u001b[39m)\n\u001b[1;32m    221\u001b[0m source \u001b[39m=\u001b[39m \u001b[39mself\u001b[39m\u001b[39m.\u001b[39m_data_source\n\u001b[0;32m--> 222\u001b[0m train_dataloader \u001b[39m=\u001b[39m _request_dataloader(source)\n\u001b[1;32m    223\u001b[0m trainer\u001b[39m.\u001b[39mstrategy\u001b[39m.\u001b[39mbarrier(\u001b[39m\"\u001b[39m\u001b[39mtrain_dataloader()\u001b[39m\u001b[39m\"\u001b[39m)\n\u001b[1;32m    225\u001b[0m \u001b[39mif\u001b[39;00m \u001b[39mnot\u001b[39;00m \u001b[39misinstance\u001b[39m(train_dataloader, CombinedLoader):\n",
      "File \u001b[0;32m~/opt/anaconda3/envs/neuromancer2/lib/python3.10/site-packages/lightning/pytorch/trainer/connectors/data_connector.py:342\u001b[0m, in \u001b[0;36m_request_dataloader\u001b[0;34m(data_source)\u001b[0m\n\u001b[1;32m    331\u001b[0m \u001b[39m\u001b[39m\u001b[39m\"\"\"Requests a dataloader by calling dataloader hooks corresponding to the given stage.\u001b[39;00m\n\u001b[1;32m    332\u001b[0m \n\u001b[1;32m    333\u001b[0m \u001b[39mReturns:\u001b[39;00m\n\u001b[1;32m    334\u001b[0m \u001b[39m    The requested dataloader\u001b[39;00m\n\u001b[1;32m    335\u001b[0m \n\u001b[1;32m    336\u001b[0m \u001b[39m\"\"\"\u001b[39;00m\n\u001b[1;32m    337\u001b[0m \u001b[39mwith\u001b[39;00m _replace_dunder_methods(DataLoader, \u001b[39m\"\u001b[39m\u001b[39mdataset\u001b[39m\u001b[39m\"\u001b[39m), _replace_dunder_methods(BatchSampler):\n\u001b[1;32m    338\u001b[0m     \u001b[39m# under this context manager, the arguments passed to `DataLoader.__init__` will be captured and saved as\u001b[39;00m\n\u001b[1;32m    339\u001b[0m     \u001b[39m# attributes on the instance in case the dataloader needs to be re-instantiated later by Lightning.\u001b[39;00m\n\u001b[1;32m    340\u001b[0m     \u001b[39m# Also, it records all attribute setting and deletion using patched `__setattr__` and `__delattr__`\u001b[39;00m\n\u001b[1;32m    341\u001b[0m     \u001b[39m# methods so that the re-instantiated object is as close to the original as possible.\u001b[39;00m\n\u001b[0;32m--> 342\u001b[0m     \u001b[39mreturn\u001b[39;00m data_source\u001b[39m.\u001b[39;49mdataloader()\n",
      "File \u001b[0;32m~/opt/anaconda3/envs/neuromancer2/lib/python3.10/site-packages/lightning/pytorch/trainer/connectors/data_connector.py:309\u001b[0m, in \u001b[0;36m_DataLoaderSource.dataloader\u001b[0;34m(self)\u001b[0m\n\u001b[1;32m    307\u001b[0m \u001b[39mif\u001b[39;00m \u001b[39misinstance\u001b[39m(\u001b[39mself\u001b[39m\u001b[39m.\u001b[39minstance, pl\u001b[39m.\u001b[39mLightningDataModule):\n\u001b[1;32m    308\u001b[0m     \u001b[39massert\u001b[39;00m \u001b[39mself\u001b[39m\u001b[39m.\u001b[39minstance\u001b[39m.\u001b[39mtrainer \u001b[39mis\u001b[39;00m \u001b[39mnot\u001b[39;00m \u001b[39mNone\u001b[39;00m\n\u001b[0;32m--> 309\u001b[0m     \u001b[39mreturn\u001b[39;00m call\u001b[39m.\u001b[39;49m_call_lightning_datamodule_hook(\u001b[39mself\u001b[39;49m\u001b[39m.\u001b[39;49minstance\u001b[39m.\u001b[39;49mtrainer, \u001b[39mself\u001b[39;49m\u001b[39m.\u001b[39;49mname)\n\u001b[1;32m    310\u001b[0m \u001b[39massert\u001b[39;00m \u001b[39mself\u001b[39m\u001b[39m.\u001b[39minstance \u001b[39mis\u001b[39;00m \u001b[39mnot\u001b[39;00m \u001b[39mNone\u001b[39;00m\n\u001b[1;32m    311\u001b[0m \u001b[39mreturn\u001b[39;00m \u001b[39mself\u001b[39m\u001b[39m.\u001b[39minstance\n",
      "File \u001b[0;32m~/opt/anaconda3/envs/neuromancer2/lib/python3.10/site-packages/lightning/pytorch/trainer/call.py:179\u001b[0m, in \u001b[0;36m_call_lightning_datamodule_hook\u001b[0;34m(trainer, hook_name, *args, **kwargs)\u001b[0m\n\u001b[1;32m    177\u001b[0m \u001b[39mif\u001b[39;00m \u001b[39mcallable\u001b[39m(fn):\n\u001b[1;32m    178\u001b[0m     \u001b[39mwith\u001b[39;00m trainer\u001b[39m.\u001b[39mprofiler\u001b[39m.\u001b[39mprofile(\u001b[39mf\u001b[39m\u001b[39m\"\u001b[39m\u001b[39m[LightningDataModule]\u001b[39m\u001b[39m{\u001b[39;00mtrainer\u001b[39m.\u001b[39mdatamodule\u001b[39m.\u001b[39m\u001b[39m__class__\u001b[39m\u001b[39m.\u001b[39m\u001b[39m__name__\u001b[39m\u001b[39m}\u001b[39;00m\u001b[39m.\u001b[39m\u001b[39m{\u001b[39;00mhook_name\u001b[39m}\u001b[39;00m\u001b[39m\"\u001b[39m):\n\u001b[0;32m--> 179\u001b[0m         \u001b[39mreturn\u001b[39;00m fn(\u001b[39m*\u001b[39;49margs, \u001b[39m*\u001b[39;49m\u001b[39m*\u001b[39;49mkwargs)\n\u001b[1;32m    180\u001b[0m \u001b[39mreturn\u001b[39;00m \u001b[39mNone\u001b[39;00m\n",
      "\u001b[1;32m/Users/birm560/Library/CloudStorage/OneDrive-PNNL/Documents/neuromancer/neuromancer/examples/scaling_up/issue_129.ipynb Cell 5\u001b[0m line \u001b[0;36m2\n\u001b[1;32m     <a href='vscode-notebook-cell:/Users/birm560/Library/CloudStorage/OneDrive-PNNL/Documents/neuromancer/neuromancer/examples/scaling_up/issue_129.ipynb#W4sZmlsZQ%3D%3D?line=21'>22</a>\u001b[0m \u001b[39mdef\u001b[39;00m \u001b[39mtrain_dataloader\u001b[39m(\u001b[39mself\u001b[39m): \n\u001b[0;32m---> <a href='vscode-notebook-cell:/Users/birm560/Library/CloudStorage/OneDrive-PNNL/Documents/neuromancer/neuromancer/examples/scaling_up/issue_129.ipynb#W4sZmlsZQ%3D%3D?line=22'>23</a>\u001b[0m     \u001b[39mreturn\u001b[39;00m DataLoader(\u001b[39mself\u001b[39m\u001b[39m.\u001b[39mtrain_data, batch_size\u001b[39m=\u001b[39m\u001b[39mself\u001b[39m\u001b[39m.\u001b[39mbatch_size, collate_fn\u001b[39m=\u001b[39m\u001b[39mself\u001b[39m\u001b[39m.\u001b[39mtrain_data\u001b[39m.\u001b[39mcollate_fn, device\u001b[39m=\u001b[39m\u001b[39mself\u001b[39;49m\u001b[39m.\u001b[39;49mdevice)\n",
      "\u001b[0;31mAttributeError\u001b[0m: 'LightningDataModule' object has no attribute 'device'"
     ]
    }
   ],
   "source": [
    "best_problem_weights = lit_trainer.fit(problem, lit_data_module)"
   ]
  }
 ],
 "metadata": {
  "kernelspec": {
   "display_name": "neuromancer2",
   "language": "python",
   "name": "python3"
  },
  "language_info": {
   "codemirror_mode": {
    "name": "ipython",
    "version": 3
   },
   "file_extension": ".py",
   "mimetype": "text/x-python",
   "name": "python",
   "nbconvert_exporter": "python",
   "pygments_lexer": "ipython3",
   "version": "3.10.4"
  }
 },
 "nbformat": 4,
 "nbformat_minor": 2
}
