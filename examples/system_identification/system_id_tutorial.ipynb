{
 "cells": [
  {
   "cell_type": "markdown",
   "id": "a2d86e51",
   "metadata": {},
   "source": [
    "# NeuroMANCER dynamical systems, system identification\n"
   ]
  },
  {
   "cell_type": "markdown",
   "id": "f2e3300d",
   "metadata": {},
   "source": [
    "## NeuroMANCER and Dependencies"
   ]
  },
  {
   "cell_type": "markdown",
   "id": "39dc8323",
   "metadata": {},
   "source": [
    "### Install (Colab only)\n",
    "Skip this step when running locally."
   ]
  },
  {
   "cell_type": "code",
   "execution_count": null,
   "id": "eb524e98",
   "metadata": {},
   "outputs": [],
   "source": [
    "!pip install \"neuromancer[examples] @ git+https://github.com/pnnl/neuromancer.git@master\""
   ]
  },
  {
   "cell_type": "markdown",
   "id": "c6c7fc5b",
   "metadata": {},
   "source": [
    "# Input signals in neuromancer.psl\n",
    "\n",
    "For a system identification task, a sequences of input signals must be generated in order to perturb the system across the dyanmic range of the state space. Neuromancer.psl has functions to generate all the standard perturbations used in system identification including:\n",
    "\n",
    "+ Random walk: walk\n",
    "+ White noise: noise\n",
    "+ Random step functions: step\n",
    "+ Randomly offset periodic functions (sin, cos, square, sawtooth): periodic\n",
    "+ Sum of sines: sines\n",
    "+ Auto-regressive moving average: arma\n",
    "+ Cubic spline interpolation between randomly sampled points: splines\n",
    "\n",
    "All input signal generator functions have the arguments: \n",
    "\n",
    "+ nsim: Length of input signal time series\n",
    "+ d: Dimension of input signal time series\n",
    "+ min: Minimum value for input signal time series\n",
    "+ max: Maximum value for input signal time series\n",
    "\n",
    "All signals are by default scaled to between min and max, however the unbounded signals white noise, random walk, and ARMA\n",
    "have a bounded argument which can be set to false if an unbounded signal is desired. \n",
    "\n",
    "Below are plots of each signal time series generated with nsim=1000 and d=3."
   ]
  },
  {
   "cell_type": "code",
   "execution_count": 5,
   "id": "b2b86eb4",
   "metadata": {},
   "outputs": [
    {
     "ename": "ModuleNotFoundError",
     "evalue": "No module named 'functorch'",
     "output_type": "error",
     "traceback": [
      "\u001b[1;31m---------------------------------------------------------------------------\u001b[0m",
      "\u001b[1;31mModuleNotFoundError\u001b[0m                       Traceback (most recent call last)",
      "Cell \u001b[1;32mIn[5], line 1\u001b[0m\n\u001b[1;32m----> 1\u001b[0m \u001b[38;5;28;01mfrom\u001b[39;00m \u001b[38;5;21;01mneuromancer\u001b[39;00m\u001b[38;5;21;01m.\u001b[39;00m\u001b[38;5;21;01mpsl\u001b[39;00m \u001b[38;5;28;01mimport\u001b[39;00m signals\n\u001b[0;32m      2\u001b[0m \u001b[38;5;28;01mimport\u001b[39;00m \u001b[38;5;21;01mmatplotlib\u001b[39;00m\u001b[38;5;21;01m.\u001b[39;00m\u001b[38;5;21;01mpyplot\u001b[39;00m \u001b[38;5;28;01mas\u001b[39;00m \u001b[38;5;21;01mplt\u001b[39;00m\n\u001b[0;32m      3\u001b[0m get_ipython()\u001b[38;5;241m.\u001b[39mrun_line_magic(\u001b[38;5;124m'\u001b[39m\u001b[38;5;124mmatplotlib\u001b[39m\u001b[38;5;124m'\u001b[39m, \u001b[38;5;124m'\u001b[39m\u001b[38;5;124minline\u001b[39m\u001b[38;5;124m'\u001b[39m)\n",
      "File \u001b[1;32m~\\OneDrive - PNNL\\Documents\\anaconda3\\lib\\site-packages\\neuromancer\\__init__.py:6\u001b[0m\n\u001b[0;32m      3\u001b[0m __version__ \u001b[38;5;241m=\u001b[39m importlib\u001b[38;5;241m.\u001b[39mmetadata\u001b[38;5;241m.\u001b[39mversion(\u001b[38;5;124m\"\u001b[39m\u001b[38;5;124mneuromancer\u001b[39m\u001b[38;5;124m\"\u001b[39m)\n\u001b[0;32m      5\u001b[0m \u001b[38;5;28;01mfrom\u001b[39;00m \u001b[38;5;21;01mneuromancer\u001b[39;00m \u001b[38;5;28;01mimport\u001b[39;00m dynamics\n\u001b[1;32m----> 6\u001b[0m \u001b[38;5;28;01mfrom\u001b[39;00m \u001b[38;5;21;01mneuromancer\u001b[39;00m \u001b[38;5;28;01mimport\u001b[39;00m modules\n\u001b[0;32m      8\u001b[0m \u001b[38;5;28;01mfrom\u001b[39;00m \u001b[38;5;21;01mneuromancer\u001b[39;00m \u001b[38;5;28;01mimport\u001b[39;00m system\n\u001b[0;32m      9\u001b[0m \u001b[38;5;28;01mfrom\u001b[39;00m \u001b[38;5;21;01mneuromancer\u001b[39;00m \u001b[38;5;28;01mimport\u001b[39;00m modules\n",
      "File \u001b[1;32m~\\OneDrive - PNNL\\Documents\\anaconda3\\lib\\site-packages\\neuromancer\\modules\\__init__.py:4\u001b[0m\n\u001b[0;32m      2\u001b[0m \u001b[38;5;28;01mfrom\u001b[39;00m \u001b[38;5;21;01mneuromancer\u001b[39;00m\u001b[38;5;21;01m.\u001b[39;00m\u001b[38;5;21;01mmodules\u001b[39;00m \u001b[38;5;28;01mimport\u001b[39;00m blocks\n\u001b[0;32m      3\u001b[0m \u001b[38;5;28;01mfrom\u001b[39;00m \u001b[38;5;21;01mneuromancer\u001b[39;00m\u001b[38;5;21;01m.\u001b[39;00m\u001b[38;5;21;01mmodules\u001b[39;00m \u001b[38;5;28;01mimport\u001b[39;00m functions\n\u001b[1;32m----> 4\u001b[0m \u001b[38;5;28;01mfrom\u001b[39;00m \u001b[38;5;21;01mneuromancer\u001b[39;00m\u001b[38;5;21;01m.\u001b[39;00m\u001b[38;5;21;01mmodules\u001b[39;00m \u001b[38;5;28;01mimport\u001b[39;00m solvers\n",
      "File \u001b[1;32m~\\OneDrive - PNNL\\Documents\\anaconda3\\lib\\site-packages\\neuromancer\\modules\\solvers.py:6\u001b[0m\n\u001b[0;32m      4\u001b[0m \u001b[38;5;28;01mfrom\u001b[39;00m \u001b[38;5;21;01mneuromancer\u001b[39;00m\u001b[38;5;21;01m.\u001b[39;00m\u001b[38;5;21;01mgradients\u001b[39;00m \u001b[38;5;28;01mimport\u001b[39;00m gradient, jacobian\n\u001b[0;32m      5\u001b[0m \u001b[38;5;28;01mfrom\u001b[39;00m \u001b[38;5;21;01mabc\u001b[39;00m \u001b[38;5;28;01mimport\u001b[39;00m ABC, abstractmethod\n\u001b[1;32m----> 6\u001b[0m \u001b[38;5;28;01mfrom\u001b[39;00m \u001b[38;5;21;01mfunctorch\u001b[39;00m \u001b[38;5;28;01mimport\u001b[39;00m jacrev, jacfwd\n\u001b[0;32m      9\u001b[0m \u001b[38;5;28;01mclass\u001b[39;00m \u001b[38;5;21;01mSolver\u001b[39;00m(nn\u001b[38;5;241m.\u001b[39mModule, ABC):\n\u001b[0;32m     10\u001b[0m     \u001b[38;5;124;03m\"\"\"\u001b[39;00m\n\u001b[0;32m     11\u001b[0m \u001b[38;5;124;03m    Abstract class for the differentiable solver implementation\u001b[39;00m\n\u001b[0;32m     12\u001b[0m \u001b[38;5;124;03m    \"\"\"\u001b[39;00m\n",
      "\u001b[1;31mModuleNotFoundError\u001b[0m: No module named 'functorch'"
     ]
    }
   ],
   "source": [
    "from neuromancer.psl.signals import signals\n",
    "import matplotlib.pyplot as plt\n",
    "%matplotlib inline"
   ]
  },
  {
   "cell_type": "code",
   "execution_count": null,
   "id": "68cac999",
   "metadata": {},
   "outputs": [],
   "source": [
    "signals"
   ]
  },
  {
   "cell_type": "code",
   "execution_count": null,
   "id": "329c957f",
   "metadata": {},
   "outputs": [],
   "source": [
    "for n, s in signals.items():\n",
    "    x = s(1000, 3, min=-2., max=1.5)\n",
    "    print(n, x.shape)\n",
    "    plt.plot(x)\n",
    "    plt.show()\n",
    "    plt.close()"
   ]
  },
  {
   "cell_type": "markdown",
   "id": "4f76bffa",
   "metadata": {},
   "source": [
    "# Systems in NM's Python Systems Library (psl)\n",
    "\n",
    "The psl subpackage provides systems models for a range of autonomous, nonautonomous, networked, and building envelope systems, as well as an interface for loading and interacting with pre-recorded measurement datasets in common with the systems models. "
   ]
  },
  {
   "cell_type": "code",
   "execution_count": null,
   "id": "d67c18b6",
   "metadata": {},
   "outputs": [],
   "source": [
    "import neuromancer\n",
    "neuromancer.psl.systems"
   ]
  },
  {
   "cell_type": "code",
   "execution_count": null,
   "id": "b12bd7b3",
   "metadata": {},
   "outputs": [],
   "source": [
    "for n, sys in neuromancer.psl.systems.items():\n",
    "    print(n)\n",
    "    sys().show()\n",
    "    plt.close()"
   ]
  },
  {
   "cell_type": "code",
   "execution_count": null,
   "id": "2429377a",
   "metadata": {},
   "outputs": [],
   "source": [
    "sys = neuromancer.psl.systems['CSTR']()\n",
    "print(f'Changing inputs and states: {sys.variables}')\n",
    "print(f'Constants defining simulation: {sys.constants}')\n",
    "print(f'Parameters of the system: {sys._params}')\n",
    "print(f'number of inputs: {sys.nu}')\n",
    "print(f'state dimension: {sys.nx}')\n",
    "import pprint\n",
    "pprint.pprint(sys.stats)"
   ]
  },
  {
   "cell_type": "markdown",
   "id": "56b94c2f",
   "metadata": {},
   "source": [
    "# Defining an ODE based dynamical system in PSL\n",
    "\n",
    "Consider the hamiltonian system on a plane defined by the ordinary differential equations: \n",
    "\\dot{\\theta} = \\phi, \\dot{\\phi} = -\\frac{g}{l}\\sin\\theta\n",
    "\n",
    "$$x_0^{\\prime} = x_1$$\n",
    "$$x_1^{\\prime} = \\frac{g}{l} \\sin(x_0)$$\n",
    "\n",
    "Let's define using PSL with $$g = -1, l = 1$$ to simulate an undamped pendulum with no driving force."
   ]
  },
  {
   "cell_type": "code",
   "execution_count": null,
   "id": "34116d5c",
   "metadata": {},
   "outputs": [],
   "source": [
    "from neuromancer.psl.base import ODE_Autonomous, cast_backend\n",
    "import numpy as np\n",
    "\n",
    "class Hamiltonian(ODE_Autonomous):\n",
    "\n",
    "    @property\n",
    "    def params(self):\n",
    "        variables = {'x0': [-2., 2.]} # Initial condition\n",
    "        constants = {'ts': 0.1} # Time step for numerical simulation\n",
    "        parameters = {'g': -1., # parameters of the hamiltonian system\n",
    "                      'l': 1.}\n",
    "        meta = {}\n",
    "        return variables, constants, parameters, meta\n",
    "        \n",
    "    @cast_backend\n",
    "    def equations(self, t, x):\n",
    "        return [x[1], (self.g/self.l)*np.sin(x[0])]\n",
    "    "
   ]
  },
  {
   "cell_type": "code",
   "execution_count": null,
   "id": "28c700de",
   "metadata": {},
   "outputs": [],
   "source": [
    "sys = Hamiltonian()\n",
    "print(f'Changing inputs and states: {sys.variables}')\n",
    "print(f'Constants defining simulation: {sys.constants}')\n",
    "print(f'Parameters of the system: {sys._params}')\n",
    "print(f'state dimension: {sys.nx}')\n",
    "import pprint\n",
    "pprint.pprint(sys.stats)\n",
    "sys.show()\n",
    "plt.close()"
   ]
  },
  {
   "cell_type": "code",
   "execution_count": null,
   "id": "5b2ba554",
   "metadata": {},
   "outputs": [],
   "source": [
    "def plot_field(sys, xlim, ylim, scale=100, density=15j):\n",
    "    X, Y = np.mgrid[xlim[0]:xlim[1]:density, ylim[0]:ylim[1]:density]\n",
    "    print(X.shape, Y.shape)\n",
    "    u, v = sys.equations(None, [X, Y])\n",
    "    print(u.shape, v.shape)\n",
    "    plt.quiver(X, Y, u, v, color='b', scale=scale)\n"
   ]
  },
  {
   "cell_type": "code",
   "execution_count": null,
   "id": "1043bfeb",
   "metadata": {},
   "outputs": [],
   "source": [
    "plot_field(Hamiltonian(), (-np.pi, np.pi), (-5, 5))\n",
    "sys.ts = 0.1\n",
    "data1 = sys.simulate(nsim=32, x0=np.array([0, 1]))\n",
    "data2 = sys.simulate(nsim=32, x0=np.array([-np.pi, 1.5]))\n",
    "plt.plot(data1['X'][:, 0], data1['X'][:, 1], c='r')\n",
    "plt.plot(data2['X'][:, 0], data2['X'][:, 1], c='g')\n",
    "# plt.xlim((-2*np.pi, 2*np.pi))"
   ]
  },
  {
   "cell_type": "markdown",
   "id": "817d4fd6",
   "metadata": {},
   "source": [
    "# Modeling a dynamical system from data with NODEs\n",
    "\n",
    "Let's say we have measurements of this system from a sample of initial conditions simulated for 400 time-steps. How many uniformly sampled initial conditions does it take to learn a decent model of this system? "
   ]
  },
  {
   "cell_type": "code",
   "execution_count": null,
   "id": "a4260240",
   "metadata": {
    "scrolled": true
   },
   "outputs": [],
   "source": [
    "from neuromancer.system import Node, System\n",
    "import torch\n",
    "# Sample 50 initial conditions covering the range of system behavior. \n",
    "x0s = np.random.uniform(low=np.array([-3*np.pi, -5.]), high=np.array([3*np.pi, 5]), size=(50, 2))\n",
    "plot_field(sys, (-3*np.pi, 3*np.pi), (-5, 5))\n",
    "plt.scatter(x0s[:, 0], x0s[:, 1], c='r')\n"
   ]
  },
  {
   "cell_type": "code",
   "execution_count": null,
   "id": "4422ce66",
   "metadata": {},
   "outputs": [],
   "source": [
    "samples = [sys.simulate(nsim=96, x0=x0) for x0 in x0s]\n",
    "X = np.concatenate([s['X'] for s in samples])\n",
    "maxx, minx = X[:, 0].max(), X[:, 0].min()\n",
    "maxy, miny = X[:, 1].max(), X[:, 1].min()\n",
    "\n",
    "plot_field(sys, (minx, maxx), (miny, maxy))\n",
    "for s in samples:\n",
    "    plt.plot(s['X'][:, 0], s['X'][:, 1])\n",
    "plt.scatter(x0s[:, 0], x0s[:, 1], c='r')\n"
   ]
  },
  {
   "cell_type": "code",
   "execution_count": null,
   "id": "48448711",
   "metadata": {},
   "outputs": [],
   "source": [
    "# Change the default system stats to statistics from our training set\n",
    "pprint.pprint(sys.stats)\n",
    "sys.set_stats(sim={'X': X})\n",
    "pprint.pprint(sys.stats)\n",
    "\n",
    "# Create a pytorch dataloader for use in training the system model\n",
    "samples = {'X': torch.stack([torch.tensor(s['X'], dtype=torch.float32) for s in samples])}\n",
    "samples = sys.normalize(samples)\n",
    "samples['X'].shape, type(samples['X'])\n"
   ]
  },
  {
   "cell_type": "code",
   "execution_count": null,
   "id": "d70751eb",
   "metadata": {},
   "outputs": [],
   "source": [
    "from neuromancer.dataset import DictDataset\n",
    "\n",
    "# Make a function to generate data\n",
    "def get_data(sys, xmin, xmax, nstep, nsamples, name='train'):\n",
    "    \n",
    "    # Sample initial conditions\n",
    "    x0s = np.random.uniform(low=xmin, high=xmax, size=(nsamples, sys.nx))\n",
    "    \n",
    "    # Create nsamples simulations with sampled initial conditions\n",
    "    samples = [sys.simulate(nsim=nstep, x0=x0) for x0 in x0s]\n",
    "    \n",
    "    # Calculate min and max for plotting axis bounds    \n",
    "    X = np.concatenate([s['X'] for s in samples])\n",
    "    maxx, minx = X[:, 0].max(), X[:, 0].min()\n",
    "    maxy, miny = X[:, 1].max(), X[:, 1].min()\n",
    "\n",
    "    # Plot vector field, initial conditions and samples\n",
    "    plot_field(sys, (minx, maxx), (miny, maxy))\n",
    "    for s in samples:\n",
    "        plt.plot(s['X'][:, 0], s['X'][:, 1])\n",
    "    plt.scatter(x0s[:, 0], x0s[:, 1], c='r')\n",
    "    \n",
    "    if name == 'train':\n",
    "        # Change the default system stats to statistics from our training set\n",
    "        pprint.pprint(sys.stats)\n",
    "        sys.set_stats(sim={'X': X})\n",
    "        pprint.pprint(sys.stats)\n",
    "\n",
    "    # Create a pytorch dataloader\n",
    "    samples = {'X': torch.stack([torch.tensor(s['X'], dtype=torch.float32) for s in samples])}\n",
    "    \n",
    "    samples = sys.normalize(samples)\n",
    "    samples['xn'] = samples['X'][:, 0:1, :]\n",
    "    data = DictDataset(samples, name=name)\n",
    "    loader = torch.utils.data.DataLoader(data, num_workers=1, batch_size=50, collate_fn=data.collate_fn,\n",
    "                                         shuffle=True)\n",
    "    return loader"
   ]
  },
  {
   "cell_type": "code",
   "execution_count": 2,
   "id": "5681b53b",
   "metadata": {},
   "outputs": [
    {
     "ename": "NameError",
     "evalue": "name 'get_data' is not defined",
     "output_type": "error",
     "traceback": [
      "\u001b[1;31m---------------------------------------------------------------------------\u001b[0m",
      "\u001b[1;31mNameError\u001b[0m                                 Traceback (most recent call last)",
      "Cell \u001b[1;32mIn[2], line 1\u001b[0m\n\u001b[1;32m----> 1\u001b[0m train_data \u001b[38;5;241m=\u001b[39m \u001b[43mget_data\u001b[49m(sys, np\u001b[38;5;241m.\u001b[39marray([\u001b[38;5;241m-\u001b[39m\u001b[38;5;241m3\u001b[39m\u001b[38;5;241m*\u001b[39mnp\u001b[38;5;241m.\u001b[39mpi, \u001b[38;5;241m-\u001b[39m\u001b[38;5;241m5.\u001b[39m]), np\u001b[38;5;241m.\u001b[39marray([\u001b[38;5;241m3\u001b[39m\u001b[38;5;241m*\u001b[39mnp\u001b[38;5;241m.\u001b[39mpi, \u001b[38;5;241m5\u001b[39m]), \u001b[38;5;241m96\u001b[39m, \u001b[38;5;241m50\u001b[39m, name\u001b[38;5;241m=\u001b[39m\u001b[38;5;124m'\u001b[39m\u001b[38;5;124mtrain\u001b[39m\u001b[38;5;124m'\u001b[39m)\n",
      "\u001b[1;31mNameError\u001b[0m: name 'get_data' is not defined"
     ]
    }
   ],
   "source": [
    "train_data = get_data(sys, np.array([-3*np.pi, -5.]), np.array([3*np.pi, 5]), 96, 50, name='train')"
   ]
  },
  {
   "cell_type": "code",
   "execution_count": 3,
   "id": "e5104b48",
   "metadata": {},
   "outputs": [
    {
     "ename": "NameError",
     "evalue": "name 'get_data' is not defined",
     "output_type": "error",
     "traceback": [
      "\u001b[1;31m---------------------------------------------------------------------------\u001b[0m",
      "\u001b[1;31mNameError\u001b[0m                                 Traceback (most recent call last)",
      "Cell \u001b[1;32mIn[3], line 1\u001b[0m\n\u001b[1;32m----> 1\u001b[0m dev_data \u001b[38;5;241m=\u001b[39m \u001b[43mget_data\u001b[49m(sys, np\u001b[38;5;241m.\u001b[39marray([\u001b[38;5;241m-\u001b[39m\u001b[38;5;241m3\u001b[39m\u001b[38;5;241m*\u001b[39mnp\u001b[38;5;241m.\u001b[39mpi, \u001b[38;5;241m-\u001b[39m\u001b[38;5;241m5.\u001b[39m]), np\u001b[38;5;241m.\u001b[39marray([\u001b[38;5;241m3\u001b[39m\u001b[38;5;241m*\u001b[39mnp\u001b[38;5;241m.\u001b[39mpi, \u001b[38;5;241m5\u001b[39m]), \u001b[38;5;241m96\u001b[39m, \u001b[38;5;241m50\u001b[39m, name\u001b[38;5;241m=\u001b[39m\u001b[38;5;124m'\u001b[39m\u001b[38;5;124mdev\u001b[39m\u001b[38;5;124m'\u001b[39m)\n",
      "\u001b[1;31mNameError\u001b[0m: name 'get_data' is not defined"
     ]
    }
   ],
   "source": [
    "dev_data = get_data(sys, np.array([-3*np.pi, -5.]), np.array([3*np.pi, 5]), 96, 50, name='dev')"
   ]
  },
  {
   "cell_type": "code",
   "execution_count": 4,
   "id": "64cbf17b",
   "metadata": {},
   "outputs": [
    {
     "ename": "ModuleNotFoundError",
     "evalue": "No module named 'functorch'",
     "output_type": "error",
     "traceback": [
      "\u001b[1;31m---------------------------------------------------------------------------\u001b[0m",
      "\u001b[1;31mModuleNotFoundError\u001b[0m                       Traceback (most recent call last)",
      "Cell \u001b[1;32mIn[4], line 1\u001b[0m\n\u001b[1;32m----> 1\u001b[0m \u001b[38;5;28;01mfrom\u001b[39;00m \u001b[38;5;21;01mneuromancer\u001b[39;00m\u001b[38;5;21;01m.\u001b[39;00m\u001b[38;5;21;01msystem\u001b[39;00m \u001b[38;5;28;01mimport\u001b[39;00m Node\n\u001b[0;32m      2\u001b[0m \u001b[38;5;28;01mfrom\u001b[39;00m \u001b[38;5;21;01mneuromancer\u001b[39;00m\u001b[38;5;21;01m.\u001b[39;00m\u001b[38;5;21;01mmodules\u001b[39;00m\u001b[38;5;21;01m.\u001b[39;00m\u001b[38;5;21;01mblocks\u001b[39;00m \u001b[38;5;28;01mimport\u001b[39;00m MLP\n\u001b[0;32m      3\u001b[0m \u001b[38;5;28;01mfrom\u001b[39;00m \u001b[38;5;21;01mneuromancer\u001b[39;00m\u001b[38;5;21;01m.\u001b[39;00m\u001b[38;5;21;01mdynamics\u001b[39;00m\u001b[38;5;21;01m.\u001b[39;00m\u001b[38;5;21;01mintegrators\u001b[39;00m \u001b[38;5;28;01mimport\u001b[39;00m Euler\n",
      "File \u001b[1;32m~\\OneDrive - PNNL\\Documents\\anaconda3\\lib\\site-packages\\neuromancer\\__init__.py:6\u001b[0m\n\u001b[0;32m      3\u001b[0m __version__ \u001b[38;5;241m=\u001b[39m importlib\u001b[38;5;241m.\u001b[39mmetadata\u001b[38;5;241m.\u001b[39mversion(\u001b[38;5;124m\"\u001b[39m\u001b[38;5;124mneuromancer\u001b[39m\u001b[38;5;124m\"\u001b[39m)\n\u001b[0;32m      5\u001b[0m \u001b[38;5;28;01mfrom\u001b[39;00m \u001b[38;5;21;01mneuromancer\u001b[39;00m \u001b[38;5;28;01mimport\u001b[39;00m dynamics\n\u001b[1;32m----> 6\u001b[0m \u001b[38;5;28;01mfrom\u001b[39;00m \u001b[38;5;21;01mneuromancer\u001b[39;00m \u001b[38;5;28;01mimport\u001b[39;00m modules\n\u001b[0;32m      8\u001b[0m \u001b[38;5;28;01mfrom\u001b[39;00m \u001b[38;5;21;01mneuromancer\u001b[39;00m \u001b[38;5;28;01mimport\u001b[39;00m system\n\u001b[0;32m      9\u001b[0m \u001b[38;5;28;01mfrom\u001b[39;00m \u001b[38;5;21;01mneuromancer\u001b[39;00m \u001b[38;5;28;01mimport\u001b[39;00m modules\n",
      "File \u001b[1;32m~\\OneDrive - PNNL\\Documents\\anaconda3\\lib\\site-packages\\neuromancer\\modules\\__init__.py:4\u001b[0m\n\u001b[0;32m      2\u001b[0m \u001b[38;5;28;01mfrom\u001b[39;00m \u001b[38;5;21;01mneuromancer\u001b[39;00m\u001b[38;5;21;01m.\u001b[39;00m\u001b[38;5;21;01mmodules\u001b[39;00m \u001b[38;5;28;01mimport\u001b[39;00m blocks\n\u001b[0;32m      3\u001b[0m \u001b[38;5;28;01mfrom\u001b[39;00m \u001b[38;5;21;01mneuromancer\u001b[39;00m\u001b[38;5;21;01m.\u001b[39;00m\u001b[38;5;21;01mmodules\u001b[39;00m \u001b[38;5;28;01mimport\u001b[39;00m functions\n\u001b[1;32m----> 4\u001b[0m \u001b[38;5;28;01mfrom\u001b[39;00m \u001b[38;5;21;01mneuromancer\u001b[39;00m\u001b[38;5;21;01m.\u001b[39;00m\u001b[38;5;21;01mmodules\u001b[39;00m \u001b[38;5;28;01mimport\u001b[39;00m solvers\n",
      "File \u001b[1;32m~\\OneDrive - PNNL\\Documents\\anaconda3\\lib\\site-packages\\neuromancer\\modules\\solvers.py:6\u001b[0m\n\u001b[0;32m      4\u001b[0m \u001b[38;5;28;01mfrom\u001b[39;00m \u001b[38;5;21;01mneuromancer\u001b[39;00m\u001b[38;5;21;01m.\u001b[39;00m\u001b[38;5;21;01mgradients\u001b[39;00m \u001b[38;5;28;01mimport\u001b[39;00m gradient, jacobian\n\u001b[0;32m      5\u001b[0m \u001b[38;5;28;01mfrom\u001b[39;00m \u001b[38;5;21;01mabc\u001b[39;00m \u001b[38;5;28;01mimport\u001b[39;00m ABC, abstractmethod\n\u001b[1;32m----> 6\u001b[0m \u001b[38;5;28;01mfrom\u001b[39;00m \u001b[38;5;21;01mfunctorch\u001b[39;00m \u001b[38;5;28;01mimport\u001b[39;00m jacrev, jacfwd\n\u001b[0;32m      9\u001b[0m \u001b[38;5;28;01mclass\u001b[39;00m \u001b[38;5;21;01mSolver\u001b[39;00m(nn\u001b[38;5;241m.\u001b[39mModule, ABC):\n\u001b[0;32m     10\u001b[0m     \u001b[38;5;124;03m\"\"\"\u001b[39;00m\n\u001b[0;32m     11\u001b[0m \u001b[38;5;124;03m    Abstract class for the differentiable solver implementation\u001b[39;00m\n\u001b[0;32m     12\u001b[0m \u001b[38;5;124;03m    \"\"\"\u001b[39;00m\n",
      "\u001b[1;31mModuleNotFoundError\u001b[0m: No module named 'functorch'"
     ]
    }
   ],
   "source": [
    "from neuromancer.system import Node\n",
    "from neuromancer.modules.blocks import MLP\n",
    "from neuromancer.dynamics.integrators import Euler\n",
    "from neuromancer.modules.activations import SoftExponential\n",
    "\n",
    "# linargs = {'sigma_min': .95, 'sigma_max': 1.05}\n",
    "class MultipleShootingEulerIntegrator(torch.nn.Module):\n",
    "    \"\"\"\n",
    "    Simple black-box NODE\n",
    "    \"\"\"\n",
    "    def __init__(self, nx, hsize, nlayers, ts):\n",
    "        super().__init__()\n",
    "        self.dx = MLP(nx, nx, hsizes=[hsize for h in range(nlayers)], nonlin=SoftExponential)\n",
    "        self.integrator = Euler(self.dx, h=torch.tensor(ts))\n",
    "\n",
    "    def forward(self, x1, xn):\n",
    "        \"\"\"\n",
    "\n",
    "        :param xn: (Tensor, shape=(batchsize, nx)) State\n",
    "        :param u: (Tensor, shape=(batchsize, nu)) Control action\n",
    "        :return: (Tensor, shape=(batchsize, nx)) xn+1\n",
    "        \"\"\"\n",
    "        return self.integrator(x1), self.integrator(xn)\n",
    "\n",
    "nx = 2\n",
    "hsize = 64\n",
    "nlayers = 3\n",
    "integrator = MultipleShootingEulerIntegrator(nx, hsize, nlayers, sys.ts)\n",
    "node = Node(integrator, ['X', 'xn'], ['xstep', 'xn'])\n",
    "system = System([node])\n",
    "system.show()"
   ]
  },
  {
   "cell_type": "code",
   "execution_count": null,
   "id": "17339535",
   "metadata": {},
   "outputs": [],
   "source": [
    "from neuromancer.trainer import Trainer\n",
    "from neuromancer.loggers import BasicLogger\n",
    "from neuromancer.constraint import variable\n",
    "from neuromancer.loss import PenaltyLoss\n",
    "from neuromancer.problem import Problem\n",
    "\n",
    "logger = BasicLogger(stdout=['train_objective_loss', 'dev_loss1', 'dev_loss2'], verbosity=1)\n",
    "opt = torch.optim.AdamW(integrator.parameters(), 0.01)\n",
    "xpred = variable('xn')[:, :-1, :]\n",
    "xtrue = variable('X')\n",
    "x1pred = variable('xstep')\n",
    "\n",
    "loss1 = 0.1*(xpred == xtrue) ^ 2\n",
    "loss1.update_name('loss1')\n",
    "loss2 = (x1pred[:, :-1, :] == xtrue[:, 1:, :])^2\n",
    "loss2.update_name('loss2')\n",
    "\n",
    "obj = PenaltyLoss([loss1, loss2], [])\n",
    "problem = Problem([system], obj)\n",
    "\n",
    "trainer = Trainer(problem, train_data, dev_data, dev_data, opt, logger,\n",
    "                  epochs=200,\n",
    "                  patience=1000,\n",
    "                  train_metric='train_objective_loss',\n",
    "                  dev_metric='dev_loss',\n",
    "                  test_metric='test_loss',\n",
    "                  eval_metric='dev_loss')\n"
   ]
  },
  {
   "cell_type": "code",
   "execution_count": null,
   "id": "27104ee3",
   "metadata": {},
   "outputs": [],
   "source": [
    "best_model = trainer.train()"
   ]
  },
  {
   "cell_type": "code",
   "execution_count": null,
   "id": "0ba3ffc0",
   "metadata": {},
   "outputs": [],
   "source": [
    "class rhs_wrapper:\n",
    "    \n",
    "    def __init__(self, dx, sys):\n",
    "        self.dx = dx\n",
    "        self.sys = sys\n",
    "        \n",
    "    def equations(self, t, X):\n",
    "        X = torch.tensor(np.stack(X, axis=-1), dtype=torch.float32).reshape(-1, 2)\n",
    "        print(X.shape)\n",
    "        X = self.sys.normalize(X, key='X')\n",
    "        output = self.dx(X)\n",
    "        output = self.sys.denormalize(output, key='X')\n",
    "        output = output.reshape(15, 15, 2).detach().numpy()\n",
    "        return output[:, :, 0], output[:, :, 1]\n",
    "\n",
    "problem.load_state_dict(best_model)\n",
    "        \n",
    "rhs = integrator.dx\n",
    "func = rhs_wrapper(rhs, sys)\n",
    "plot_field(func, (-3*np.pi, 3*np.pi), (-5, 5))"
   ]
  },
  {
   "cell_type": "code",
   "execution_count": null,
   "id": "b2e2ce7c",
   "metadata": {},
   "outputs": [],
   "source": [
    "plot_field(sys, (-3*np.pi, 3*np.pi), (-5, 5))"
   ]
  },
  {
   "cell_type": "code",
   "execution_count": null,
   "id": "34498f23",
   "metadata": {},
   "outputs": [],
   "source": []
  }
 ],
 "metadata": {
  "kernelspec": {
   "display_name": "Python 3 (ipykernel)",
   "language": "python",
   "name": "python3"
  },
  "language_info": {
   "codemirror_mode": {
    "name": "ipython",
    "version": 3
   },
   "file_extension": ".py",
   "mimetype": "text/x-python",
   "name": "python",
   "nbconvert_exporter": "python",
   "pygments_lexer": "ipython3",
   "version": "3.10.9"
  }
 },
 "nbformat": 4,
 "nbformat_minor": 5
}
