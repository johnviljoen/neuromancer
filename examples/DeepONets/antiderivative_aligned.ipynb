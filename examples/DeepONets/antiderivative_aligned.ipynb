{
 "cells": [
  {
   "cell_type": "markdown",
   "metadata": {},
   "source": [
    "# Learning the antiderivative operator from an aligned dataset\n",
    "\n",
    "We will learn the antiderivative operator \n",
    "\n",
    "TODO: get markdown math expressions or latex working. Expressions not complete.\n",
    "\n",
    "```\n",
    "$$\n",
    "G: v \\mapsto u\n",
    "$$\n",
    "```\n",
    "\n",
    "### References\n",
    "[1] [Antiderivative operator from an aligned dataset - DeepXDE](https://deepxde.readthedocs.io/en/latest/demos/operator/antiderivative_aligned.html)\n",
    "\n",
    "[2] [DeepONet Tutorial in JAX](https://github.com/Ceyron/machine-learning-and-simulation/blob/main/english/neural_operators/simple_deepOnet_in_JAX.ipynb)"
   ]
  },
  {
   "cell_type": "markdown",
   "metadata": {},
   "source": [
    "## Current issues / TODOs\n",
    "* Need to figure out how hard it would be to transpose the data back to the intended shape\n",
    "* Need to implement a problem predict method, why is data['name'] prepended\n",
    "* Need to define a class for re-use\n",
    "* Need train/dev/test split for expected Problem setup, should we be using Problem? Or should I manually set up a training loop\n",
    "* How can I use \"Glorot normal\" aka xavier uniform initialization for the MLPs\n",
    "    * [torch.nn.init.xavier_uniform_](https://pytorch.org/docs/stable/nn.init.html#torch.nn.init.xavier_uniform_)\n",
    "* Am i using the correct loss metric? currently MSE but deepxde uses \"mean l2 relative error\"\n",
    "* Should I be using a callback for keeping track of loss?\n",
    "* Identify where the mixed integer programming is implemented in DeepXDE\n",
    "* Performance comparison for DeepXDE\n",
    "    * Memory\n",
    "    * Loss"
   ]
  },
  {
   "cell_type": "markdown",
   "metadata": {},
   "source": [
    "## Completed tasks\n",
    "* Tested batch size, batch size must be >= 100 due to dimensions of MLP linear transformation 100x40\n",
    "* Early stopping working correctly, I accidentally set warmup=epochs during debug\n",
    "* Add DeepXDE example w/ PyTorch backend to notebook\n",
    "* Performance comparison for DeepXDE \n",
    "    * Time (basic)\n",
    "* Neuromancer files edited\n",
    "    * src/neuromancer/trainer.py - Added loss history for train and dev epochs\n",
    "    * "
   ]
  },
  {
   "cell_type": "markdown",
   "metadata": {},
   "source": [
    "### Import"
   ]
  },
  {
   "cell_type": "code",
   "execution_count": 1,
   "metadata": {},
   "outputs": [],
   "source": [
    "# https://github.com/Ceyron/machine-learning-and-simulation/blob/main/english/neural_operators/simple_deepOnet_in_JAX.ipynb\n",
    "import matplotlib.pyplot as plt\n",
    "import numpy as np\n",
    "import torch\n",
    "import torch.nn.functional as F\n",
    "import sys\n",
    "sys.path.append('neuromancer_deeponet/src')"
   ]
  },
  {
   "cell_type": "code",
   "execution_count": 2,
   "metadata": {},
   "outputs": [],
   "source": [
    "from neuromancer.constraint import variable\n",
    "from neuromancer.dataset import DictDataset\n",
    "from neuromancer.loss import PenaltyLoss\n",
    "from neuromancer.modules import blocks\n",
    "from neuromancer.modules.activations import activations\n",
    "from neuromancer.problem import Problem\n",
    "from neuromancer.system import Node\n",
    "from neuromancer.trainer import Trainer"
   ]
  },
  {
   "cell_type": "markdown",
   "metadata": {},
   "source": [
    "## Dataset"
   ]
  },
  {
   "cell_type": "code",
   "execution_count": 3,
   "metadata": {},
   "outputs": [],
   "source": [
    "#data_dir = \"datasets/deeponet_antiderivative_aligned\"\n",
    "data_dir = \"examples/DeepONets/datasets\""
   ]
  },
  {
   "cell_type": "markdown",
   "metadata": {},
   "source": [
    "### Prepare Train data"
   ]
  },
  {
   "cell_type": "code",
   "execution_count": 4,
   "metadata": {},
   "outputs": [
    {
     "name": "stdout",
     "output_type": "stream",
     "text": [
      "(100, 150)\n",
      "(100, 1)\n",
      "(100, 150)\n",
      "Nu = 100\n",
      "Nsamples = 150\n",
      "torch.Size([100, 150])\n",
      "torch.Size([100, 1])\n",
      "torch.Size([100, 150])\n"
     ]
    }
   ],
   "source": [
    "# load original dataset numpy arrays\n",
    "dataset_train = np.load(f\"{data_dir}/antiderivative_aligned_train.npz\", allow_pickle=True)\n",
    "\n",
    " ## Note: transposing branch input because DictDataset in Neuromancer needs all tensors in the dict to have the same shape at index 0\n",
    "branch_inputs_train = dataset_train[\"X\"][0].T\n",
    "trunk_inputs_train = dataset_train[\"X\"][1]\n",
    "outputs_train = dataset_train[\"y\"].T\n",
    "\n",
    "print(branch_inputs_train.shape)\n",
    "print(trunk_inputs_train.shape)\n",
    "print(outputs_train.shape)\n",
    "\n",
    "## Global definition of Nu and Nsamples:\n",
    "## This example has 100 points (resolution of x and u(x))\n",
    "## and 150 samples of functions\n",
    "Nu = outputs_train.shape[0]\n",
    "Nsamples = outputs_train.shape[1]\n",
    "print(f'Nu = {Nu}')\n",
    "print(f'Nsamples = {Nsamples}')\n",
    "\n",
    "# convert to pytorch tensors of float type\n",
    "t_branch_inputs_train = torch.from_numpy(branch_inputs_train).float()\n",
    "t_trunk_inputs_train = torch.from_numpy(trunk_inputs_train).float()\n",
    "t_outputs_train = torch.from_numpy(outputs_train).float()\n",
    "\n",
    "print(t_branch_inputs_train.shape)\n",
    "print(t_trunk_inputs_train.shape)\n",
    "print(t_outputs_train.shape)\n",
    "\n",
    "\n",
    "# create named dictionary dataset\n",
    "samples_train = {\n",
    "    \"branch_inputs\": t_branch_inputs_train,\n",
    "    \"trunk_inputs\": t_trunk_inputs_train,\n",
    "    \"outputs\": t_outputs_train\n",
    "}"
   ]
  },
  {
   "cell_type": "markdown",
   "metadata": {},
   "source": [
    "### Prepare Test Data"
   ]
  },
  {
   "cell_type": "code",
   "execution_count": 5,
   "metadata": {},
   "outputs": [
    {
     "name": "stdout",
     "output_type": "stream",
     "text": [
      "(100, 1000)\n",
      "(100, 1)\n",
      "(100, 1000)\n"
     ]
    }
   ],
   "source": [
    "dataset_test = np.load(f\"{data_dir}/antiderivative_aligned_test.npz\", allow_pickle=True)\n",
    "branch_inputs_test = dataset_test[\"X\"][0].T\n",
    "trunk_inputs_test = dataset_test[\"X\"][1]\n",
    "outputs_test = dataset_test[\"y\"].T\n",
    "\n",
    "print(branch_inputs_test.shape)\n",
    "print(trunk_inputs_test.shape)\n",
    "print(outputs_test.shape)\n",
    "\n",
    "t_branch_inputs_test = torch.from_numpy(branch_inputs_test).float()\n",
    "t_reshaped_trunk_inputs_test = torch.from_numpy(trunk_inputs_test).float()\n",
    "t_outputs_test = torch.from_numpy(outputs_test).float()\n",
    "\n",
    "samples_test = {\n",
    "    \"branch_inputs\": t_branch_inputs_test,\n",
    "    \"trunk_inputs\": t_reshaped_trunk_inputs_test,\n",
    "    \"outputs\": t_outputs_test\n",
    "}"
   ]
  },
  {
   "cell_type": "markdown",
   "metadata": {},
   "source": [
    "### Create named dictionary datasets"
   ]
  },
  {
   "cell_type": "code",
   "execution_count": 6,
   "metadata": {},
   "outputs": [],
   "source": [
    "train_data = DictDataset(samples_train, name=\"train\")\n",
    "#dev_data = DictDataset(samples_dev, name=\"dev\")\n",
    "test_data = DictDataset(samples_test, name=\"test\")"
   ]
  },
  {
   "cell_type": "markdown",
   "metadata": {},
   "source": [
    "### Create torch DataLoaders for the Trainer"
   ]
  },
  {
   "cell_type": "code",
   "execution_count": 7,
   "metadata": {},
   "outputs": [
    {
     "name": "stdout",
     "output_type": "stream",
     "text": [
      "batch_size: 100\n"
     ]
    }
   ],
   "source": [
    "batch_size = Nu\n",
    "print(f\"batch_size: {batch_size}\")\n",
    "train_loader = torch.utils.data.DataLoader(train_data, batch_size=batch_size, collate_fn=train_data.collate_fn, shuffle=False)\n",
    "#dev_loader = torch.utils.data.DataLoader(dev_data, batch_size=batch_size, collate_fn=dev_data.collate_fn, shuffle=False)\n",
    "test_loader = torch.utils.data.DataLoader(test_data, batch_size=batch_size, collate_fn=test_data.collate_fn, shuffle=False)"
   ]
  },
  {
   "cell_type": "code",
   "execution_count": 8,
   "metadata": {},
   "outputs": [
    {
     "data": {
      "image/png": "[encoded data removed]",
      "text/plain": [
       "<Figure size 640x480 with 1 Axes>"
      ]
     },
     "metadata": {},
     "output_type": "display_data"
    }
   ],
   "source": [
    "# Due to the dataset being aligned, we can use the trunk inputs as a grid\n",
    "k = 2\n",
    "plt.plot(\n",
    "    train_data.datadict['trunk_inputs'],\n",
    "    train_data.datadict['branch_inputs'][:,k],\n",
    "    label=\"input\",\n",
    ")\n",
    "plt.plot(\n",
    "    train_data.datadict['trunk_inputs'],\n",
    "    train_data.datadict['outputs'][:,k],\n",
    "    label=\"antiderivative\",\n",
    ")\n",
    "plt.legend()\n",
    "plt.grid()"
   ]
  },
  {
   "cell_type": "markdown",
   "metadata": {},
   "source": [
    "## Define nodes"
   ]
  },
  {
   "cell_type": "code",
   "execution_count": 9,
   "metadata": {},
   "outputs": [
    {
     "data": {
      "text/plain": [
       "dict_keys(['branch_inputs', 'trunk_inputs', 'outputs'])"
      ]
     },
     "execution_count": 9,
     "metadata": {},
     "output_type": "execute_result"
    }
   ],
   "source": [
    "train_data.datadict.keys()"
   ]
  },
  {
   "cell_type": "code",
   "execution_count": 10,
   "metadata": {},
   "outputs": [
    {
     "data": {
      "text/plain": [
       "torch.Size([100, 150])"
      ]
     },
     "execution_count": 10,
     "metadata": {},
     "output_type": "execute_result"
    }
   ],
   "source": [
    "train_data.datadict[\"branch_inputs\"].shape"
   ]
  },
  {
   "cell_type": "code",
   "execution_count": 11,
   "metadata": {},
   "outputs": [
    {
     "name": "stdout",
     "output_type": "stream",
     "text": [
      "['reshaped_branch_inputs']\n",
      "['branch_outputs']\n",
      "{'branch_outputs': tensor([[ 0.0039, -0.0875,  0.0552,  ..., -0.0384, -0.0015, -0.1171],\n",
      "        [-0.0291, -0.0777, -0.0019,  ...,  0.0092, -0.0457, -0.0701],\n",
      "        [-0.0028, -0.1825,  0.0333,  ...,  0.0119,  0.0816, -0.1181],\n",
      "        ...,\n",
      "        [-0.0307, -0.1067,  0.0277,  ...,  0.0087, -0.0387, -0.0957],\n",
      "        [ 0.0070, -0.1229,  0.1029,  ...,  0.0140,  0.0720, -0.0621],\n",
      "        [ 0.0163, -0.1312, -0.0204,  ...,  0.0414,  0.0224, -0.1242]],\n",
      "       grad_fn=<AddmmBackward0>)}\n",
      "torch.Size([150, 40])\n"
     ]
    }
   ],
   "source": [
    "# Can I create a system composed of MLPS? Do I even need system or can I just wrap with nodes?\n",
    "# inputs from jax example\n",
    "\n",
    "in_size_branch = Nu\n",
    "width_size = 40\n",
    "depth_branch = 2\n",
    "interact_size = 40\n",
    "#activation = torch.nn.ReLU\n",
    "linear_map = torch.nn.Linear\n",
    "# key?\n",
    "# should bias be true? Looks like Yes, https://docs.kidger.site/equinox/api/nn/mlp/\n",
    "block_branch = blocks.MLP(\n",
    "    insize=in_size_branch,\n",
    "    outsize=interact_size,\n",
    "    bias=True,\n",
    "    nonlin=activations['relu'],\n",
    "    hsizes=[width_size] * depth_branch\n",
    ")\n",
    "branch_net = Node(block_branch, ['reshaped_branch_inputs'], ['branch_outputs'], name=\"branch_net\")\n",
    "print(branch_net.input_keys)\n",
    "print(branch_net.output_keys)\n",
    "print(branch_net({\"reshaped_branch_inputs\": t_branch_inputs_train.T}))\n",
    "print(branch_net({\"reshaped_branch_inputs\": t_branch_inputs_train.T})['branch_outputs'].shape)\n"
   ]
  },
  {
   "cell_type": "code",
   "execution_count": 12,
   "metadata": {},
   "outputs": [],
   "source": [
    "## Transpose for branch net\n",
    "#lam_transpose = lambda x_in: torch.transpose(x_in, 0, 1)\n",
    "def transpose_branch_inputs(x_in):\n",
    "    x_out = torch.transpose(x_in, 0, 1)\n",
    "    return x_out\n",
    "node_transpose_branch = Node(transpose_branch_inputs, ['branch_inputs'], [\"reshaped_branch_inputs\"], name=\"transpose_branch_inputs\")\n"
   ]
  },
  {
   "cell_type": "code",
   "execution_count": 13,
   "metadata": {},
   "outputs": [
    {
     "name": "stdout",
     "output_type": "stream",
     "text": [
      "['trunk_inputs']\n",
      "['trunk_outputs']\n",
      "tensor([[ 0.0213, -0.1255,  0.0879,  ..., -0.1124,  0.0648, -0.0611],\n",
      "        [ 0.0201, -0.1272,  0.0875,  ..., -0.1120,  0.0654, -0.0599],\n",
      "        [ 0.0189, -0.1288,  0.0871,  ..., -0.1117,  0.0660, -0.0586],\n",
      "        ...,\n",
      "        [-0.0832, -0.2568,  0.0289,  ..., -0.1266,  0.0625,  0.1299],\n",
      "        [-0.0844, -0.2577,  0.0287,  ..., -0.1273,  0.0627,  0.1320],\n",
      "        [-0.0857, -0.2585,  0.0286,  ..., -0.1279,  0.0628,  0.1341]],\n",
      "       grad_fn=<AddmmBackward0>)\n",
      "torch.Size([100, 40])\n"
     ]
    }
   ],
   "source": [
    "in_size_trunk = 1\n",
    "depth_trunk = 2\n",
    "block_trunk = blocks.MLP(\n",
    "    insize=in_size_trunk,\n",
    "    outsize=interact_size,\n",
    "    bias=True,\n",
    "    nonlin=activations['relu'],\n",
    "    hsizes= [width_size]*depth_trunk\n",
    ")\n",
    "trunk_net = Node(block_trunk, [\"trunk_inputs\"], [\"trunk_outputs\"], name=\"trunk_net\")\n",
    "print(trunk_net.input_keys)\n",
    "print(trunk_net.output_keys)\n",
    "\n",
    "print(trunk_net({'trunk_inputs':train_data.datadict['trunk_inputs']})[\"trunk_outputs\"])\n",
    "print(trunk_net({'trunk_inputs':train_data.datadict['trunk_inputs']})[\"trunk_outputs\"].shape)\n"
   ]
  },
  {
   "cell_type": "code",
   "execution_count": 14,
   "metadata": {},
   "outputs": [],
   "source": [
    "## Todo: add a bias term here\n",
    "bias = torch.zeros(1,)\n",
    "bias.requires_grad_(True)\n",
    "#lam_multiply = lambda branch_output, trunk_output: torch.matmul(branch_output, trunk_output.T) + bias\n",
    "def multiply_and_bias(branch_output, trunk_output):\n",
    "    result = torch.matmul(branch_output, trunk_output.T) + bias\n",
    "    return result\n",
    "\n",
    "node_multiply = Node(multiply_and_bias, ['branch_outputs', 'trunk_outputs'], ['g'], name=\"multiply_and_bias\")"
   ]
  },
  {
   "cell_type": "code",
   "execution_count": 15,
   "metadata": {},
   "outputs": [
    {
     "name": "stdout",
     "output_type": "stream",
     "text": [
      "branch_net(reshaped_branch_inputs) -> branch_outputs\n",
      "transpose_branch_inputs(branch_inputs) -> reshaped_branch_inputs\n",
      "trunk_net(trunk_inputs) -> trunk_outputs\n",
      "multiply_and_bias(branch_outputs, trunk_outputs) -> g\n"
     ]
    }
   ],
   "source": [
    "print(branch_net)\n",
    "print(node_transpose_branch)\n",
    "print(trunk_net)\n",
    "print(node_multiply)"
   ]
  },
  {
   "cell_type": "code",
   "execution_count": 16,
   "metadata": {},
   "outputs": [
    {
     "name": "stdout",
     "output_type": "stream",
     "text": [
      "torch.Size([150, 100])\n",
      "torch.Size([150, 40])\n",
      "torch.Size([100, 40])\n",
      "torch.Size([150, 100])\n"
     ]
    }
   ],
   "source": [
    "## Testing all the nets to see if they are returning the expected shapes\n",
    "res_transpose = node_transpose_branch({'branch_inputs':train_data.datadict['branch_inputs']})[\"reshaped_branch_inputs\"]\n",
    "res_branch = branch_net({'reshaped_branch_inputs':res_transpose})[\"branch_outputs\"]\n",
    "res_trunk = trunk_net({'trunk_inputs':train_data.datadict['trunk_inputs']})[\"trunk_outputs\"]\n",
    "res_multiply = node_multiply({'branch_outputs':res_branch, 'trunk_outputs':res_trunk})['g']\n",
    "print(res_transpose.shape)\n",
    "print(res_branch.shape)\n",
    "print(res_trunk.shape)\n",
    "print(res_multiply.shape)\n"
   ]
  },
  {
   "cell_type": "code",
   "execution_count": 17,
   "metadata": {},
   "outputs": [],
   "source": [
    "block_deeponet = blocks.DeepONet(\n",
    "    insize_branch=in_size_branch,\n",
    "    insize_trunk=in_size_trunk,\n",
    "    widthsize=width_size,\n",
    "    interactsize=interact_size,\n",
    "    depth_branch=depth_branch,\n",
    "    depth_trunk=depth_trunk,\n",
    "    nonlin=activations['relu'],\n",
    "    bias=True\n",
    ")\n"
   ]
  },
  {
   "cell_type": "code",
   "execution_count": 18,
   "metadata": {},
   "outputs": [],
   "source": [
    "node_deeponet = Node(block_deeponet, ['branch_inputs', 'trunk_inputs'], ['g'], name=\"deeponet\")"
   ]
  },
  {
   "cell_type": "markdown",
   "metadata": {},
   "source": [
    "## Objective and Constraints in NeuroMANCER"
   ]
  },
  {
   "cell_type": "code",
   "execution_count": 19,
   "metadata": {},
   "outputs": [],
   "source": [
    "var_y_est = variable(\"g\")\n",
    "var_y_true = variable(\"outputs\")\n",
    "\n",
    "# node implementation\n",
    "#nodes = [node_transpose_branch, branch_net, trunk_net, node_multiply]\n",
    "\n",
    "# class implementation\n",
    "nodes = [node_deeponet]\n",
    "\n",
    "var_loss = (var_y_est == var_y_true.T)^2\n",
    "\n",
    "# need to implement \"mean l2 relative error\" from deepxde\n",
    "#var_loss = (((var_y_est - var_y_true.T) / var_y_true.T + 0.000000000001) == 0.0)^2\n",
    "# https://pytorch.org/docs/stable/generated/torch.linalg.norm.html\n",
    "#var_loss = torch.linalg.norm(var_y_true - var_y_est, axis=1) / torch.linalg.norm(var_y_true, axis=1)\n",
    "#var_loss = (var_y_est == var_y_true) / var_y_true\n",
    "var_loss.name = \"residual_loss\"\n",
    "objectives = [var_loss]\n",
    "\n",
    "loss = PenaltyLoss(objectives, constraints=[])\n",
    "\n",
    "problem = Problem(nodes, loss=loss, grad_inference=True)\n"
   ]
  },
  {
   "cell_type": "code",
   "execution_count": 20,
   "metadata": {},
   "outputs": [
    {
     "data": {
      "image/png": "[encoded data removed]",
      "text/plain": [
       "<Figure size 640x480 with 1 Axes>"
      ]
     },
     "metadata": {},
     "output_type": "display_data"
    }
   ],
   "source": [
    "# brew install graphviz\n",
    "problem.show()"
   ]
  },
  {
   "cell_type": "markdown",
   "metadata": {},
   "source": [
    "## Problem Solution in NeuroMANCER"
   ]
  },
  {
   "cell_type": "code",
   "execution_count": 21,
   "metadata": {},
   "outputs": [],
   "source": [
    "lr = 0.001              # step size for gradient descent\n",
    "epochs = 10000          # number of training epochs\n",
    "epoch_verbose = 100     # print loss when this many epochs have occurred\n",
    "warmup = 100            # number of epochs to wait before enacting early stopping policy\n",
    "patience = 5            # (not working?) number of epochs with no improvement in eval metric to allow before early stopping"
   ]
  },
  {
   "cell_type": "code",
   "execution_count": 22,
   "metadata": {},
   "outputs": [],
   "source": [
    "optimizer = torch.optim.Adam(problem.parameters(), lr=lr) # double check Adam params\n",
    "\n",
    "# define trainer\n",
    "trainer = Trainer(\n",
    "    problem,\n",
    "    train_data=train_loader,\n",
    "    #dev_data=test_loader,\n",
    "    optimizer=optimizer,\n",
    "    epochs=epochs,\n",
    "    patience=patience,\n",
    "    epoch_verbose=epoch_verbose,\n",
    "    train_metric='train_loss',\n",
    "    #dev_metric='dev_loss',\n",
    "    #eval_metric='dev_loss',\n",
    "    eval_metric=\"train_loss\",\n",
    "    warmup = warmup\n",
    ")"
   ]
  },
  {
   "cell_type": "code",
   "execution_count": 29,
   "metadata": {},
   "outputs": [
    {
     "ename": "AttributeError",
     "evalue": "'DeepONet' object has no attribute 'transpose_branch_input'",
     "output_type": "error",
     "traceback": [
      "\u001b[0;31m---------------------------------------------------------------------------\u001b[0m",
      "\u001b[0;31mAttributeError\u001b[0m                            Traceback (most recent call last)",
      "File \u001b[0;32m<timed exec>:1\u001b[0m\n",
      "File \u001b[0;32m~/Library/CloudStorage/OneDrive-PNNL/Documents/Neuromancer/repos/neuromancer_deeponet/src/neuromancer/trainer.py:274\u001b[0m, in \u001b[0;36mTrainer.train\u001b[0;34m(self)\u001b[0m\n\u001b[1;32m    272\u001b[0m t_batch[\u001b[38;5;124m'\u001b[39m\u001b[38;5;124mepoch\u001b[39m\u001b[38;5;124m'\u001b[39m] \u001b[38;5;241m=\u001b[39m i\n\u001b[1;32m    273\u001b[0m t_batch \u001b[38;5;241m=\u001b[39m move_batch_to_device(t_batch, \u001b[38;5;28mself\u001b[39m\u001b[38;5;241m.\u001b[39mdevice)\n\u001b[0;32m--> 274\u001b[0m output \u001b[38;5;241m=\u001b[39m \u001b[38;5;28;43mself\u001b[39;49m\u001b[38;5;241;43m.\u001b[39;49m\u001b[43mmodel\u001b[49m\u001b[43m(\u001b[49m\u001b[43mt_batch\u001b[49m\u001b[43m)\u001b[49m\n\u001b[1;32m    275\u001b[0m \u001b[38;5;28mself\u001b[39m\u001b[38;5;241m.\u001b[39moptimizer\u001b[38;5;241m.\u001b[39mzero_grad()\n\u001b[1;32m    276\u001b[0m output[\u001b[38;5;28mself\u001b[39m\u001b[38;5;241m.\u001b[39mtrain_metric]\u001b[38;5;241m.\u001b[39mbackward()\n",
      "File \u001b[0;32m~/anaconda3/envs/eerc-deeponet/lib/python3.10/site-packages/torch/nn/modules/module.py:1532\u001b[0m, in \u001b[0;36mModule._wrapped_call_impl\u001b[0;34m(self, *args, **kwargs)\u001b[0m\n\u001b[1;32m   1530\u001b[0m     \u001b[38;5;28;01mreturn\u001b[39;00m \u001b[38;5;28mself\u001b[39m\u001b[38;5;241m.\u001b[39m_compiled_call_impl(\u001b[38;5;241m*\u001b[39margs, \u001b[38;5;241m*\u001b[39m\u001b[38;5;241m*\u001b[39mkwargs)  \u001b[38;5;66;03m# type: ignore[misc]\u001b[39;00m\n\u001b[1;32m   1531\u001b[0m \u001b[38;5;28;01melse\u001b[39;00m:\n\u001b[0;32m-> 1532\u001b[0m     \u001b[38;5;28;01mreturn\u001b[39;00m \u001b[38;5;28;43mself\u001b[39;49m\u001b[38;5;241;43m.\u001b[39;49m\u001b[43m_call_impl\u001b[49m\u001b[43m(\u001b[49m\u001b[38;5;241;43m*\u001b[39;49m\u001b[43margs\u001b[49m\u001b[43m,\u001b[49m\u001b[43m \u001b[49m\u001b[38;5;241;43m*\u001b[39;49m\u001b[38;5;241;43m*\u001b[39;49m\u001b[43mkwargs\u001b[49m\u001b[43m)\u001b[49m\n",
      "File \u001b[0;32m~/anaconda3/envs/eerc-deeponet/lib/python3.10/site-packages/torch/nn/modules/module.py:1541\u001b[0m, in \u001b[0;36mModule._call_impl\u001b[0;34m(self, *args, **kwargs)\u001b[0m\n\u001b[1;32m   1536\u001b[0m \u001b[38;5;66;03m# If we don't have any hooks, we want to skip the rest of the logic in\u001b[39;00m\n\u001b[1;32m   1537\u001b[0m \u001b[38;5;66;03m# this function, and just call forward.\u001b[39;00m\n\u001b[1;32m   1538\u001b[0m \u001b[38;5;28;01mif\u001b[39;00m \u001b[38;5;129;01mnot\u001b[39;00m (\u001b[38;5;28mself\u001b[39m\u001b[38;5;241m.\u001b[39m_backward_hooks \u001b[38;5;129;01mor\u001b[39;00m \u001b[38;5;28mself\u001b[39m\u001b[38;5;241m.\u001b[39m_backward_pre_hooks \u001b[38;5;129;01mor\u001b[39;00m \u001b[38;5;28mself\u001b[39m\u001b[38;5;241m.\u001b[39m_forward_hooks \u001b[38;5;129;01mor\u001b[39;00m \u001b[38;5;28mself\u001b[39m\u001b[38;5;241m.\u001b[39m_forward_pre_hooks\n\u001b[1;32m   1539\u001b[0m         \u001b[38;5;129;01mor\u001b[39;00m _global_backward_pre_hooks \u001b[38;5;129;01mor\u001b[39;00m _global_backward_hooks\n\u001b[1;32m   1540\u001b[0m         \u001b[38;5;129;01mor\u001b[39;00m _global_forward_hooks \u001b[38;5;129;01mor\u001b[39;00m _global_forward_pre_hooks):\n\u001b[0;32m-> 1541\u001b[0m     \u001b[38;5;28;01mreturn\u001b[39;00m \u001b[43mforward_call\u001b[49m\u001b[43m(\u001b[49m\u001b[38;5;241;43m*\u001b[39;49m\u001b[43margs\u001b[49m\u001b[43m,\u001b[49m\u001b[43m \u001b[49m\u001b[38;5;241;43m*\u001b[39;49m\u001b[38;5;241;43m*\u001b[39;49m\u001b[43mkwargs\u001b[49m\u001b[43m)\u001b[49m\n\u001b[1;32m   1543\u001b[0m \u001b[38;5;28;01mtry\u001b[39;00m:\n\u001b[1;32m   1544\u001b[0m     result \u001b[38;5;241m=\u001b[39m \u001b[38;5;28;01mNone\u001b[39;00m\n",
      "File \u001b[0;32m~/Library/CloudStorage/OneDrive-PNNL/Documents/Neuromancer/repos/neuromancer_deeponet/src/neuromancer/problem.py:152\u001b[0m, in \u001b[0;36mProblem.forward\u001b[0;34m(self, data)\u001b[0m\n\u001b[1;32m    151\u001b[0m \u001b[38;5;28;01mdef\u001b[39;00m \u001b[38;5;21mforward\u001b[39m(\u001b[38;5;28mself\u001b[39m, data: Dict[\u001b[38;5;28mstr\u001b[39m, torch\u001b[38;5;241m.\u001b[39mTensor]) \u001b[38;5;241m-\u001b[39m\u001b[38;5;241m>\u001b[39m Dict[\u001b[38;5;28mstr\u001b[39m, torch\u001b[38;5;241m.\u001b[39mTensor]:\n\u001b[0;32m--> 152\u001b[0m     output_dict \u001b[38;5;241m=\u001b[39m \u001b[38;5;28;43mself\u001b[39;49m\u001b[38;5;241;43m.\u001b[39;49m\u001b[43mstep\u001b[49m\u001b[43m(\u001b[49m\u001b[43mdata\u001b[49m\u001b[43m)\u001b[49m\n\u001b[1;32m    153\u001b[0m     output_dict \u001b[38;5;241m=\u001b[39m \u001b[38;5;28mself\u001b[39m\u001b[38;5;241m.\u001b[39mloss(output_dict)\n\u001b[1;32m    154\u001b[0m     \u001b[38;5;28;01mif\u001b[39;00m \u001b[38;5;28misinstance\u001b[39m(output_dict, torch\u001b[38;5;241m.\u001b[39mTensor):\n",
      "File \u001b[0;32m~/Library/CloudStorage/OneDrive-PNNL/Documents/Neuromancer/repos/neuromancer_deeponet/src/neuromancer/problem.py:160\u001b[0m, in \u001b[0;36mProblem.step\u001b[0;34m(self, input_dict)\u001b[0m\n\u001b[1;32m    158\u001b[0m \u001b[38;5;28;01mdef\u001b[39;00m \u001b[38;5;21mstep\u001b[39m(\u001b[38;5;28mself\u001b[39m, input_dict: Dict[\u001b[38;5;28mstr\u001b[39m, torch\u001b[38;5;241m.\u001b[39mTensor]) \u001b[38;5;241m-\u001b[39m\u001b[38;5;241m>\u001b[39m Dict[\u001b[38;5;28mstr\u001b[39m, torch\u001b[38;5;241m.\u001b[39mTensor]:\n\u001b[1;32m    159\u001b[0m     \u001b[38;5;28;01mfor\u001b[39;00m node \u001b[38;5;129;01min\u001b[39;00m \u001b[38;5;28mself\u001b[39m\u001b[38;5;241m.\u001b[39mnodes:\n\u001b[0;32m--> 160\u001b[0m         output_dict \u001b[38;5;241m=\u001b[39m \u001b[43mnode\u001b[49m\u001b[43m(\u001b[49m\u001b[43minput_dict\u001b[49m\u001b[43m)\u001b[49m\n\u001b[1;32m    161\u001b[0m         \u001b[38;5;28;01mif\u001b[39;00m \u001b[38;5;28misinstance\u001b[39m(output_dict, torch\u001b[38;5;241m.\u001b[39mTensor):\n\u001b[1;32m    162\u001b[0m             output_dict \u001b[38;5;241m=\u001b[39m {node\u001b[38;5;241m.\u001b[39mname: output_dict}\n",
      "File \u001b[0;32m~/anaconda3/envs/eerc-deeponet/lib/python3.10/site-packages/torch/nn/modules/module.py:1532\u001b[0m, in \u001b[0;36mModule._wrapped_call_impl\u001b[0;34m(self, *args, **kwargs)\u001b[0m\n\u001b[1;32m   1530\u001b[0m     \u001b[38;5;28;01mreturn\u001b[39;00m \u001b[38;5;28mself\u001b[39m\u001b[38;5;241m.\u001b[39m_compiled_call_impl(\u001b[38;5;241m*\u001b[39margs, \u001b[38;5;241m*\u001b[39m\u001b[38;5;241m*\u001b[39mkwargs)  \u001b[38;5;66;03m# type: ignore[misc]\u001b[39;00m\n\u001b[1;32m   1531\u001b[0m \u001b[38;5;28;01melse\u001b[39;00m:\n\u001b[0;32m-> 1532\u001b[0m     \u001b[38;5;28;01mreturn\u001b[39;00m \u001b[38;5;28;43mself\u001b[39;49m\u001b[38;5;241;43m.\u001b[39;49m\u001b[43m_call_impl\u001b[49m\u001b[43m(\u001b[49m\u001b[38;5;241;43m*\u001b[39;49m\u001b[43margs\u001b[49m\u001b[43m,\u001b[49m\u001b[43m \u001b[49m\u001b[38;5;241;43m*\u001b[39;49m\u001b[38;5;241;43m*\u001b[39;49m\u001b[43mkwargs\u001b[49m\u001b[43m)\u001b[49m\n",
      "File \u001b[0;32m~/anaconda3/envs/eerc-deeponet/lib/python3.10/site-packages/torch/nn/modules/module.py:1541\u001b[0m, in \u001b[0;36mModule._call_impl\u001b[0;34m(self, *args, **kwargs)\u001b[0m\n\u001b[1;32m   1536\u001b[0m \u001b[38;5;66;03m# If we don't have any hooks, we want to skip the rest of the logic in\u001b[39;00m\n\u001b[1;32m   1537\u001b[0m \u001b[38;5;66;03m# this function, and just call forward.\u001b[39;00m\n\u001b[1;32m   1538\u001b[0m \u001b[38;5;28;01mif\u001b[39;00m \u001b[38;5;129;01mnot\u001b[39;00m (\u001b[38;5;28mself\u001b[39m\u001b[38;5;241m.\u001b[39m_backward_hooks \u001b[38;5;129;01mor\u001b[39;00m \u001b[38;5;28mself\u001b[39m\u001b[38;5;241m.\u001b[39m_backward_pre_hooks \u001b[38;5;129;01mor\u001b[39;00m \u001b[38;5;28mself\u001b[39m\u001b[38;5;241m.\u001b[39m_forward_hooks \u001b[38;5;129;01mor\u001b[39;00m \u001b[38;5;28mself\u001b[39m\u001b[38;5;241m.\u001b[39m_forward_pre_hooks\n\u001b[1;32m   1539\u001b[0m         \u001b[38;5;129;01mor\u001b[39;00m _global_backward_pre_hooks \u001b[38;5;129;01mor\u001b[39;00m _global_backward_hooks\n\u001b[1;32m   1540\u001b[0m         \u001b[38;5;129;01mor\u001b[39;00m _global_forward_hooks \u001b[38;5;129;01mor\u001b[39;00m _global_forward_pre_hooks):\n\u001b[0;32m-> 1541\u001b[0m     \u001b[38;5;28;01mreturn\u001b[39;00m \u001b[43mforward_call\u001b[49m\u001b[43m(\u001b[49m\u001b[38;5;241;43m*\u001b[39;49m\u001b[43margs\u001b[49m\u001b[43m,\u001b[49m\u001b[43m \u001b[49m\u001b[38;5;241;43m*\u001b[39;49m\u001b[38;5;241;43m*\u001b[39;49m\u001b[43mkwargs\u001b[49m\u001b[43m)\u001b[49m\n\u001b[1;32m   1543\u001b[0m \u001b[38;5;28;01mtry\u001b[39;00m:\n\u001b[1;32m   1544\u001b[0m     result \u001b[38;5;241m=\u001b[39m \u001b[38;5;28;01mNone\u001b[39;00m\n",
      "File \u001b[0;32m~/Library/CloudStorage/OneDrive-PNNL/Documents/Neuromancer/repos/neuromancer_deeponet/src/neuromancer/system.py:50\u001b[0m, in \u001b[0;36mNode.forward\u001b[0;34m(self, data)\u001b[0m\n\u001b[1;32m     43\u001b[0m \u001b[38;5;250m\u001b[39m\u001b[38;5;124;03m\"\"\"\u001b[39;00m\n\u001b[1;32m     44\u001b[0m \u001b[38;5;124;03mThis call function wraps the callable to receive/send dictionaries of Tensors\u001b[39;00m\n\u001b[1;32m     45\u001b[0m \n\u001b[1;32m     46\u001b[0m \u001b[38;5;124;03m:param datadict: (dict {str: Tensor}) input to callable with associated input_keys\u001b[39;00m\n\u001b[1;32m     47\u001b[0m \u001b[38;5;124;03m:return: (dict {str: Tensor}) Output of callable with associated output_keys\u001b[39;00m\n\u001b[1;32m     48\u001b[0m \u001b[38;5;124;03m\"\"\"\u001b[39;00m\n\u001b[1;32m     49\u001b[0m inputs \u001b[38;5;241m=\u001b[39m [data[k] \u001b[38;5;28;01mfor\u001b[39;00m k \u001b[38;5;129;01min\u001b[39;00m \u001b[38;5;28mself\u001b[39m\u001b[38;5;241m.\u001b[39minput_keys]\n\u001b[0;32m---> 50\u001b[0m output \u001b[38;5;241m=\u001b[39m \u001b[38;5;28;43mself\u001b[39;49m\u001b[38;5;241;43m.\u001b[39;49m\u001b[43mcallable\u001b[49m\u001b[43m(\u001b[49m\u001b[38;5;241;43m*\u001b[39;49m\u001b[43minputs\u001b[49m\u001b[43m)\u001b[49m\n\u001b[1;32m     51\u001b[0m \u001b[38;5;28;01mif\u001b[39;00m \u001b[38;5;129;01mnot\u001b[39;00m \u001b[38;5;28misinstance\u001b[39m(output, \u001b[38;5;28mtuple\u001b[39m):\n\u001b[1;32m     52\u001b[0m     output \u001b[38;5;241m=\u001b[39m [output]\n",
      "File \u001b[0;32m~/anaconda3/envs/eerc-deeponet/lib/python3.10/site-packages/torch/nn/modules/module.py:1532\u001b[0m, in \u001b[0;36mModule._wrapped_call_impl\u001b[0;34m(self, *args, **kwargs)\u001b[0m\n\u001b[1;32m   1530\u001b[0m     \u001b[38;5;28;01mreturn\u001b[39;00m \u001b[38;5;28mself\u001b[39m\u001b[38;5;241m.\u001b[39m_compiled_call_impl(\u001b[38;5;241m*\u001b[39margs, \u001b[38;5;241m*\u001b[39m\u001b[38;5;241m*\u001b[39mkwargs)  \u001b[38;5;66;03m# type: ignore[misc]\u001b[39;00m\n\u001b[1;32m   1531\u001b[0m \u001b[38;5;28;01melse\u001b[39;00m:\n\u001b[0;32m-> 1532\u001b[0m     \u001b[38;5;28;01mreturn\u001b[39;00m \u001b[38;5;28;43mself\u001b[39;49m\u001b[38;5;241;43m.\u001b[39;49m\u001b[43m_call_impl\u001b[49m\u001b[43m(\u001b[49m\u001b[38;5;241;43m*\u001b[39;49m\u001b[43margs\u001b[49m\u001b[43m,\u001b[49m\u001b[43m \u001b[49m\u001b[38;5;241;43m*\u001b[39;49m\u001b[38;5;241;43m*\u001b[39;49m\u001b[43mkwargs\u001b[49m\u001b[43m)\u001b[49m\n",
      "File \u001b[0;32m~/anaconda3/envs/eerc-deeponet/lib/python3.10/site-packages/torch/nn/modules/module.py:1541\u001b[0m, in \u001b[0;36mModule._call_impl\u001b[0;34m(self, *args, **kwargs)\u001b[0m\n\u001b[1;32m   1536\u001b[0m \u001b[38;5;66;03m# If we don't have any hooks, we want to skip the rest of the logic in\u001b[39;00m\n\u001b[1;32m   1537\u001b[0m \u001b[38;5;66;03m# this function, and just call forward.\u001b[39;00m\n\u001b[1;32m   1538\u001b[0m \u001b[38;5;28;01mif\u001b[39;00m \u001b[38;5;129;01mnot\u001b[39;00m (\u001b[38;5;28mself\u001b[39m\u001b[38;5;241m.\u001b[39m_backward_hooks \u001b[38;5;129;01mor\u001b[39;00m \u001b[38;5;28mself\u001b[39m\u001b[38;5;241m.\u001b[39m_backward_pre_hooks \u001b[38;5;129;01mor\u001b[39;00m \u001b[38;5;28mself\u001b[39m\u001b[38;5;241m.\u001b[39m_forward_hooks \u001b[38;5;129;01mor\u001b[39;00m \u001b[38;5;28mself\u001b[39m\u001b[38;5;241m.\u001b[39m_forward_pre_hooks\n\u001b[1;32m   1539\u001b[0m         \u001b[38;5;129;01mor\u001b[39;00m _global_backward_pre_hooks \u001b[38;5;129;01mor\u001b[39;00m _global_backward_hooks\n\u001b[1;32m   1540\u001b[0m         \u001b[38;5;129;01mor\u001b[39;00m _global_forward_hooks \u001b[38;5;129;01mor\u001b[39;00m _global_forward_pre_hooks):\n\u001b[0;32m-> 1541\u001b[0m     \u001b[38;5;28;01mreturn\u001b[39;00m \u001b[43mforward_call\u001b[49m\u001b[43m(\u001b[49m\u001b[38;5;241;43m*\u001b[39;49m\u001b[43margs\u001b[49m\u001b[43m,\u001b[49m\u001b[43m \u001b[49m\u001b[38;5;241;43m*\u001b[39;49m\u001b[38;5;241;43m*\u001b[39;49m\u001b[43mkwargs\u001b[49m\u001b[43m)\u001b[49m\n\u001b[1;32m   1543\u001b[0m \u001b[38;5;28;01mtry\u001b[39;00m:\n\u001b[1;32m   1544\u001b[0m     result \u001b[38;5;241m=\u001b[39m \u001b[38;5;28;01mNone\u001b[39;00m\n",
      "File \u001b[0;32m~/Library/CloudStorage/OneDrive-PNNL/Documents/Neuromancer/repos/neuromancer_deeponet/src/neuromancer/modules/blocks.py:38\u001b[0m, in \u001b[0;36mBlock.forward\u001b[0;34m(self, *inputs)\u001b[0m\n\u001b[1;32m     36\u001b[0m \u001b[38;5;28;01melse\u001b[39;00m:\n\u001b[1;32m     37\u001b[0m     x \u001b[38;5;241m=\u001b[39m inputs[\u001b[38;5;241m0\u001b[39m]\n\u001b[0;32m---> 38\u001b[0m \u001b[38;5;28;01mreturn\u001b[39;00m \u001b[38;5;28;43mself\u001b[39;49m\u001b[38;5;241;43m.\u001b[39;49m\u001b[43mblock_eval\u001b[49m\u001b[43m(\u001b[49m\u001b[43mx\u001b[49m\u001b[43m)\u001b[49m\n",
      "File \u001b[0;32m~/Library/CloudStorage/OneDrive-PNNL/Documents/Neuromancer/repos/neuromancer_deeponet/src/neuromancer/modules/blocks.py:768\u001b[0m, in \u001b[0;36mDeepONet.block_eval\u001b[0;34m(self, x)\u001b[0m\n\u001b[1;32m    766\u001b[0m trunk_inputs \u001b[38;5;241m=\u001b[39m \u001b[38;5;28;01mNone\u001b[39;00m\n\u001b[1;32m    767\u001b[0m \u001b[38;5;66;03m#return super().block_eval(x)\u001b[39;00m\n\u001b[0;32m--> 768\u001b[0m branch_output \u001b[38;5;241m=\u001b[39m \u001b[38;5;28mself\u001b[39m\u001b[38;5;241m.\u001b[39mbranch_net(\u001b[38;5;28;43mself\u001b[39;49m\u001b[38;5;241;43m.\u001b[39;49m\u001b[43mtranspose_branch_input\u001b[49m(branch_inputs))\n\u001b[1;32m    769\u001b[0m trunk_output \u001b[38;5;241m=\u001b[39m \u001b[38;5;28mself\u001b[39m\u001b[38;5;241m.\u001b[39mtrunk_net(trunk_inputs)\n\u001b[1;32m    770\u001b[0m result \u001b[38;5;241m=\u001b[39m torch\u001b[38;5;241m.\u001b[39mmatmul(branch_output, trunk_output\u001b[38;5;241m.\u001b[39mT) \u001b[38;5;241m+\u001b[39m \u001b[38;5;28mself\u001b[39m\u001b[38;5;241m.\u001b[39mbias\n",
      "File \u001b[0;32m~/anaconda3/envs/eerc-deeponet/lib/python3.10/site-packages/torch/nn/modules/module.py:1709\u001b[0m, in \u001b[0;36mModule.__getattr__\u001b[0;34m(self, name)\u001b[0m\n\u001b[1;32m   1707\u001b[0m     \u001b[38;5;28;01mif\u001b[39;00m name \u001b[38;5;129;01min\u001b[39;00m modules:\n\u001b[1;32m   1708\u001b[0m         \u001b[38;5;28;01mreturn\u001b[39;00m modules[name]\n\u001b[0;32m-> 1709\u001b[0m \u001b[38;5;28;01mraise\u001b[39;00m \u001b[38;5;167;01mAttributeError\u001b[39;00m(\u001b[38;5;124mf\u001b[39m\u001b[38;5;124m\"\u001b[39m\u001b[38;5;124m'\u001b[39m\u001b[38;5;132;01m{\u001b[39;00m\u001b[38;5;28mtype\u001b[39m(\u001b[38;5;28mself\u001b[39m)\u001b[38;5;241m.\u001b[39m\u001b[38;5;18m__name__\u001b[39m\u001b[38;5;132;01m}\u001b[39;00m\u001b[38;5;124m'\u001b[39m\u001b[38;5;124m object has no attribute \u001b[39m\u001b[38;5;124m'\u001b[39m\u001b[38;5;132;01m{\u001b[39;00mname\u001b[38;5;132;01m}\u001b[39;00m\u001b[38;5;124m'\u001b[39m\u001b[38;5;124m\"\u001b[39m)\n",
      "\u001b[0;31mAttributeError\u001b[0m: 'DeepONet' object has no attribute 'transpose_branch_input'"
     ]
    }
   ],
   "source": [
    "%%time\n",
    "best_model = trainer.train()\n"
   ]
  },
  {
   "cell_type": "code",
   "execution_count": 24,
   "metadata": {},
   "outputs": [
    {
     "name": "stdout",
     "output_type": "stream",
     "text": [
      "len(train_loss_history): 0\n",
      "len(dev_loss_history): 0\n"
     ]
    }
   ],
   "source": [
    "train_loss_history = [l.detach().numpy() for l in trainer.loss_history[\"train\"]]\n",
    "dev_loss_history = [l.detach().numpy() for l in trainer.loss_history[\"dev\"]]\n",
    "print(f\"len(train_loss_history): {len(train_loss_history)}\")\n",
    "print(f\"len(dev_loss_history): {len(dev_loss_history)}\")"
   ]
  },
  {
   "cell_type": "markdown",
   "metadata": {},
   "source": [
    "## plot loss history"
   ]
  },
  {
   "cell_type": "code",
   "execution_count": 25,
   "metadata": {},
   "outputs": [
    {
     "data": {
      "image/png": "[encoded data removed]",
      "text/plain": [
       "<Figure size 640x480 with 1 Axes>"
      ]
     },
     "metadata": {},
     "output_type": "display_data"
    }
   ],
   "source": [
    "plt.semilogy(train_loss_history)\n",
    "plt.title(\"Epoch Mean Train Loss\")\n",
    "plt.show()"
   ]
  },
  {
   "cell_type": "code",
   "execution_count": 26,
   "metadata": {},
   "outputs": [
    {
     "data": {
      "image/png": "[encoded data removed]",
      "text/plain": [
       "<Figure size 640x480 with 1 Axes>"
      ]
     },
     "metadata": {},
     "output_type": "display_data"
    }
   ],
   "source": [
    "plt.semilogy(dev_loss_history)\n",
    "plt.title(\"Epoch Mean Dev Loss\")\n",
    "plt.show()"
   ]
  },
  {
   "cell_type": "markdown",
   "metadata": {},
   "source": [
    "## test trainer (need to add dev dataset)"
   ]
  },
  {
   "cell_type": "code",
   "execution_count": 27,
   "metadata": {},
   "outputs": [],
   "source": [
    "#best_outputs = trainer.test(best_model)"
   ]
  },
  {
   "cell_type": "code",
   "execution_count": 28,
   "metadata": {},
   "outputs": [
    {
     "ename": "NameError",
     "evalue": "name 'best_model' is not defined",
     "output_type": "error",
     "traceback": [
      "\u001b[0;31m---------------------------------------------------------------------------\u001b[0m",
      "\u001b[0;31mNameError\u001b[0m                                 Traceback (most recent call last)",
      "Cell \u001b[0;32mIn[28], line 2\u001b[0m\n\u001b[1;32m      1\u001b[0m \u001b[38;5;66;03m# load best trained model\u001b[39;00m\n\u001b[0;32m----> 2\u001b[0m problem\u001b[38;5;241m.\u001b[39mload_state_dict(\u001b[43mbest_model\u001b[49m)\n",
      "\u001b[0;31mNameError\u001b[0m: name 'best_model' is not defined"
     ]
    }
   ],
   "source": [
    "# load best trained model\n",
    "problem.load_state_dict(best_model)"
   ]
  },
  {
   "cell_type": "code",
   "execution_count": null,
   "metadata": {},
   "outputs": [],
   "source": [
    "# (not working) Evaluate trained PINN on data (all the data in the domain)\n",
    "#val_u = problem(train_data.datadict)\n"
   ]
  },
  {
   "cell_type": "markdown",
   "metadata": {},
   "source": [
    "## Compare results"
   ]
  },
  {
   "cell_type": "code",
   "execution_count": null,
   "metadata": {},
   "outputs": [],
   "source": [
    "k = 0 # k is the k-th function among the 1000 test functions\n",
    "v_ = test_data.datadict[\"branch_inputs\"][:,k].reshape(-1,1)\n",
    "x_ = test_data.datadict[\"trunk_inputs\"]\n",
    "#v_ = train_data.datadict[\"branch_inputs\"][:,k].reshape(-1,1)\n",
    "#x_ = train_data.datadict[\"trunk_inputs\"]\n",
    "print(v_.shape, x_.shape)\n",
    "\n",
    "\n",
    "## Note: Neuromancer needs a better forward method to 'predict' after the model is trained\n",
    "## This is a workaround that I found (forward pass with zero 'outputs')\n",
    "## You could also use a problem.step({'branch_inputs':v_, 'trunk_inputs':x_}) here, but that is not as great\n",
    "## as it computes the gradients again.\n",
    "res = problem.step({'branch_inputs':v_, 'trunk_inputs':x_})\n",
    "\n",
    "u_ = test_data.datadict[\"outputs\"][:,k]\n",
    "#u_ = train_data.datadict[\"outputs\"][:,k]\n",
    "u_est = res['g'].T\n",
    "\n",
    "plt.plot(x_.detach().numpy(), v_.detach().numpy(),label='v_')\n",
    "plt.plot(x_.detach().numpy(), u_.detach().numpy(),label='u_')\n",
    "plt.plot(x_.detach().numpy(), u_est.detach().numpy(),label='u_est')\n",
    "\n",
    "plt.legend()\n"
   ]
  },
  {
   "cell_type": "code",
   "execution_count": null,
   "metadata": {},
   "outputs": [],
   "source": [
    "x_ = train_data.datadict[\"trunk_inputs\"]\n",
    "v_ = torch.pow(x_,2).reshape(-1,1)\n",
    "\n",
    "print(v_.shape, x_.shape)\n",
    "res = problem.step({'branch_inputs':v_, 'trunk_inputs':x_})\n",
    "\n",
    "u_ = (1./3.)*torch.pow(x_,3).reshape(-1,1)\n",
    "u_est = res['g'].T\n",
    "\n",
    "plt.plot(x_.detach().numpy(), v_.detach().numpy(),label='$v(x) = x^2$')\n",
    "plt.plot(x_.detach().numpy(), u_.detach().numpy(),label='integral of v, exact ($x^3/3$)')\n",
    "plt.plot(x_.detach().numpy(), u_est.detach().numpy(),label='integral of v, estimated')\n",
    "plt.legend()\n"
   ]
  },
  {
   "cell_type": "markdown",
   "metadata": {},
   "source": [
    "## Compare: NeuroMANCER vs. DeepXDE"
   ]
  },
  {
   "cell_type": "code",
   "execution_count": null,
   "metadata": {},
   "outputs": [],
   "source": [
    "%env DDE_BACKEND=pytorch\n",
    "\n",
    "import deepxde as dde"
   ]
  },
  {
   "cell_type": "code",
   "execution_count": null,
   "metadata": {},
   "outputs": [],
   "source": [
    "# Load dataset\n",
    "X_train = (dataset_train[\"X\"][0].astype(np.float32), dataset_train[\"X\"][1].astype(np.float32))\n",
    "y_train = dataset_train[\"y\"].astype(np.float32)\n",
    "X_test = (dataset_test[\"X\"][0].astype(np.float32), dataset_test[\"X\"][1].astype(np.float32))\n",
    "y_test = dataset_test[\"y\"].astype(np.float32)\n",
    "\n",
    "data = dde.data.TripleCartesianProd(\n",
    "    X_train=X_train, y_train=y_train, X_test=X_test, y_test=y_test\n",
    ")"
   ]
  },
  {
   "cell_type": "code",
   "execution_count": null,
   "metadata": {},
   "outputs": [],
   "source": [
    "# Choose a network\n",
    "m = 100\n",
    "dim_x = 1\n",
    "net = dde.nn.DeepONetCartesianProd(\n",
    "    [m, 40, 40],\n",
    "    [dim_x, 40, 40],\n",
    "    \"relu\",\n",
    "    \"Glorot normal\",\n",
    ")"
   ]
  },
  {
   "cell_type": "code",
   "execution_count": null,
   "metadata": {},
   "outputs": [],
   "source": [
    "# Define a Model\n",
    "model = dde.Model(data, net)"
   ]
  },
  {
   "cell_type": "code",
   "execution_count": null,
   "metadata": {},
   "outputs": [],
   "source": [
    "# Compile and Train\n",
    "model.compile(\"adam\", lr=0.001, metrics=[\"mean l2 relative error\"])\n",
    "losshistory, train_state = model.train(iterations=10000)"
   ]
  },
  {
   "cell_type": "code",
   "execution_count": null,
   "metadata": {},
   "outputs": [],
   "source": [
    "# Plot the loss trajectory\n",
    "dde.utils.plot_loss_history(losshistory)\n",
    "plt.show()\n"
   ]
  },
  {
   "cell_type": "code",
   "execution_count": null,
   "metadata": {},
   "outputs": [],
   "source": [
    "k = 0 # k is the k-th function among the 1000 test functions\n",
    "v_ = test_data.datadict[\"branch_inputs\"][:,k]\n",
    "x_ = test_data.datadict[\"trunk_inputs\"]\n",
    "#v_ = train_data.datadict[\"branch_inputs\"][:,k].reshape(-1,1)\n",
    "#x_ = train_data.datadict[\"trunk_inputs\"]\n",
    "print(v_.shape, x_.shape)\n",
    "\n",
    "\n",
    "## Note: Neuromancer needs a better forward method to 'predict' after the model is trained\n",
    "## This is a workaround that I found (forward pass with zero 'outputs')\n",
    "## You could also use a problem.step({'branch_inputs':v_, 'trunk_inputs':x_}) here, but that is not as great\n",
    "## as it computes the gradients again.\n",
    "#res = problem.step({'branch_inputs':v_, 'trunk_inputs':x_})\n",
    "res = model.predict((X_test[0][k], X_test[1][:,None]))\n",
    "\n",
    "u_ = test_data.datadict[\"outputs\"][:,k]\n",
    "#u_ = train_data.datadict[\"outputs\"][:,k]\n",
    "u_est = res['g'].T\n",
    "\n",
    "plt.plot(x_.detach().numpy(), v_.detach().numpy(),label='v_')\n",
    "plt.plot(x_.detach().numpy(), u_.detach().numpy(),label='u_')\n",
    "plt.plot(x_.detach().numpy(), u_est.detach().numpy(),label='u_est')\n",
    "\n",
    "plt.legend()"
   ]
  }
 ],
 "metadata": {
  "kernelspec": {
   "display_name": "eerc-deeponet",
   "language": "python",
   "name": "python3"
  },
  "language_info": {
   "codemirror_mode": {
    "name": "ipython",
    "version": 3
   },
   "file_extension": ".py",
   "mimetype": "text/x-python",
   "name": "python",
   "nbconvert_exporter": "python",
   "pygments_lexer": "ipython3",
   "version": "3.10.14"
  }
 },
 "nbformat": 4,
 "nbformat_minor": 4
}
