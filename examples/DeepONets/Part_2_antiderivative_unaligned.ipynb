{
 "cells": [
  {
   "cell_type": "markdown",
   "metadata": {},
   "source": [
    "# Antiderivative Operator - Unaligned Dataset\n",
    "\n",
    "This tutorial demonstrates the use of learning neural operators for a data driven use case (non-physics informed). \n",
    "\n",
    "### References\n",
    "[1] [Antiderivative operator from an aligned dataset - DeepXDE](https://deepxde.readthedocs.io/en/latest/demos/operator/antiderivative_aligned.html)\n",
    "\n",
    "[2] [DeepONet Tutorial in JAX](https://github.com/Ceyron/machine-learning-and-simulation/blob/main/english/neural_operators/simple_deepOnet_in_JAX.ipynb)"
   ]
  },
  {
   "cell_type": "markdown",
   "metadata": {},
   "source": [
    "### Install (Colab only)"
   ]
  },
  {
   "cell_type": "code",
   "metadata": {
    "ExecuteTime": {
     "end_time": "2024-06-19T23:53:34.027109Z",
     "start_time": "2024-06-19T23:53:34.024166Z"
    }
   },
   "source": [
    "#%pip install \"neuromancer[examples] @ git+https://github.com/pnnl/neuromancer.git@master\"\n",
    "#%pip install watermark"
   ],
   "outputs": [],
   "execution_count": 1
  },
  {
   "metadata": {
    "ExecuteTime": {
     "end_time": "2024-06-19T23:53:34.078599Z",
     "start_time": "2024-06-19T23:53:34.073863Z"
    }
   },
   "cell_type": "code",
   "source": "%pwd",
   "outputs": [
    {
     "data": {
      "text/plain": [
       "'/Users/hamc649/Library/CloudStorage/OneDrive-PNNL/Documents/Neuromancer/repos/neuromancer_deeponet/examples/DeepONets'"
      ]
     },
     "execution_count": 2,
     "metadata": {},
     "output_type": "execute_result"
    }
   ],
   "execution_count": 2
  },
  {
   "metadata": {
    "ExecuteTime": {
     "end_time": "2024-06-19T23:53:34.082106Z",
     "start_time": "2024-06-19T23:53:34.079587Z"
    }
   },
   "cell_type": "code",
   "source": [
    "# Added this to get working in JetBrains DataSpell, may work without in VSCode\n",
    "import os\n",
    "\n",
    "current = os.path.abspath('')\n",
    "print(current)\n",
    "repo_name = \"neuromancer_deeponet\"\n",
    "while current[-(len(repo_name)):] != repo_name:\n",
    "    parent = os.path.dirname(current)\n",
    "    print(parent)\n",
    "    os.chdir(parent)\n",
    "    current = parent"
   ],
   "outputs": [
    {
     "name": "stdout",
     "output_type": "stream",
     "text": [
      "/Users/hamc649/Library/CloudStorage/OneDrive-PNNL/Documents/Neuromancer/repos/neuromancer_deeponet/examples/DeepONets\n",
      "/Users/hamc649/Library/CloudStorage/OneDrive-PNNL/Documents/Neuromancer/repos/neuromancer_deeponet/examples\n",
      "/Users/hamc649/Library/CloudStorage/OneDrive-PNNL/Documents/Neuromancer/repos/neuromancer_deeponet\n"
     ]
    }
   ],
   "execution_count": 3
  },
  {
   "cell_type": "markdown",
   "metadata": {},
   "source": [
    "### Imports"
   ]
  },
  {
   "cell_type": "code",
   "metadata": {
    "ExecuteTime": {
     "end_time": "2024-06-19T23:53:57.998209Z",
     "start_time": "2024-06-19T23:53:34.083044Z"
    }
   },
   "source": [
    "from IPython.display import clear_output\n",
    "import matplotlib.pyplot as plt\n",
    "import numpy as np\n",
    "from pathlib import Path\n",
    "import torch\n",
    "import torch.nn.functional as F\n",
    "from torch.utils.data import DataLoader\n",
    "from examples.DeepONets.helper import prepare_data, split_test_into_dev_test\n",
    "\n",
    "# only for development\n",
    "import sys\n",
    "sys.path.append('src')"
   ],
   "outputs": [],
   "execution_count": 4
  },
  {
   "cell_type": "code",
   "metadata": {
    "ExecuteTime": {
     "end_time": "2024-06-19T23:53:58.002704Z",
     "start_time": "2024-06-19T23:53:57.999583Z"
    }
   },
   "source": [
    "from neuromancer.callbacks import Callback\n",
    "from neuromancer.constraint import variable\n",
    "from neuromancer.dataset import DictDataset\n",
    "from neuromancer.loss import PenaltyLoss\n",
    "from neuromancer.modules import blocks\n",
    "from neuromancer.modules.activations import activations\n",
    "from neuromancer.problem import Problem\n",
    "from neuromancer.system import Node\n",
    "from neuromancer.trainer import Trainer"
   ],
   "outputs": [],
   "execution_count": 5
  },
  {
   "cell_type": "code",
   "metadata": {
    "ExecuteTime": {
     "end_time": "2024-06-19T23:53:58.023092Z",
     "start_time": "2024-06-19T23:53:58.003616Z"
    }
   },
   "source": [
    "# PyTorch random seed\n",
    "torch.manual_seed(1234)\n",
    "\n",
    "# numpy random seed\n",
    "np.random.seed(1234)\n",
    "\n",
    "# Device configuration\n",
    "device = torch.device('cuda' if torch.cuda.is_available() else 'cpu')\n"
   ],
   "outputs": [],
   "execution_count": 6
  },
  {
   "cell_type": "markdown",
   "metadata": {},
   "source": [
    "# Problem Setup\n",
    "\n",
    "original source: [https://deepxde.readthedocs.io/en/latest/demos/operator/antiderivative_aligned.html](https://deepxde.readthedocs.io/en/latest/demos/operator/antiderivative_aligned.html)  \n",
    "\n",
    "We will learn the antiderivative operator \n",
    "\n",
    "$$G : v \\mapsto u$$\n",
    "\n",
    "defined by an ODE\n",
    "\n",
    "$$\\frac{du(x)}{dx} = v(x),\\;\\;x\\in [0,1]$$\n",
    "\n",
    "**Initial Condition:** \n",
    "$$u(0) = (0)$$\n",
    "\n",
    "We learn *G* from a dataset. Each data point in the dataset is one pair of (v,u), generated as follows:\n",
    "\n",
    "1. A random function *v* is sampled from a Gaussian random field (GRF) with the resolution m = 100.\n",
    "2. Solve *u* for *v* numerically. We assume that for each *u*, we have the values of *u(x)* in the same N<sub>u</sub> = 100 locations. Because we have the values of *u(x)* in the same locations, we call this dataset as \"aligned data\".\n",
    "\n",
    "* Dataset information\n",
    "    * The training dataset has size 150.\n",
    "    * The testing dataset has size 1000. (We split this into a dev/test split of size 500 each)\n",
    "    * Input of the branch net: the functions *v*. It is a matrix of shape (dataset size, m), e.g., (150, 100) for the training dataset.\n",
    "    * Input of the trunk net: the locations *x* of *u(x)*. It is a matrix of shape (*N<sub>u</sub>*, dimension)\n",
    "        * i.e., (100,1) for both training and testing datasets.\n",
    "    * Output: The values of *u(x)* in different locations for different *v*. It is a matrix of shape (dataset size, *N<sub>u</sub>*).\n",
    "        * e.g., (150, 100) for the training dataset.\n",
    "\n"
   ]
  },
  {
   "cell_type": "markdown",
   "metadata": {},
   "source": [
    "## Dataset Prep"
   ]
  },
  {
   "cell_type": "code",
   "metadata": {
    "ExecuteTime": {
     "end_time": "2024-06-19T23:53:58.028221Z",
     "start_time": "2024-06-19T23:53:58.025309Z"
    }
   },
   "source": [
    "data_dir = \"examples/DeepONets/datasets\"\n",
    "Path(data_dir).mkdir(exist_ok=True, parents=True)"
   ],
   "outputs": [],
   "execution_count": 7
  },
  {
   "cell_type": "markdown",
   "metadata": {},
   "source": [
    "### Download Datasets (Colab only)"
   ]
  },
  {
   "cell_type": "code",
   "metadata": {
    "ExecuteTime": {
     "end_time": "2024-06-19T23:53:58.031742Z",
     "start_time": "2024-06-19T23:53:58.029530Z"
    }
   },
   "source": [
    "#!wget https://github.com/pnnl/neuromancer/raw/master/examples/DeepONets/datasets/antiderivative_unaligned_test.npz -nc -O examples/DeepONets/datasets/antiderivative_aligned_test.npz\n",
    "#!wget https://github.com/pnnl/neuromancer/raw/master/examples/DeepONets/datasets/antiderivative_unaligned_train.npz -nc -O examples/DeepONets/datasets/antiderivative_aligned_train.npz"
   ],
   "outputs": [],
   "execution_count": 8
  },
  {
   "cell_type": "markdown",
   "metadata": {},
   "source": [
    "### Create named dictionary datasets"
   ]
  },
  {
   "cell_type": "code",
   "metadata": {
    "ExecuteTime": {
     "end_time": "2024-06-19T23:53:58.416139Z",
     "start_time": "2024-06-19T23:53:58.032905Z"
    }
   },
   "source": [
    "data_dir = \"examples/DeepONets/datasets\"\n",
    "\n",
    "# Load original train/testsplit files\n",
    "dataset_train = np.load(f\"{data_dir}/antiderivative_unaligned_train.npz\", allow_pickle=True)\n",
    "original_test = np.load(f\"{data_dir}/antiderivative_unaligned_test.npz\", allow_pickle=True)\n",
    "\n",
    "# Split original test set into 50/50 dev/test splits\n",
    "dataset_dev, dataset_test = split_test_into_dev_test(original_test)\n",
    "\n",
    "# Prepare data by transforming shapes\n",
    "train_data, Nu_train = prepare_data(dataset_train, name=\"train\")\n",
    "dev_data, Nu_dev = prepare_data(dataset_dev, name=\"dev\")\n",
    "test_data, Nu_test = prepare_data(dataset_test, name=\"test\")\n",
    "# GRF resolution, TODO get dynamic\n",
    "m = 100"
   ],
   "outputs": [
    {
     "name": "stdout",
     "output_type": "stream",
     "text": [
      "train dataset: Nu = 10000, Nsamples = 1\n",
      "dev dataset: Nu = 50000, Nsamples = 1\n",
      "test dataset: Nu = 50000, Nsamples = 1\n"
     ]
    }
   ],
   "execution_count": 9
  },
  {
   "cell_type": "markdown",
   "metadata": {},
   "source": [
    "### Create torch DataLoaders for the Trainer"
   ]
  },
  {
   "cell_type": "code",
   "metadata": {
    "ExecuteTime": {
     "end_time": "2024-06-19T23:53:58.419957Z",
     "start_time": "2024-06-19T23:53:58.417260Z"
    }
   },
   "source": [
    "batch_size = 100\n",
    "print(f\"batch_size: {batch_size}\")\n",
    "train_loader = DataLoader(train_data, batch_size=batch_size, collate_fn=train_data.collate_fn, shuffle=False)\n",
    "dev_loader = DataLoader(dev_data, batch_size=batch_size, collate_fn=dev_data.collate_fn, shuffle=False)\n",
    "test_loader = DataLoader(test_data, batch_size=batch_size, collate_fn=test_data.collate_fn, shuffle=False)"
   ],
   "outputs": [
    {
     "name": "stdout",
     "output_type": "stream",
     "text": [
      "batch_size: 100\n"
     ]
    }
   ],
   "execution_count": 10
  },
  {
   "cell_type": "markdown",
   "metadata": {},
   "source": [
    "## Define node"
   ]
  },
  {
   "cell_type": "code",
   "metadata": {
    "ExecuteTime": {
     "end_time": "2024-06-19T23:53:58.424990Z",
     "start_time": "2024-06-19T23:53:58.420901Z"
    }
   },
   "source": [
    "in_size_branch = m\n",
    "width_size = 40\n",
    "depth_branch = 2\n",
    "interact_size = 40\n",
    "in_size_trunk = 1\n",
    "depth_trunk = 2\n",
    "block_deeponet = blocks.DeepONet(\n",
    "    insize_branch=in_size_branch,\n",
    "    insize_trunk=in_size_trunk,\n",
    "    widthsize=width_size,\n",
    "    interactsize=interact_size,\n",
    "    depth_branch=depth_branch,\n",
    "    depth_trunk=depth_trunk,\n",
    "    nonlin=activations['relu'],\n",
    "    bias=True\n",
    ")"
   ],
   "outputs": [],
   "execution_count": 11
  },
  {
   "cell_type": "code",
   "metadata": {
    "ExecuteTime": {
     "end_time": "2024-06-19T23:53:58.427832Z",
     "start_time": "2024-06-19T23:53:58.425677Z"
    }
   },
   "source": [
    "node_deeponet = Node(block_deeponet, ['branch_inputs', 'trunk_inputs'], ['g'], name=\"deeponet\")\n",
    "print(node_deeponet)"
   ],
   "outputs": [
    {
     "name": "stdout",
     "output_type": "stream",
     "text": [
      "deeponet(branch_inputs, trunk_inputs) -> g\n"
     ]
    }
   ],
   "execution_count": 12
  },
  {
   "cell_type": "markdown",
   "metadata": {},
   "source": [
    "## Objective and Constraints in NeuroMANCER\n",
    "\n",
    "We use Mean Squared Error(MSE) for our loss function\n",
    "\n",
    "$$\\sum_{i=1}^{D}(x_i-y_i)^2$$\n",
    "\n"
   ]
  },
  {
   "cell_type": "code",
   "metadata": {
    "ExecuteTime": {
     "end_time": "2024-06-19T23:53:58.434848Z",
     "start_time": "2024-06-19T23:53:58.430690Z"
    }
   },
   "source": [
    "var_y_est = variable(\"g\")\n",
    "var_y_true = variable(\"outputs\")\n",
    "\n",
    "nodes = [node_deeponet]\n",
    "\n",
    "var_loss = (var_y_est == var_y_true.T)^2\n",
    "var_loss.name = \"residual_loss\"\n",
    "objectives = [var_loss]\n",
    "\n",
    "loss = PenaltyLoss(objectives, constraints=[])\n",
    "\n",
    "problem = Problem(nodes, loss=loss, grad_inference=True)\n"
   ],
   "outputs": [],
   "execution_count": 13
  },
  {
   "cell_type": "code",
   "metadata": {
    "ExecuteTime": {
     "end_time": "2024-06-19T23:53:58.846093Z",
     "start_time": "2024-06-19T23:53:58.435653Z"
    }
   },
   "source": [
    "problem.show()"
   ],
   "outputs": [
    {
     "data": {
      "text/plain": [
       "<Figure size 640x480 with 1 Axes>"
      ],
      "image/png": "[encoded data removed]"
     },
     "metadata": {},
     "output_type": "display_data"
    }
   ],
   "execution_count": 14
  },
  {
   "cell_type": "markdown",
   "metadata": {},
   "source": [
    "## Problem Solution in NeuroMANCER"
   ]
  },
  {
   "cell_type": "code",
   "metadata": {
    "ExecuteTime": {
     "end_time": "2024-06-19T23:53:58.870184Z",
     "start_time": "2024-06-19T23:53:58.850660Z"
    }
   },
   "source": [
    "lr = 0.001              # step size for gradient descent\n",
    "epochs = 10000          # number of training epochs\n",
    "epoch_verbose = 100     # print loss/display loss plot when this many epochs have occurred\n",
    "warmup = 100            # number of epochs to wait before enacting early stopping policy\n",
    "patience = 0            # number of epochs with no improvement in eval metric to allow before early stopping"
   ],
   "outputs": [],
   "execution_count": 15
  },
  {
   "cell_type": "markdown",
   "metadata": {},
   "source": [
    "### Construct Trainer and solve the problem"
   ]
  },
  {
   "cell_type": "code",
   "metadata": {
    "ExecuteTime": {
     "end_time": "2024-06-19T23:54:02.344483Z",
     "start_time": "2024-06-19T23:53:58.873306Z"
    }
   },
   "source": [
    "optimizer = torch.optim.AdamW(problem.parameters(), lr=lr)\n",
    "\n",
    "class LossHistoryCallback(Callback):\n",
    "    def end_epoch(self, trainer, output):\n",
    "        if trainer.current_epoch % trainer.epoch_verbose == 0:\n",
    "            train_loss_history = [l.detach().cpu().numpy() for l in trainer.loss_history[\"train\"]]\n",
    "            dev_loss_history = [l.detach().cpu().numpy() for l in trainer.loss_history[\"dev\"]]\n",
    "            clear_output(wait=True)\n",
    "            plt.semilogy(train_loss_history, label=\"Train loss\")\n",
    "            plt.semilogy(dev_loss_history, label=\"Dev loss\")\n",
    "            plt.xlabel(\"# Epochs\")\n",
    "            plt.legend()\n",
    "            plt.show()\n",
    "\n",
    "loss_history_callback = LossHistoryCallback()\n",
    "\n",
    "\n",
    "# define trainer\n",
    "trainer = Trainer(\n",
    "    problem.to(device),\n",
    "    train_data=train_loader,\n",
    "    dev_data=dev_loader,\n",
    "    test_data=test_loader,\n",
    "    optimizer=optimizer,\n",
    "    logger=None,\n",
    "    callback=loss_history_callback,\n",
    "    epochs=epochs,\n",
    "    patience=patience,\n",
    "    epoch_verbose=epoch_verbose,\n",
    "    train_metric='train_loss',\n",
    "    dev_metric='dev_loss',\n",
    "    test_metric='test_loss',\n",
    "    eval_metric=\"dev_loss\",\n",
    "    warmup = warmup,\n",
    "    device=device\n",
    ")"
   ],
   "outputs": [],
   "execution_count": 16
  },
  {
   "cell_type": "code",
   "metadata": {},
   "source": [
    "%%time\n",
    "best_model = trainer.train()"
   ],
   "execution_count": 17,
   "outputs": [
    {
     "name": "stdout",
     "output_type": "stream",
     "text": [
      "Early stopping!!!\n",
      "CPU times: user 1min 27s, sys: 3min 49s, total: 5min 17s\n",
      "Wall time: 44.9 s\n"
     ]
    }
   ]
  },
  {
   "cell_type": "code",
   "metadata": {
    "ExecuteTime": {
     "end_time": "2024-06-19T23:54:47.921683Z",
     "start_time": "2024-06-19T23:54:47.227473Z"
    }
   },
   "source": [
    "# load best trained model\n",
    "best_outputs = trainer.test(best_model)\n",
    "problem.load_state_dict(best_model)"
   ],
   "outputs": [
    {
     "data": {
      "text/plain": [
       "<All keys matched successfully>"
      ]
     },
     "execution_count": 18,
     "metadata": {},
     "output_type": "execute_result"
    }
   ],
   "execution_count": 18
  },
  {
   "cell_type": "code",
   "metadata": {
    "ExecuteTime": {
     "end_time": "2024-06-19T23:54:47.926027Z",
     "start_time": "2024-06-19T23:54:47.922491Z"
    }
   },
   "source": [
    "train_loss_history = [l.detach().cpu().numpy() for l in trainer.loss_history[\"train\"]]\n",
    "dev_loss_history = [l.detach().cpu().numpy() for l in trainer.loss_history[\"dev\"]]\n",
    "mean_test_loss = best_outputs['mean_test_loss'].detach().cpu().numpy()\n",
    "print(mean_test_loss)\n",
    "print(f\"len(train_loss_history): {len(train_loss_history)}\")\n",
    "print(f\"len(dev_loss_history): {len(dev_loss_history)}\")"
   ],
   "outputs": [
    {
     "name": "stdout",
     "output_type": "stream",
     "text": [
      "0.10678906\n",
      "len(train_loss_history): 102\n",
      "len(dev_loss_history): 102\n"
     ]
    }
   ],
   "execution_count": 19
  },
  {
   "cell_type": "markdown",
   "metadata": {},
   "source": [
    "## Plot loss history w/ mean test loss"
   ]
  },
  {
   "cell_type": "code",
   "metadata": {
    "ExecuteTime": {
     "end_time": "2024-06-19T23:54:48.045495Z",
     "start_time": "2024-06-19T23:54:47.926744Z"
    }
   },
   "source": [
    "plt.semilogy(train_loss_history, label=\"Train loss\")\n",
    "plt.semilogy(dev_loss_history, label=\"Dev loss\")\n",
    "plt.scatter(len(train_loss_history), mean_test_loss, label=\"Mean test loss\", c=\"red\", marker='x')\n",
    "plt.xlabel(\"# Epochs\")\n",
    "plt.legend()\n",
    "plt.show()"
   ],
   "outputs": [
    {
     "data": {
      "text/plain": [
       "<Figure size 640x480 with 1 Axes>"
      ],
      "image/png": "[encoded data removed]"
     },
     "metadata": {},
     "output_type": "display_data"
    }
   ],
   "execution_count": 20
  },
  {
   "cell_type": "markdown",
   "metadata": {},
   "source": [
    "## Compare results"
   ]
  },
  {
   "cell_type": "code",
   "metadata": {
    "ExecuteTime": {
     "end_time": "2024-06-19T23:56:27.425414Z",
     "start_time": "2024-06-19T23:56:27.353193Z"
    }
   },
   "source": [
    "k = 18 # k is the k-th function among the 500 test functions\n",
    "v_ = test_data.datadict[\"branch_inputs\"][:,k]#.reshape(-1,1)\n",
    "x_ = test_data.datadict[\"trunk_inputs\"]\n",
    "print(v_.shape, x_.shape)\n",
    "\n",
    "v_ = v_.to(device)\n",
    "x_ = x_.to(device)\n",
    "\n",
    "res = problem.predict({'branch_inputs':v_, 'trunk_inputs':x_})\n",
    "\n",
    "u_ = test_data.datadict[\"outputs\"][:,k]\n",
    "u_est = res['g']#.T\n",
    "\n",
    "plt.plot(x_.detach().cpu().numpy(), v_.detach().cpu().numpy(),label='v_')\n",
    "plt.plot(x_.detach().cpu().numpy(), u_.detach().cpu().numpy(),label='u_')\n",
    "plt.plot(x_.detach().cpu().numpy(), u_est.detach().cpu().numpy(),label='u_est')\n",
    "\n",
    "plt.legend()\n"
   ],
   "outputs": [
    {
     "name": "stdout",
     "output_type": "stream",
     "text": [
      "torch.Size([50000]) torch.Size([50000, 1])\n"
     ]
    },
    {
     "ename": "RuntimeError",
     "evalue": "Tensors must have same number of dimensions: got 1 and 2",
     "output_type": "error",
     "traceback": [
      "\u001B[0;31m---------------------------------------------------------------------------\u001B[0m",
      "\u001B[0;31mRuntimeError\u001B[0m                              Traceback (most recent call last)",
      "Cell \u001B[0;32mIn[22], line 9\u001B[0m\n\u001B[1;32m      6\u001B[0m v_ \u001B[38;5;241m=\u001B[39m v_\u001B[38;5;241m.\u001B[39mto(device)\n\u001B[1;32m      7\u001B[0m x_ \u001B[38;5;241m=\u001B[39m x_\u001B[38;5;241m.\u001B[39mto(device)\n\u001B[0;32m----> 9\u001B[0m res \u001B[38;5;241m=\u001B[39m \u001B[43mproblem\u001B[49m\u001B[38;5;241;43m.\u001B[39;49m\u001B[43mpredict\u001B[49m\u001B[43m(\u001B[49m\u001B[43m{\u001B[49m\u001B[38;5;124;43m'\u001B[39;49m\u001B[38;5;124;43mbranch_inputs\u001B[39;49m\u001B[38;5;124;43m'\u001B[39;49m\u001B[43m:\u001B[49m\u001B[43mv_\u001B[49m\u001B[43m,\u001B[49m\u001B[43m \u001B[49m\u001B[38;5;124;43m'\u001B[39;49m\u001B[38;5;124;43mtrunk_inputs\u001B[39;49m\u001B[38;5;124;43m'\u001B[39;49m\u001B[43m:\u001B[49m\u001B[43mx_\u001B[49m\u001B[43m}\u001B[49m\u001B[43m)\u001B[49m\n\u001B[1;32m     11\u001B[0m u_ \u001B[38;5;241m=\u001B[39m test_data\u001B[38;5;241m.\u001B[39mdatadict[\u001B[38;5;124m\"\u001B[39m\u001B[38;5;124moutputs\u001B[39m\u001B[38;5;124m\"\u001B[39m][:,k]\n\u001B[1;32m     12\u001B[0m u_est \u001B[38;5;241m=\u001B[39m res[\u001B[38;5;124m'\u001B[39m\u001B[38;5;124mg\u001B[39m\u001B[38;5;124m'\u001B[39m]\u001B[38;5;66;03m#.T\u001B[39;00m\n",
      "File \u001B[0;32m~/Library/CloudStorage/OneDrive-PNNL/Documents/Neuromancer/repos/neuromancer_deeponet/src/neuromancer/problem.py:168\u001B[0m, in \u001B[0;36mProblem.predict\u001B[0;34m(self, data)\u001B[0m\n\u001B[1;32m    166\u001B[0m \u001B[38;5;28;01mdef\u001B[39;00m \u001B[38;5;21mpredict\u001B[39m(\u001B[38;5;28mself\u001B[39m, data: Dict[\u001B[38;5;28mstr\u001B[39m, torch\u001B[38;5;241m.\u001B[39mTensor]) \u001B[38;5;241m-\u001B[39m\u001B[38;5;241m>\u001B[39m Dict[\u001B[38;5;28mstr\u001B[39m, torch\u001B[38;5;241m.\u001B[39mTensor]:\n\u001B[1;32m    167\u001B[0m     \u001B[38;5;28;01mwith\u001B[39;00m torch\u001B[38;5;241m.\u001B[39mno_grad():\n\u001B[0;32m--> 168\u001B[0m         output_dict \u001B[38;5;241m=\u001B[39m \u001B[38;5;28;43mself\u001B[39;49m\u001B[38;5;241;43m.\u001B[39;49m\u001B[43mstep\u001B[49m\u001B[43m(\u001B[49m\u001B[43mdata\u001B[49m\u001B[43m)\u001B[49m\n\u001B[1;32m    169\u001B[0m     \u001B[38;5;28;01mreturn\u001B[39;00m {k: v \u001B[38;5;28;01mfor\u001B[39;00m k,v \u001B[38;5;129;01min\u001B[39;00m output_dict\u001B[38;5;241m.\u001B[39mitems()}\n",
      "File \u001B[0;32m~/Library/CloudStorage/OneDrive-PNNL/Documents/Neuromancer/repos/neuromancer_deeponet/src/neuromancer/problem.py:160\u001B[0m, in \u001B[0;36mProblem.step\u001B[0;34m(self, input_dict)\u001B[0m\n\u001B[1;32m    158\u001B[0m \u001B[38;5;28;01mdef\u001B[39;00m \u001B[38;5;21mstep\u001B[39m(\u001B[38;5;28mself\u001B[39m, input_dict: Dict[\u001B[38;5;28mstr\u001B[39m, torch\u001B[38;5;241m.\u001B[39mTensor]) \u001B[38;5;241m-\u001B[39m\u001B[38;5;241m>\u001B[39m Dict[\u001B[38;5;28mstr\u001B[39m, torch\u001B[38;5;241m.\u001B[39mTensor]:\n\u001B[1;32m    159\u001B[0m     \u001B[38;5;28;01mfor\u001B[39;00m node \u001B[38;5;129;01min\u001B[39;00m \u001B[38;5;28mself\u001B[39m\u001B[38;5;241m.\u001B[39mnodes:\n\u001B[0;32m--> 160\u001B[0m         output_dict \u001B[38;5;241m=\u001B[39m \u001B[43mnode\u001B[49m\u001B[43m(\u001B[49m\u001B[43minput_dict\u001B[49m\u001B[43m)\u001B[49m\n\u001B[1;32m    161\u001B[0m         \u001B[38;5;28;01mif\u001B[39;00m \u001B[38;5;28misinstance\u001B[39m(output_dict, torch\u001B[38;5;241m.\u001B[39mTensor):\n\u001B[1;32m    162\u001B[0m             output_dict \u001B[38;5;241m=\u001B[39m {node\u001B[38;5;241m.\u001B[39mname: output_dict}\n",
      "File \u001B[0;32m~/anaconda3/envs/eerc-deeponet/lib/python3.10/site-packages/torch/nn/modules/module.py:1532\u001B[0m, in \u001B[0;36mModule._wrapped_call_impl\u001B[0;34m(self, *args, **kwargs)\u001B[0m\n\u001B[1;32m   1530\u001B[0m     \u001B[38;5;28;01mreturn\u001B[39;00m \u001B[38;5;28mself\u001B[39m\u001B[38;5;241m.\u001B[39m_compiled_call_impl(\u001B[38;5;241m*\u001B[39margs, \u001B[38;5;241m*\u001B[39m\u001B[38;5;241m*\u001B[39mkwargs)  \u001B[38;5;66;03m# type: ignore[misc]\u001B[39;00m\n\u001B[1;32m   1531\u001B[0m \u001B[38;5;28;01melse\u001B[39;00m:\n\u001B[0;32m-> 1532\u001B[0m     \u001B[38;5;28;01mreturn\u001B[39;00m \u001B[38;5;28;43mself\u001B[39;49m\u001B[38;5;241;43m.\u001B[39;49m\u001B[43m_call_impl\u001B[49m\u001B[43m(\u001B[49m\u001B[38;5;241;43m*\u001B[39;49m\u001B[43margs\u001B[49m\u001B[43m,\u001B[49m\u001B[43m \u001B[49m\u001B[38;5;241;43m*\u001B[39;49m\u001B[38;5;241;43m*\u001B[39;49m\u001B[43mkwargs\u001B[49m\u001B[43m)\u001B[49m\n",
      "File \u001B[0;32m~/anaconda3/envs/eerc-deeponet/lib/python3.10/site-packages/torch/nn/modules/module.py:1541\u001B[0m, in \u001B[0;36mModule._call_impl\u001B[0;34m(self, *args, **kwargs)\u001B[0m\n\u001B[1;32m   1536\u001B[0m \u001B[38;5;66;03m# If we don't have any hooks, we want to skip the rest of the logic in\u001B[39;00m\n\u001B[1;32m   1537\u001B[0m \u001B[38;5;66;03m# this function, and just call forward.\u001B[39;00m\n\u001B[1;32m   1538\u001B[0m \u001B[38;5;28;01mif\u001B[39;00m \u001B[38;5;129;01mnot\u001B[39;00m (\u001B[38;5;28mself\u001B[39m\u001B[38;5;241m.\u001B[39m_backward_hooks \u001B[38;5;129;01mor\u001B[39;00m \u001B[38;5;28mself\u001B[39m\u001B[38;5;241m.\u001B[39m_backward_pre_hooks \u001B[38;5;129;01mor\u001B[39;00m \u001B[38;5;28mself\u001B[39m\u001B[38;5;241m.\u001B[39m_forward_hooks \u001B[38;5;129;01mor\u001B[39;00m \u001B[38;5;28mself\u001B[39m\u001B[38;5;241m.\u001B[39m_forward_pre_hooks\n\u001B[1;32m   1539\u001B[0m         \u001B[38;5;129;01mor\u001B[39;00m _global_backward_pre_hooks \u001B[38;5;129;01mor\u001B[39;00m _global_backward_hooks\n\u001B[1;32m   1540\u001B[0m         \u001B[38;5;129;01mor\u001B[39;00m _global_forward_hooks \u001B[38;5;129;01mor\u001B[39;00m _global_forward_pre_hooks):\n\u001B[0;32m-> 1541\u001B[0m     \u001B[38;5;28;01mreturn\u001B[39;00m \u001B[43mforward_call\u001B[49m\u001B[43m(\u001B[49m\u001B[38;5;241;43m*\u001B[39;49m\u001B[43margs\u001B[49m\u001B[43m,\u001B[49m\u001B[43m \u001B[49m\u001B[38;5;241;43m*\u001B[39;49m\u001B[38;5;241;43m*\u001B[39;49m\u001B[43mkwargs\u001B[49m\u001B[43m)\u001B[49m\n\u001B[1;32m   1543\u001B[0m \u001B[38;5;28;01mtry\u001B[39;00m:\n\u001B[1;32m   1544\u001B[0m     result \u001B[38;5;241m=\u001B[39m \u001B[38;5;28;01mNone\u001B[39;00m\n",
      "File \u001B[0;32m~/Library/CloudStorage/OneDrive-PNNL/Documents/Neuromancer/repos/neuromancer_deeponet/src/neuromancer/system.py:50\u001B[0m, in \u001B[0;36mNode.forward\u001B[0;34m(self, data)\u001B[0m\n\u001B[1;32m     43\u001B[0m \u001B[38;5;250m\u001B[39m\u001B[38;5;124;03m\"\"\"\u001B[39;00m\n\u001B[1;32m     44\u001B[0m \u001B[38;5;124;03mThis call function wraps the callable to receive/send dictionaries of Tensors\u001B[39;00m\n\u001B[1;32m     45\u001B[0m \n\u001B[1;32m     46\u001B[0m \u001B[38;5;124;03m:param datadict: (dict {str: Tensor}) input to callable with associated input_keys\u001B[39;00m\n\u001B[1;32m     47\u001B[0m \u001B[38;5;124;03m:return: (dict {str: Tensor}) Output of callable with associated output_keys\u001B[39;00m\n\u001B[1;32m     48\u001B[0m \u001B[38;5;124;03m\"\"\"\u001B[39;00m\n\u001B[1;32m     49\u001B[0m inputs \u001B[38;5;241m=\u001B[39m [data[k] \u001B[38;5;28;01mfor\u001B[39;00m k \u001B[38;5;129;01min\u001B[39;00m \u001B[38;5;28mself\u001B[39m\u001B[38;5;241m.\u001B[39minput_keys]\n\u001B[0;32m---> 50\u001B[0m output \u001B[38;5;241m=\u001B[39m \u001B[38;5;28;43mself\u001B[39;49m\u001B[38;5;241;43m.\u001B[39;49m\u001B[43mcallable\u001B[49m\u001B[43m(\u001B[49m\u001B[38;5;241;43m*\u001B[39;49m\u001B[43minputs\u001B[49m\u001B[43m)\u001B[49m\n\u001B[1;32m     51\u001B[0m \u001B[38;5;28;01mif\u001B[39;00m \u001B[38;5;129;01mnot\u001B[39;00m \u001B[38;5;28misinstance\u001B[39m(output, \u001B[38;5;28mtuple\u001B[39m):\n\u001B[1;32m     52\u001B[0m     output \u001B[38;5;241m=\u001B[39m [output]\n",
      "File \u001B[0;32m~/anaconda3/envs/eerc-deeponet/lib/python3.10/site-packages/torch/nn/modules/module.py:1532\u001B[0m, in \u001B[0;36mModule._wrapped_call_impl\u001B[0;34m(self, *args, **kwargs)\u001B[0m\n\u001B[1;32m   1530\u001B[0m     \u001B[38;5;28;01mreturn\u001B[39;00m \u001B[38;5;28mself\u001B[39m\u001B[38;5;241m.\u001B[39m_compiled_call_impl(\u001B[38;5;241m*\u001B[39margs, \u001B[38;5;241m*\u001B[39m\u001B[38;5;241m*\u001B[39mkwargs)  \u001B[38;5;66;03m# type: ignore[misc]\u001B[39;00m\n\u001B[1;32m   1531\u001B[0m \u001B[38;5;28;01melse\u001B[39;00m:\n\u001B[0;32m-> 1532\u001B[0m     \u001B[38;5;28;01mreturn\u001B[39;00m \u001B[38;5;28;43mself\u001B[39;49m\u001B[38;5;241;43m.\u001B[39;49m\u001B[43m_call_impl\u001B[49m\u001B[43m(\u001B[49m\u001B[38;5;241;43m*\u001B[39;49m\u001B[43margs\u001B[49m\u001B[43m,\u001B[49m\u001B[43m \u001B[49m\u001B[38;5;241;43m*\u001B[39;49m\u001B[38;5;241;43m*\u001B[39;49m\u001B[43mkwargs\u001B[49m\u001B[43m)\u001B[49m\n",
      "File \u001B[0;32m~/anaconda3/envs/eerc-deeponet/lib/python3.10/site-packages/torch/nn/modules/module.py:1541\u001B[0m, in \u001B[0;36mModule._call_impl\u001B[0;34m(self, *args, **kwargs)\u001B[0m\n\u001B[1;32m   1536\u001B[0m \u001B[38;5;66;03m# If we don't have any hooks, we want to skip the rest of the logic in\u001B[39;00m\n\u001B[1;32m   1537\u001B[0m \u001B[38;5;66;03m# this function, and just call forward.\u001B[39;00m\n\u001B[1;32m   1538\u001B[0m \u001B[38;5;28;01mif\u001B[39;00m \u001B[38;5;129;01mnot\u001B[39;00m (\u001B[38;5;28mself\u001B[39m\u001B[38;5;241m.\u001B[39m_backward_hooks \u001B[38;5;129;01mor\u001B[39;00m \u001B[38;5;28mself\u001B[39m\u001B[38;5;241m.\u001B[39m_backward_pre_hooks \u001B[38;5;129;01mor\u001B[39;00m \u001B[38;5;28mself\u001B[39m\u001B[38;5;241m.\u001B[39m_forward_hooks \u001B[38;5;129;01mor\u001B[39;00m \u001B[38;5;28mself\u001B[39m\u001B[38;5;241m.\u001B[39m_forward_pre_hooks\n\u001B[1;32m   1539\u001B[0m         \u001B[38;5;129;01mor\u001B[39;00m _global_backward_pre_hooks \u001B[38;5;129;01mor\u001B[39;00m _global_backward_hooks\n\u001B[1;32m   1540\u001B[0m         \u001B[38;5;129;01mor\u001B[39;00m _global_forward_hooks \u001B[38;5;129;01mor\u001B[39;00m _global_forward_pre_hooks):\n\u001B[0;32m-> 1541\u001B[0m     \u001B[38;5;28;01mreturn\u001B[39;00m \u001B[43mforward_call\u001B[49m\u001B[43m(\u001B[49m\u001B[38;5;241;43m*\u001B[39;49m\u001B[43margs\u001B[49m\u001B[43m,\u001B[49m\u001B[43m \u001B[49m\u001B[38;5;241;43m*\u001B[39;49m\u001B[38;5;241;43m*\u001B[39;49m\u001B[43mkwargs\u001B[49m\u001B[43m)\u001B[49m\n\u001B[1;32m   1543\u001B[0m \u001B[38;5;28;01mtry\u001B[39;00m:\n\u001B[1;32m   1544\u001B[0m     result \u001B[38;5;241m=\u001B[39m \u001B[38;5;28;01mNone\u001B[39;00m\n",
      "File \u001B[0;32m~/Library/CloudStorage/OneDrive-PNNL/Documents/Neuromancer/repos/neuromancer_deeponet/src/neuromancer/modules/blocks.py:35\u001B[0m, in \u001B[0;36mBlock.forward\u001B[0;34m(self, *inputs)\u001B[0m\n\u001B[1;32m     28\u001B[0m \u001B[38;5;250m\u001B[39m\u001B[38;5;124;03m\"\"\"\u001B[39;00m\n\u001B[1;32m     29\u001B[0m \u001B[38;5;124;03mHandling varying number of tensor inputs\u001B[39;00m\n\u001B[1;32m     30\u001B[0m \n\u001B[1;32m     31\u001B[0m \u001B[38;5;124;03m:param inputs: (list(torch.Tensor, shape=[batchsize, insize]) or torch.Tensor, shape=[batchsize, insize])\u001B[39;00m\n\u001B[1;32m     32\u001B[0m \u001B[38;5;124;03m:return: (torch.Tensor, shape=[batchsize, outsize])\u001B[39;00m\n\u001B[1;32m     33\u001B[0m \u001B[38;5;124;03m\"\"\"\u001B[39;00m\n\u001B[1;32m     34\u001B[0m \u001B[38;5;28;01mif\u001B[39;00m \u001B[38;5;28mlen\u001B[39m(inputs) \u001B[38;5;241m>\u001B[39m \u001B[38;5;241m1\u001B[39m:\n\u001B[0;32m---> 35\u001B[0m     x \u001B[38;5;241m=\u001B[39m \u001B[43mtorch\u001B[49m\u001B[38;5;241;43m.\u001B[39;49m\u001B[43mcat\u001B[49m\u001B[43m(\u001B[49m\u001B[43minputs\u001B[49m\u001B[43m,\u001B[49m\u001B[43m \u001B[49m\u001B[43mdim\u001B[49m\u001B[38;5;241;43m=\u001B[39;49m\u001B[38;5;241;43m-\u001B[39;49m\u001B[38;5;241;43m1\u001B[39;49m\u001B[43m)\u001B[49m\n\u001B[1;32m     36\u001B[0m \u001B[38;5;28;01melse\u001B[39;00m:\n\u001B[1;32m     37\u001B[0m     x \u001B[38;5;241m=\u001B[39m inputs[\u001B[38;5;241m0\u001B[39m]\n",
      "\u001B[0;31mRuntimeError\u001B[0m: Tensors must have same number of dimensions: got 1 and 2"
     ]
    }
   ],
   "execution_count": 22
  },
  {
   "cell_type": "markdown",
   "metadata": {},
   "source": [
    "## Symbolic Integral Examples"
   ]
  },
  {
   "cell_type": "code",
   "metadata": {
    "ExecuteTime": {
     "end_time": "2024-06-19T23:54:48.708688Z",
     "start_time": "2024-06-19T23:54:48.708586Z"
    }
   },
   "source": [
    "x_ = train_data.datadict[\"trunk_inputs\"]\n",
    "v_ = torch.pow(x_,2).reshape(-1,1)\n",
    "\n",
    "print(v_.shape, x_.shape)\n",
    "\n",
    "v_ = v_.to(device)\n",
    "x_ = x_.to(device)\n",
    "\n",
    "res = problem.predict({'branch_inputs':v_, 'trunk_inputs':x_})\n",
    "\n",
    "u_ = (1./3.)*torch.pow(x_,3).reshape(-1,1)\n",
    "u_est = res['g'].T\n",
    "\n",
    "plt.plot(x_.detach().cpu().numpy(), v_.detach().cpu().numpy(),label='$v(x) = x^2$')\n",
    "plt.plot(x_.detach().cpu().numpy(), u_.detach().cpu().numpy(),label='integral of v, exact ($x^3/3$)')\n",
    "plt.plot(x_.detach().cpu().numpy(), u_est.detach().cpu().numpy(),label='integral of v, estimated')\n",
    "plt.legend()\n"
   ],
   "outputs": [],
   "execution_count": null
  },
  {
   "cell_type": "code",
   "metadata": {},
   "source": [
    "x_ = train_data.datadict[\"trunk_inputs\"]\n",
    "v_ = torch.cos(x_).reshape(-1,1)\n",
    "\n",
    "print(v_.shape, x_.shape)\n",
    "\n",
    "v_ = v_.to(device)\n",
    "x_ = x_.to(device)\n",
    "\n",
    "res = problem.predict({'branch_inputs':v_, 'trunk_inputs':x_})\n",
    "\n",
    "u_ = torch.sin(x_).reshape(-1,1)\n",
    "u_est = res['g'].T\n",
    "\n",
    "plt.plot(x_.detach().cpu().numpy(), v_.detach().cpu().numpy(),label='$v(x) = cos(x)$')\n",
    "plt.plot(x_.detach().cpu().numpy(), u_.detach().cpu().numpy(),label='integral of v, exact ($sin(x)$)')\n",
    "plt.plot(x_.detach().cpu().numpy(), u_est.detach().cpu().numpy(),label='integral of v, estimated')\n",
    "plt.legend()"
   ],
   "outputs": [],
   "execution_count": null
  },
  {
   "cell_type": "markdown",
   "metadata": {},
   "source": [
    "### Watermark"
   ]
  },
  {
   "cell_type": "code",
   "metadata": {},
   "source": [
    "%load_ext watermark\n",
    "%watermark\n",
    "%watermark --iversions"
   ],
   "outputs": [],
   "execution_count": null
  }
 ],
 "metadata": {
  "kernelspec": {
   "display_name": "eerc-deeponet",
   "language": "python",
   "name": "python3"
  },
  "language_info": {
   "codemirror_mode": {
    "name": "ipython",
    "version": 3
   },
   "file_extension": ".py",
   "mimetype": "text/x-python",
   "name": "python",
   "nbconvert_exporter": "python",
   "pygments_lexer": "ipython3",
   "version": "3.10.14"
  }
 },
 "nbformat": 4,
 "nbformat_minor": 4
}
