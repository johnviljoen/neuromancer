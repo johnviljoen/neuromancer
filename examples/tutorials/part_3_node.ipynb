{
 "cells": [
  {
   "cell_type": "markdown",
   "id": "fd72c2aa",
   "metadata": {},
   "source": [
    "# NeuroMANCER Node and System classes and modules tutorial\n",
    "\n",
    "This script demonstrates how to use NeuroMANCER Node to wrap arbitrary callable\n",
    "into symbolic representation that can be used in NeuroMANCER problem formulation.\n"
   ]
  },
  {
   "cell_type": "markdown",
   "id": "84a23c9a",
   "metadata": {},
   "source": [
    "### Install (Colab only)\n",
    "Skip this step when running locally.\n",
    "\n",
    "We need to install a more recent version of matplotlib than is offered in the default Colab environment. After running the cell 1 for the first time in a new Colab runtime, you will see the prompt: \"You must restart the runtime in order to use newly installed versions.\" After restarting, the correct version of matplotlib will be loaded for the duration of the current runtime."
   ]
  },
  {
   "cell_type": "code",
   "execution_count": null,
   "id": "05287d20",
   "metadata": {},
   "outputs": [],
   "source": [
    "!pip install --upgrade matplotlib"
   ]
  },
  {
   "cell_type": "code",
   "execution_count": null,
   "id": "5e418a0c",
   "metadata": {},
   "outputs": [],
   "source": [
    "!pip install setuptools==61.0.0 casadi mlflow torchdiffeq dill pyts plum-dispatch==1.7.3 --user\n",
    "!pip install git+https://github.com/pnnl/neuromancer.git@master --ignore-requires-python --no-deps --user"
   ]
  },
  {
   "cell_type": "markdown",
   "id": "d7a60398",
   "metadata": {},
   "source": [
    "### Import"
   ]
  },
  {
   "cell_type": "code",
   "execution_count": 1,
   "id": "26f20c73",
   "metadata": {},
   "outputs": [],
   "source": [
    "import torch\n",
    "from neuromancer.system import Node, System"
   ]
  },
  {
   "cell_type": "markdown",
   "id": "343f6425",
   "metadata": {},
   "source": [
    "## Node\n",
    "\n",
    "**Node** is a simple class to create symbolic modules out of arbitrary PyTorch callables.\n",
    "Node class is wrapping the callable and defines the computational node based \n",
    "on input_keys and output_keys that define computational node connections through \n",
    "intermediate dictionaries. Complex symbolic architectures can be constructed by connecting\n",
    "input and output keys of a set of Nodes via System and Problem classes.\n",
    "   "
   ]
  },
  {
   "cell_type": "code",
   "execution_count": 12,
   "id": "32bde295",
   "metadata": {},
   "outputs": [
    {
     "name": "stdout",
     "output_type": "stream",
     "text": [
      "['x1']\n",
      "['y1']\n",
      "{'y1': tensor([0.6956], grad_fn=<AddBackward0>)}\n"
     ]
    }
   ],
   "source": [
    "# 1, wrap nn.Linear into Node\n",
    "net_1 = torch.nn.Linear(1, 1)\n",
    "node_1 = Node(net_1, ['x1'], ['y1'])\n",
    "# print input and output keys\n",
    "print(node_1.input_keys)\n",
    "print(node_1.output_keys)\n",
    "# evaluate forward pass of the node with dictionary input dataset\n",
    "print(node_1({'x1': torch.rand(1)}))"
   ]
  },
  {
   "cell_type": "code",
   "execution_count": 13,
   "id": "41bf103b",
   "metadata": {},
   "outputs": [
    {
     "name": "stdout",
     "output_type": "stream",
     "text": [
      "{'y2': tensor([-0.2399], grad_fn=<AddBackward0>)}\n"
     ]
    }
   ],
   "source": [
    "# 2, wrap nn.Sequential into Node\n",
    "net_2 = torch.nn.Sequential(torch.nn.Linear(2, 5),\n",
    "                            torch.nn.ReLU(),\n",
    "                            torch.nn.Linear(5, 3),\n",
    "                            torch.nn.ReLU(),\n",
    "                            torch.nn.Linear(3, 1))\n",
    "node_2 = Node(net_2, ['x2'], ['y2'])\n",
    "# evaluate forward pass of the node with dictionary input dataset\n",
    "print(node_2({'x2': torch.rand(2)}))"
   ]
  },
  {
   "cell_type": "code",
   "execution_count": 14,
   "id": "f5390740",
   "metadata": {},
   "outputs": [
    {
     "name": "stdout",
     "output_type": "stream",
     "text": [
      "{'y3': tensor([0.4356, 0.3387])}\n"
     ]
    }
   ],
   "source": [
    "# 3, wrap arbitrary callable into Node - allows for unwrapping the inputs\n",
    "fun_1 = lambda x1, x2: 2.*x1 - x2**2\n",
    "node_3 = Node(fun_1, ['y1', 'y2'], ['y3'], name='quadratic')\n",
    "# evaluate forward pass of the node with dictionary input dataset\n",
    "print(node_3({'y1': torch.rand(2), 'y2': torch.rand(2)}))"
   ]
  },
  {
   "cell_type": "code",
   "execution_count": 15,
   "id": "7c9667a1",
   "metadata": {},
   "outputs": [
    {
     "name": "stdout",
     "output_type": "stream",
     "text": [
      "{'x1^2': tensor([0.0698, 0.7987]), 'x2^2': tensor([0.6207, 0.2387])}\n"
     ]
    }
   ],
   "source": [
    "# 4, wrap callable with multiple inputs and outputs\n",
    "def fun_2(x1, x2):\n",
    "    return x1**2, x2**2\n",
    "node_4 = Node(fun_2, ['x1', 'x2'], ['x1^2', 'x2^2'], name='square')\n",
    "# evaluate forward pass of the node with dictionary input dataset\n",
    "print(node_4({'x1': torch.rand(2), 'x2': torch.rand(2)}))"
   ]
  },
  {
   "cell_type": "markdown",
   "id": "972aa3d4",
   "metadata": {},
   "source": [
    "## Modules\n",
    "\n",
    "NeuroMANCER also provides implementation of useful building blocks for\n",
    "creating custom neural architectures. These include:\n",
    "* modules.blocks          - neural architecures\n",
    "* modules.activations     - custom activation functions    \n",
    "* modules.functions       - useful callables \n",
    "* modules.gnn             - graph neural nets\n",
    "* modules.rnn             - recurent neural nets\n",
    "* modules.solvers         - iterative solvers for constrained optimization\n",
    "* slim.linear             - linear algebra factorizations for weights\n",
    "        \n",
    "Next set of example shows how to wrap NeuroMANCER modules into Node"
   ]
  },
  {
   "cell_type": "code",
   "execution_count": 16,
   "id": "9bbaee06",
   "metadata": {},
   "outputs": [],
   "source": [
    "from neuromancer.modules import blocks\n",
    "from neuromancer.modules import activations\n",
    "from neuromancer import slim"
   ]
  },
  {
   "cell_type": "code",
   "execution_count": 17,
   "id": "0817c98f",
   "metadata": {},
   "outputs": [
    {
     "name": "stdout",
     "output_type": "stream",
     "text": [
      "{'mlp': <class 'neuromancer.modules.blocks.MLP'>, 'rnn': <class 'neuromancer.modules.blocks.RNN'>, 'pytorch_rnn': <class 'neuromancer.modules.blocks.PytorchRNN'>, 'linear': <class 'neuromancer.modules.blocks.Linear'>, 'residual_mlp': <class 'neuromancer.modules.blocks.ResMLP'>, 'basislinear': <class 'neuromancer.modules.blocks.BasisLinear'>, 'bilinear': <class 'neuromancer.modules.blocks.BilinearTorch'>, 'icnn': <class 'neuromancer.modules.blocks.InputConvexNN'>, 'pos_def': <class 'neuromancer.modules.blocks.PosDef'>}\n",
      "{'softexp': <class 'neuromancer.modules.activations.SoftExponential'>, 'blu': <class 'neuromancer.modules.activations.BLU'>, 'aplu': <class 'neuromancer.modules.activations.APLU'>, 'prelu': <class 'neuromancer.modules.activations.PReLU'>, 'pelu': <class 'neuromancer.modules.activations.PELU'>, 'relu': <class 'torch.nn.modules.activation.ReLU'>, 'gelu': <class 'torch.nn.modules.activation.GELU'>, 'rrelu': <class 'torch.nn.modules.activation.RReLU'>, 'hardtanh': <class 'torch.nn.modules.activation.Hardtanh'>, 'relu6': <class 'torch.nn.modules.activation.ReLU6'>, 'sigmoid': <class 'torch.nn.modules.activation.Sigmoid'>, 'hardsigmoid': <class 'torch.nn.modules.activation.Hardsigmoid'>, 'tanh': <class 'torch.nn.modules.activation.Tanh'>, 'hardswish': <class 'torch.nn.modules.activation.Hardswish'>, 'elu': <class 'torch.nn.modules.activation.ELU'>, 'celu': <class 'torch.nn.modules.activation.CELU'>, 'selu': <class 'torch.nn.modules.activation.SELU'>, 'hardshrink': <class 'torch.nn.modules.activation.Hardshrink'>, 'leakyrelu': <class 'torch.nn.modules.activation.LeakyReLU'>, 'logsigmoid': <class 'torch.nn.modules.activation.LogSigmoid'>, 'softplus': <class 'torch.nn.modules.activation.Softplus'>, 'softshrink': <class 'torch.nn.modules.activation.Softshrink'>, 'softsign': <class 'torch.nn.modules.activation.Softsign'>, 'tanhshrink': <class 'torch.nn.modules.activation.Tanhshrink'>, 'smoothedrelu': <class 'neuromancer.modules.activations.SmoothedReLU'>}\n"
     ]
    }
   ],
   "source": [
    "# for a full list of available blocks (nn.Modules) in NeuroMANCER see:\n",
    "print(blocks.blocks)\n",
    "# for a full list of available activations in NeuroMANCER see:\n",
    "print(activations.activations)"
   ]
  },
  {
   "cell_type": "code",
   "execution_count": 18,
   "id": "06e573e6",
   "metadata": {},
   "outputs": [
    {
     "name": "stdout",
     "output_type": "stream",
     "text": [
      "dict_keys(['y3'])\n",
      "torch.Size([10, 3])\n"
     ]
    }
   ],
   "source": [
    "# 1, instantiate 4-layer multilayer perceptron with linear weight and ReLU activation\n",
    "block_1 = blocks.MLP(insize=2, outsize=3,\n",
    "                  bias=True,\n",
    "                  linear_map=slim.maps['linear'],\n",
    "                  nonlin=torch.nn.ReLU,\n",
    "                  hsizes=[80] * 4)\n",
    "# wrap modules into Node\n",
    "node_4 = Node(block_1, ['x3'], ['y3'])\n",
    "# evaluate forward pass of the node with dictionary input dataset\n",
    "data = {'x3': torch.rand(10, 2)}\n",
    "print(node_4(data).keys())\n",
    "print(node_4(data)['y3'].shape)"
   ]
  },
  {
   "cell_type": "code",
   "execution_count": 19,
   "id": "274fef37",
   "metadata": {},
   "outputs": [
    {
     "name": "stdout",
     "output_type": "stream",
     "text": [
      "dict_keys(['y4'])\n",
      "torch.Size([10, 2])\n"
     ]
    }
   ],
   "source": [
    "# 2, instantiate recurrent neural net without bias, SVD linear map, and BLI activation\n",
    "block_2 = blocks.RNN(insize=2, outsize=2,\n",
    "                  bias=False,\n",
    "                  linear_map=slim.linear.SVDLinear,\n",
    "                  nonlin=activations.BLU,\n",
    "                  hsizes=[80] * 4)\n",
    "# wrap modules into Node\n",
    "node_5 = Node(block_2, ['x4'], ['y4'])\n",
    "# evaluate forward pass of the node with dictionary input dataset\n",
    "data = {'x4': torch.rand(10, 2)}\n",
    "print(node_5(data).keys())\n",
    "print(node_5(data)['y4'].shape)"
   ]
  },
  {
   "cell_type": "markdown",
   "id": "e5d21274",
   "metadata": {},
   "source": [
    "## System\n",
    "\n",
    "**System** is a class that supports construction of cyclic computational graphs in NeuroMANCER.\n",
    "System's graph is defined by a list of Nodes. Instantiated System can be used to simulate\n",
    "dynamical systems in open or closed loop rollouts by specifying number of steps via nsteps."
   ]
  },
  {
   "cell_type": "code",
   "execution_count": 20,
   "id": "13555800",
   "metadata": {},
   "outputs": [
    {
     "name": "stdout",
     "output_type": "stream",
     "text": [
      "['x1', 'x2']\n",
      "['y3', 'y1', 'y2']\n",
      "{'x1': tensor([[[0.0637],\n",
      "         [0.3448],\n",
      "         [0.1784]],\n",
      "\n",
      "        [[0.2614],\n",
      "         [0.4369],\n",
      "         [0.4046]]]), 'x2': tensor([[[0.0568, 0.6346],\n",
      "         [0.8226, 0.2858],\n",
      "         [0.6038, 0.3890]],\n",
      "\n",
      "        [[0.0288, 0.9621],\n",
      "         [0.4028, 0.3755],\n",
      "         [0.2373, 0.5783]]]), 'y1': tensor([[[0.8381],\n",
      "         [0.7548],\n",
      "         [0.8041]],\n",
      "\n",
      "        [[0.7795],\n",
      "         [0.7275],\n",
      "         [0.7370]]], grad_fn=<CatBackward0>), 'y2': tensor([[[-0.3023],\n",
      "         [-0.2382],\n",
      "         [-0.2612]],\n",
      "\n",
      "        [[-0.3086],\n",
      "         [-0.2718],\n",
      "         [-0.3013]]], grad_fn=<CatBackward0>), 'y3': tensor([[[1.5848],\n",
      "         [1.4528],\n",
      "         [1.5400]],\n",
      "\n",
      "        [[1.4637],\n",
      "         [1.3811],\n",
      "         [1.3833]]], grad_fn=<CatBackward0>)}\n"
     ]
    }
   ],
   "source": [
    "# 1, create acyclic symbolic graph\n",
    "# list of nodes to construct the graph\n",
    "nodes = [node_1, node_2, node_3]\n",
    "# 10 steps rollout\n",
    "nsteps = 3\n",
    "# connecting nodes via System class\n",
    "system_1 = System(nodes, nsteps=nsteps)\n",
    "# print input and output keys\n",
    "print(system_1.input_keys)\n",
    "print(system_1.output_keys)\n",
    "# evaluate forward pass of the System with 3D input dataset\n",
    "batch = 2\n",
    "print(system_1({'x1': torch.rand(batch, nsteps, 1),\n",
    "                'x2': torch.rand(batch, nsteps, 2)}))"
   ]
  },
  {
   "cell_type": "code",
   "execution_count": 21,
   "id": "208a9928",
   "metadata": {},
   "outputs": [
    {
     "ename": "FileNotFoundError",
     "evalue": "[WinError 2] \"dot\" not found in path.",
     "output_type": "error",
     "traceback": [
      "\u001b[1;31m---------------------------------------------------------------------------\u001b[0m",
      "\u001b[1;31mFileNotFoundError\u001b[0m                         Traceback (most recent call last)",
      "File \u001b[1;32m~\\OneDrive - PNNL\\Documents\\anaconda3\\envs\\neuromancer\\lib\\site-packages\\pydot.py:1923\u001b[0m, in \u001b[0;36mDot.create\u001b[1;34m(self, prog, format, encoding)\u001b[0m\n\u001b[0;32m   1922\u001b[0m \u001b[38;5;28;01mtry\u001b[39;00m:\n\u001b[1;32m-> 1923\u001b[0m     stdout_data, stderr_data, process \u001b[38;5;241m=\u001b[39m \u001b[43mcall_graphviz\u001b[49m\u001b[43m(\u001b[49m\n\u001b[0;32m   1924\u001b[0m \u001b[43m        \u001b[49m\u001b[43mprogram\u001b[49m\u001b[38;5;241;43m=\u001b[39;49m\u001b[43mprog\u001b[49m\u001b[43m,\u001b[49m\n\u001b[0;32m   1925\u001b[0m \u001b[43m        \u001b[49m\u001b[43marguments\u001b[49m\u001b[38;5;241;43m=\u001b[39;49m\u001b[43marguments\u001b[49m\u001b[43m,\u001b[49m\n\u001b[0;32m   1926\u001b[0m \u001b[43m        \u001b[49m\u001b[43mworking_dir\u001b[49m\u001b[38;5;241;43m=\u001b[39;49m\u001b[43mtmp_dir\u001b[49m\u001b[43m,\u001b[49m\n\u001b[0;32m   1927\u001b[0m \u001b[43m    \u001b[49m\u001b[43m)\u001b[49m\n\u001b[0;32m   1928\u001b[0m \u001b[38;5;28;01mexcept\u001b[39;00m \u001b[38;5;167;01mOSError\u001b[39;00m \u001b[38;5;28;01mas\u001b[39;00m e:\n",
      "File \u001b[1;32m~\\OneDrive - PNNL\\Documents\\anaconda3\\envs\\neuromancer\\lib\\site-packages\\pydot.py:132\u001b[0m, in \u001b[0;36mcall_graphviz\u001b[1;34m(program, arguments, working_dir, **kwargs)\u001b[0m\n\u001b[0;32m    130\u001b[0m program_with_args \u001b[38;5;241m=\u001b[39m [program, ] \u001b[38;5;241m+\u001b[39m arguments\n\u001b[1;32m--> 132\u001b[0m process \u001b[38;5;241m=\u001b[39m subprocess\u001b[38;5;241m.\u001b[39mPopen(\n\u001b[0;32m    133\u001b[0m     program_with_args,\n\u001b[0;32m    134\u001b[0m     env\u001b[38;5;241m=\u001b[39menv,\n\u001b[0;32m    135\u001b[0m     cwd\u001b[38;5;241m=\u001b[39mworking_dir,\n\u001b[0;32m    136\u001b[0m     shell\u001b[38;5;241m=\u001b[39m\u001b[38;5;28;01mFalse\u001b[39;00m,\n\u001b[0;32m    137\u001b[0m     stderr\u001b[38;5;241m=\u001b[39msubprocess\u001b[38;5;241m.\u001b[39mPIPE,\n\u001b[0;32m    138\u001b[0m     stdout\u001b[38;5;241m=\u001b[39msubprocess\u001b[38;5;241m.\u001b[39mPIPE,\n\u001b[0;32m    139\u001b[0m     \u001b[38;5;241m*\u001b[39m\u001b[38;5;241m*\u001b[39mkwargs\n\u001b[0;32m    140\u001b[0m )\n\u001b[0;32m    141\u001b[0m stdout_data, stderr_data \u001b[38;5;241m=\u001b[39m process\u001b[38;5;241m.\u001b[39mcommunicate()\n",
      "File \u001b[1;32m~\\OneDrive - PNNL\\Documents\\anaconda3\\envs\\neuromancer\\lib\\subprocess.py:966\u001b[0m, in \u001b[0;36mPopen.__init__\u001b[1;34m(self, args, bufsize, executable, stdin, stdout, stderr, preexec_fn, close_fds, shell, cwd, env, universal_newlines, startupinfo, creationflags, restore_signals, start_new_session, pass_fds, user, group, extra_groups, encoding, errors, text, umask, pipesize)\u001b[0m\n\u001b[0;32m    963\u001b[0m             \u001b[38;5;28mself\u001b[39m\u001b[38;5;241m.\u001b[39mstderr \u001b[38;5;241m=\u001b[39m io\u001b[38;5;241m.\u001b[39mTextIOWrapper(\u001b[38;5;28mself\u001b[39m\u001b[38;5;241m.\u001b[39mstderr,\n\u001b[0;32m    964\u001b[0m                     encoding\u001b[38;5;241m=\u001b[39mencoding, errors\u001b[38;5;241m=\u001b[39merrors)\n\u001b[1;32m--> 966\u001b[0m     \u001b[38;5;28;43mself\u001b[39;49m\u001b[38;5;241;43m.\u001b[39;49m\u001b[43m_execute_child\u001b[49m\u001b[43m(\u001b[49m\u001b[43margs\u001b[49m\u001b[43m,\u001b[49m\u001b[43m \u001b[49m\u001b[43mexecutable\u001b[49m\u001b[43m,\u001b[49m\u001b[43m \u001b[49m\u001b[43mpreexec_fn\u001b[49m\u001b[43m,\u001b[49m\u001b[43m \u001b[49m\u001b[43mclose_fds\u001b[49m\u001b[43m,\u001b[49m\n\u001b[0;32m    967\u001b[0m \u001b[43m                        \u001b[49m\u001b[43mpass_fds\u001b[49m\u001b[43m,\u001b[49m\u001b[43m \u001b[49m\u001b[43mcwd\u001b[49m\u001b[43m,\u001b[49m\u001b[43m \u001b[49m\u001b[43menv\u001b[49m\u001b[43m,\u001b[49m\n\u001b[0;32m    968\u001b[0m \u001b[43m                        \u001b[49m\u001b[43mstartupinfo\u001b[49m\u001b[43m,\u001b[49m\u001b[43m \u001b[49m\u001b[43mcreationflags\u001b[49m\u001b[43m,\u001b[49m\u001b[43m \u001b[49m\u001b[43mshell\u001b[49m\u001b[43m,\u001b[49m\n\u001b[0;32m    969\u001b[0m \u001b[43m                        \u001b[49m\u001b[43mp2cread\u001b[49m\u001b[43m,\u001b[49m\u001b[43m \u001b[49m\u001b[43mp2cwrite\u001b[49m\u001b[43m,\u001b[49m\n\u001b[0;32m    970\u001b[0m \u001b[43m                        \u001b[49m\u001b[43mc2pread\u001b[49m\u001b[43m,\u001b[49m\u001b[43m \u001b[49m\u001b[43mc2pwrite\u001b[49m\u001b[43m,\u001b[49m\n\u001b[0;32m    971\u001b[0m \u001b[43m                        \u001b[49m\u001b[43merrread\u001b[49m\u001b[43m,\u001b[49m\u001b[43m \u001b[49m\u001b[43merrwrite\u001b[49m\u001b[43m,\u001b[49m\n\u001b[0;32m    972\u001b[0m \u001b[43m                        \u001b[49m\u001b[43mrestore_signals\u001b[49m\u001b[43m,\u001b[49m\n\u001b[0;32m    973\u001b[0m \u001b[43m                        \u001b[49m\u001b[43mgid\u001b[49m\u001b[43m,\u001b[49m\u001b[43m \u001b[49m\u001b[43mgids\u001b[49m\u001b[43m,\u001b[49m\u001b[43m \u001b[49m\u001b[43muid\u001b[49m\u001b[43m,\u001b[49m\u001b[43m \u001b[49m\u001b[43mumask\u001b[49m\u001b[43m,\u001b[49m\n\u001b[0;32m    974\u001b[0m \u001b[43m                        \u001b[49m\u001b[43mstart_new_session\u001b[49m\u001b[43m)\u001b[49m\n\u001b[0;32m    975\u001b[0m \u001b[38;5;28;01mexcept\u001b[39;00m:\n\u001b[0;32m    976\u001b[0m     \u001b[38;5;66;03m# Cleanup if the child failed starting.\u001b[39;00m\n",
      "File \u001b[1;32m~\\OneDrive - PNNL\\Documents\\anaconda3\\envs\\neuromancer\\lib\\subprocess.py:1435\u001b[0m, in \u001b[0;36mPopen._execute_child\u001b[1;34m(self, args, executable, preexec_fn, close_fds, pass_fds, cwd, env, startupinfo, creationflags, shell, p2cread, p2cwrite, c2pread, c2pwrite, errread, errwrite, unused_restore_signals, unused_gid, unused_gids, unused_uid, unused_umask, unused_start_new_session)\u001b[0m\n\u001b[0;32m   1434\u001b[0m \u001b[38;5;28;01mtry\u001b[39;00m:\n\u001b[1;32m-> 1435\u001b[0m     hp, ht, pid, tid \u001b[38;5;241m=\u001b[39m \u001b[43m_winapi\u001b[49m\u001b[38;5;241;43m.\u001b[39;49m\u001b[43mCreateProcess\u001b[49m\u001b[43m(\u001b[49m\u001b[43mexecutable\u001b[49m\u001b[43m,\u001b[49m\u001b[43m \u001b[49m\u001b[43margs\u001b[49m\u001b[43m,\u001b[49m\n\u001b[0;32m   1436\u001b[0m \u001b[43m                             \u001b[49m\u001b[38;5;66;43;03m# no special security\u001b[39;49;00m\n\u001b[0;32m   1437\u001b[0m \u001b[43m                             \u001b[49m\u001b[38;5;28;43;01mNone\u001b[39;49;00m\u001b[43m,\u001b[49m\u001b[43m \u001b[49m\u001b[38;5;28;43;01mNone\u001b[39;49;00m\u001b[43m,\u001b[49m\n\u001b[0;32m   1438\u001b[0m \u001b[43m                             \u001b[49m\u001b[38;5;28;43mint\u001b[39;49m\u001b[43m(\u001b[49m\u001b[38;5;129;43;01mnot\u001b[39;49;00m\u001b[43m \u001b[49m\u001b[43mclose_fds\u001b[49m\u001b[43m)\u001b[49m\u001b[43m,\u001b[49m\n\u001b[0;32m   1439\u001b[0m \u001b[43m                             \u001b[49m\u001b[43mcreationflags\u001b[49m\u001b[43m,\u001b[49m\n\u001b[0;32m   1440\u001b[0m \u001b[43m                             \u001b[49m\u001b[43menv\u001b[49m\u001b[43m,\u001b[49m\n\u001b[0;32m   1441\u001b[0m \u001b[43m                             \u001b[49m\u001b[43mcwd\u001b[49m\u001b[43m,\u001b[49m\n\u001b[0;32m   1442\u001b[0m \u001b[43m                             \u001b[49m\u001b[43mstartupinfo\u001b[49m\u001b[43m)\u001b[49m\n\u001b[0;32m   1443\u001b[0m \u001b[38;5;28;01mfinally\u001b[39;00m:\n\u001b[0;32m   1444\u001b[0m     \u001b[38;5;66;03m# Child is launched. Close the parent's copy of those pipe\u001b[39;00m\n\u001b[0;32m   1445\u001b[0m     \u001b[38;5;66;03m# handles that only the child should have open.  You need\u001b[39;00m\n\u001b[1;32m   (...)\u001b[0m\n\u001b[0;32m   1448\u001b[0m     \u001b[38;5;66;03m# pipe will not close when the child process exits and the\u001b[39;00m\n\u001b[0;32m   1449\u001b[0m     \u001b[38;5;66;03m# ReadFile will hang.\u001b[39;00m\n",
      "\u001b[1;31mFileNotFoundError\u001b[0m: [WinError 2] The system cannot find the file specified",
      "\nDuring handling of the above exception, another exception occurred:\n",
      "\u001b[1;31mFileNotFoundError\u001b[0m                         Traceback (most recent call last)",
      "Cell \u001b[1;32mIn[21], line 2\u001b[0m\n\u001b[0;32m      1\u001b[0m \u001b[38;5;66;03m# visualize symbolic computational graph\u001b[39;00m\n\u001b[1;32m----> 2\u001b[0m \u001b[43msystem_1\u001b[49m\u001b[38;5;241;43m.\u001b[39;49m\u001b[43mshow\u001b[49m\u001b[43m(\u001b[49m\u001b[43m)\u001b[49m\n",
      "File \u001b[1;32m~\\OneDrive - PNNL\\Documents\\Codes_dev\\neuromancer\\neuromancer\\src\\neuromancer\\system.py:176\u001b[0m, in \u001b[0;36mSystem.show\u001b[1;34m(self, figname)\u001b[0m\n\u001b[0;32m    174\u001b[0m     plot_func[ext](figname)\n\u001b[0;32m    175\u001b[0m \u001b[38;5;28;01melse\u001b[39;00m:\n\u001b[1;32m--> 176\u001b[0m     \u001b[43mgraph\u001b[49m\u001b[38;5;241;43m.\u001b[39;49m\u001b[43mwrite_png\u001b[49m\u001b[43m(\u001b[49m\u001b[38;5;124;43m'\u001b[39;49m\u001b[38;5;124;43msystem_graph.png\u001b[39;49m\u001b[38;5;124;43m'\u001b[39;49m\u001b[43m)\u001b[49m\n\u001b[0;32m    177\u001b[0m     img \u001b[38;5;241m=\u001b[39m mpimg\u001b[38;5;241m.\u001b[39mimread(\u001b[38;5;124m'\u001b[39m\u001b[38;5;124msystem_graph.png\u001b[39m\u001b[38;5;124m'\u001b[39m)\n\u001b[0;32m    178\u001b[0m     os\u001b[38;5;241m.\u001b[39mremove(\u001b[38;5;124m'\u001b[39m\u001b[38;5;124msystem_graph.png\u001b[39m\u001b[38;5;124m'\u001b[39m)\n",
      "File \u001b[1;32m~\\OneDrive - PNNL\\Documents\\anaconda3\\envs\\neuromancer\\lib\\site-packages\\pydot.py:1743\u001b[0m, in \u001b[0;36mDot.__init__.<locals>.new_method\u001b[1;34m(path, f, prog, encoding)\u001b[0m\n\u001b[0;32m   1739\u001b[0m \u001b[38;5;28;01mdef\u001b[39;00m \u001b[38;5;21mnew_method\u001b[39m(\n\u001b[0;32m   1740\u001b[0m         path, f\u001b[38;5;241m=\u001b[39mfrmt, prog\u001b[38;5;241m=\u001b[39m\u001b[38;5;28mself\u001b[39m\u001b[38;5;241m.\u001b[39mprog,\n\u001b[0;32m   1741\u001b[0m         encoding\u001b[38;5;241m=\u001b[39m\u001b[38;5;28;01mNone\u001b[39;00m):\n\u001b[0;32m   1742\u001b[0m \u001b[38;5;250m    \u001b[39m\u001b[38;5;124;03m\"\"\"Refer to docstring of method `write.`\"\"\"\u001b[39;00m\n\u001b[1;32m-> 1743\u001b[0m     \u001b[38;5;28;43mself\u001b[39;49m\u001b[38;5;241;43m.\u001b[39;49m\u001b[43mwrite\u001b[49m\u001b[43m(\u001b[49m\n\u001b[0;32m   1744\u001b[0m \u001b[43m        \u001b[49m\u001b[43mpath\u001b[49m\u001b[43m,\u001b[49m\u001b[43m \u001b[49m\u001b[38;5;28;43mformat\u001b[39;49m\u001b[38;5;241;43m=\u001b[39;49m\u001b[43mf\u001b[49m\u001b[43m,\u001b[49m\u001b[43m \u001b[49m\u001b[43mprog\u001b[49m\u001b[38;5;241;43m=\u001b[39;49m\u001b[43mprog\u001b[49m\u001b[43m,\u001b[49m\n\u001b[0;32m   1745\u001b[0m \u001b[43m        \u001b[49m\u001b[43mencoding\u001b[49m\u001b[38;5;241;43m=\u001b[39;49m\u001b[43mencoding\u001b[49m\u001b[43m)\u001b[49m\n",
      "File \u001b[1;32m~\\OneDrive - PNNL\\Documents\\anaconda3\\envs\\neuromancer\\lib\\site-packages\\pydot.py:1828\u001b[0m, in \u001b[0;36mDot.write\u001b[1;34m(self, path, prog, format, encoding)\u001b[0m\n\u001b[0;32m   1826\u001b[0m         f\u001b[38;5;241m.\u001b[39mwrite(s)\n\u001b[0;32m   1827\u001b[0m \u001b[38;5;28;01melse\u001b[39;00m:\n\u001b[1;32m-> 1828\u001b[0m     s \u001b[38;5;241m=\u001b[39m \u001b[38;5;28;43mself\u001b[39;49m\u001b[38;5;241;43m.\u001b[39;49m\u001b[43mcreate\u001b[49m\u001b[43m(\u001b[49m\u001b[43mprog\u001b[49m\u001b[43m,\u001b[49m\u001b[43m \u001b[49m\u001b[38;5;28;43mformat\u001b[39;49m\u001b[43m,\u001b[49m\u001b[43m \u001b[49m\u001b[43mencoding\u001b[49m\u001b[38;5;241;43m=\u001b[39;49m\u001b[43mencoding\u001b[49m\u001b[43m)\u001b[49m\n\u001b[0;32m   1829\u001b[0m     \u001b[38;5;28;01mwith\u001b[39;00m io\u001b[38;5;241m.\u001b[39mopen(path, mode\u001b[38;5;241m=\u001b[39m\u001b[38;5;124m'\u001b[39m\u001b[38;5;124mwb\u001b[39m\u001b[38;5;124m'\u001b[39m) \u001b[38;5;28;01mas\u001b[39;00m f:\n\u001b[0;32m   1830\u001b[0m         f\u001b[38;5;241m.\u001b[39mwrite(s)\n",
      "File \u001b[1;32m~\\OneDrive - PNNL\\Documents\\anaconda3\\envs\\neuromancer\\lib\\site-packages\\pydot.py:1933\u001b[0m, in \u001b[0;36mDot.create\u001b[1;34m(self, prog, format, encoding)\u001b[0m\n\u001b[0;32m   1930\u001b[0m     args \u001b[38;5;241m=\u001b[39m \u001b[38;5;28mlist\u001b[39m(e\u001b[38;5;241m.\u001b[39margs)\n\u001b[0;32m   1931\u001b[0m     args[\u001b[38;5;241m1\u001b[39m] \u001b[38;5;241m=\u001b[39m \u001b[38;5;124m'\u001b[39m\u001b[38;5;124m\"\u001b[39m\u001b[38;5;132;01m{prog}\u001b[39;00m\u001b[38;5;124m\"\u001b[39m\u001b[38;5;124m not found in path.\u001b[39m\u001b[38;5;124m'\u001b[39m\u001b[38;5;241m.\u001b[39mformat(\n\u001b[0;32m   1932\u001b[0m         prog\u001b[38;5;241m=\u001b[39mprog)\n\u001b[1;32m-> 1933\u001b[0m     \u001b[38;5;28;01mraise\u001b[39;00m \u001b[38;5;167;01mOSError\u001b[39;00m(\u001b[38;5;241m*\u001b[39margs)\n\u001b[0;32m   1934\u001b[0m \u001b[38;5;28;01melse\u001b[39;00m:\n\u001b[0;32m   1935\u001b[0m     \u001b[38;5;28;01mraise\u001b[39;00m\n",
      "\u001b[1;31mFileNotFoundError\u001b[0m: [WinError 2] \"dot\" not found in path."
     ]
    }
   ],
   "source": [
    "# visualize symbolic computational graph\n",
    "system_1.show()"
   ]
  },
  {
   "cell_type": "code",
   "execution_count": null,
   "id": "2dbe87c4",
   "metadata": {},
   "outputs": [],
   "source": [
    "# 2, close the loop by creating recursion in one of the nodes\n",
    "nodes[2].output_keys = ['y1']\n",
    "# create new system with cyclic computational graph\n",
    "system_2 = System(nodes, nsteps=nsteps)\n",
    "# print input and output keys\n",
    "print(system_2.input_keys)\n",
    "print(system_2.output_keys)\n",
    "# evaluate forward pass of the System with 3D input dataset\n",
    "print(system_1({'x1': torch.rand(batch, nsteps, 1),\n",
    "                'x2': torch.rand(batch, nsteps, 2)}))"
   ]
  },
  {
   "cell_type": "code",
   "execution_count": null,
   "id": "f87c70a3",
   "metadata": {},
   "outputs": [],
   "source": [
    "# visualize symbolic computational graph\n",
    "system_1.show()"
   ]
  },
  {
   "cell_type": "code",
   "execution_count": null,
   "id": "0743d582",
   "metadata": {},
   "outputs": [],
   "source": []
  }
 ],
 "metadata": {
  "kernelspec": {
   "display_name": "neuromancer",
   "language": "python",
   "name": "neuromancer"
  },
  "language_info": {
   "codemirror_mode": {
    "name": "ipython",
    "version": 3
   },
   "file_extension": ".py",
   "mimetype": "text/x-python",
   "name": "python",
   "nbconvert_exporter": "python",
   "pygments_lexer": "ipython3",
   "version": "3.10.4"
  }
 },
 "nbformat": 4,
 "nbformat_minor": 5
}
